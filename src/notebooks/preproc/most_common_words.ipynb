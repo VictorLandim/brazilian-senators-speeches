{
 "metadata": {
  "language_info": {
   "codemirror_mode": {
    "name": "ipython",
    "version": 3
   },
   "file_extension": ".py",
   "mimetype": "text/x-python",
   "name": "python",
   "nbconvert_exporter": "python",
   "pygments_lexer": "ipython3",
   "version": "3.9.5"
  },
  "orig_nbformat": 4,
  "kernelspec": {
   "name": "python3",
   "display_name": "Python 3.9.5 64-bit ('3.9.5')"
  },
  "interpreter": {
   "hash": "70e20990777d2fec21eba7e2810e1f9787ba9eb35ed1a4ced32cf3c648f38306"
  }
 },
 "nbformat": 4,
 "nbformat_minor": 2,
 "cells": [
  {
   "cell_type": "code",
   "execution_count": 1,
   "metadata": {},
   "outputs": [],
   "source": [
    "from gensim.models.wrappers import LdaMallet\n",
    "from gensim.corpora.dictionary import Dictionary\n",
    "import pandas as pd\n",
    "import numpy as np\n",
    "import pickle"
   ]
  },
  {
   "cell_type": "code",
   "execution_count": 4,
   "metadata": {},
   "outputs": [],
   "source": [
    "os.chdir(\"/Users/victor/Documents/tcc/new_discursos/src\")\n",
    "speeches_all = pickle.load(open(\"data/speeches_all_preproc_filtered.pickle\", \"rb\"))\n",
    "texts = [speech[\"text\"].split() for speech in speeches_all]\n",
    "\n",
    "dictionary = Dictionary(texts)\n",
    "corpus = [dictionary.doc2bow(t) for t in texts]"
   ]
  },
  {
   "cell_type": "code",
   "execution_count": 5,
   "metadata": {},
   "outputs": [
    {
     "output_type": "stream",
     "name": "stdout",
     "text": [
      "         freq\nde    4906389\nque   3841319\na     3543289\no     3208496\ne     2690539\ndo    2373754\nda    1751475\npara  1395332\nem    1131310\né     1120506\num    1070077\nnão   1067734\ncom   1044999\n-     1000014\numa    912218\nno     891820\nos     818772\nna     702825\nO      697711\nse     683971\n"
     ]
    }
   ],
   "source": [
    "dict_corpus = {}\n",
    "\n",
    "for i in range(len(corpus)):\n",
    "    for idx, freq in corpus[i]:\n",
    "        if dictionary[idx] in dict_corpus:\n",
    "            dict_corpus[dictionary[idx]] += freq\n",
    "        else:\n",
    "            dict_corpus[dictionary[idx]] = freq\n",
    "\n",
    "dict_df = pd.DataFrame.from_dict(dict_corpus, orient='index', columns=['freq'])\n",
    "print(dict_df.sort_values('freq', ascending=False).head(20))\n"
   ]
  },
  {
   "cell_type": "code",
   "execution_count": null,
   "metadata": {},
   "outputs": [],
   "source": []
  }
 ]
}