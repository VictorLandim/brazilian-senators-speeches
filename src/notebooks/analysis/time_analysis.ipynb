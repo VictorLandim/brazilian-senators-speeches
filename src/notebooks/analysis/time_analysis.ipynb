{
 "metadata": {
  "language_info": {
   "codemirror_mode": {
    "name": "ipython",
    "version": 3
   },
   "file_extension": ".py",
   "mimetype": "text/x-python",
   "name": "python",
   "nbconvert_exporter": "python",
   "pygments_lexer": "ipython3",
   "version": "3.9.2"
  },
  "orig_nbformat": 2,
  "kernelspec": {
   "name": "python392jvsc74a57bd00b660ded8ff8447da09d07df3afd24bbf4f0ee8665280624e7cc86e626af81de",
   "display_name": "Python 3.9.2 64-bit"
  },
  "metadata": {
   "interpreter": {
    "hash": "0b660ded8ff8447da09d07df3afd24bbf4f0ee8665280624e7cc86e626af81de"
   }
  }
 },
 "nbformat": 4,
 "nbformat_minor": 2,
 "cells": [
  {
   "cell_type": "code",
   "execution_count": 1,
   "metadata": {},
   "outputs": [],
   "source": [
    "import pickle\n",
    "from gensim.models.wrappers import LdaMallet, ldamallet\n",
    "import numpy as np\n",
    "import pandas as pd\n",
    "import os\n",
    "import datetime"
   ]
  },
  {
   "cell_type": "code",
   "execution_count": 2,
   "metadata": {},
   "outputs": [],
   "source": [
    "def display_single_lda_topic(lda: LdaMallet, topic: int):\n",
    "    topic = \", \".join([x[0] for x in lda.show_topic(topic)]) \n",
    "\n",
    "    return topic"
   ]
  },
  {
   "cell_type": "code",
   "execution_count": 3,
   "metadata": {},
   "outputs": [],
   "source": [
    "def display_lda_topics(lda: LdaMallet):\n",
    "    num_topics = lda.num_topics\n",
    "    topics = [\n",
    "        (i, \n",
    "            \", \".join([x[0] for x in lda.show_topic(i)]) \n",
    "        )\n",
    "        for i in range(num_topics)\n",
    "    ]\n",
    "    return topics"
   ]
  },
  {
   "cell_type": "code",
   "execution_count": 4,
   "metadata": {},
   "outputs": [],
   "source": [
    "def get_docs_topics(lda: LdaMallet, topic_threshold=0.01):\n",
    "    \"\"\"\n",
    "    Remove topics with small contribution, default = 1%.\n",
    "    Read topics from model_data/doctopics.txt\n",
    "    \"\"\"\n",
    "\n",
    "    lda_doc_topics = lda.read_doctopics(\n",
    "        lda.fdoctopics(), eps=topic_threshold, renorm=True\n",
    "    )\n",
    "\n",
    "    doc_topics = [\n",
    "        x\n",
    "        for x in lda_doc_topics\n",
    "    ]\n",
    "\n",
    "    return doc_topics"
   ]
  },
  {
   "cell_type": "code",
   "execution_count": 7,
   "metadata": {},
   "outputs": [],
   "source": [
    "MODEL         = \"data/models/100_it_10000/model\"\n",
    "# CORPUS        = \"data/corpus_final.pickle\"\n",
    "DISCS_RAW     = \"data/discursos_raw_all.pickle\"\n",
    "\n",
    "TIME_INTERVAL = 365/2 # 6 months\n",
    "START_OFFSET  = 0\n",
    "END_OFFSET    = 0"
   ]
  },
  {
   "cell_type": "code",
   "execution_count": 8,
   "metadata": {},
   "outputs": [
    {
     "output_type": "error",
     "ename": "FileNotFoundError",
     "evalue": "[Errno 2] No such file or directory: 'data/discursos_raw_all.pickle'",
     "traceback": [
      "\u001b[1;31m---------------------------------------------------------------------------\u001b[0m",
      "\u001b[1;31mFileNotFoundError\u001b[0m                         Traceback (most recent call last)",
      "\u001b[1;32m<ipython-input-8-92b54de5dd84>\u001b[0m in \u001b[0;36m<module>\u001b[1;34m\u001b[0m\n\u001b[0;32m      7\u001b[0m \u001b[1;33m\u001b[0m\u001b[0m\n\u001b[0;32m      8\u001b[0m \u001b[1;31m# corpus = pickle.load(open(CORPUS, \"rb\"))\u001b[0m\u001b[1;33m\u001b[0m\u001b[1;33m\u001b[0m\u001b[1;33m\u001b[0m\u001b[0m\n\u001b[1;32m----> 9\u001b[1;33m \u001b[0mraw\u001b[0m \u001b[1;33m=\u001b[0m \u001b[0mpickle\u001b[0m\u001b[1;33m.\u001b[0m\u001b[0mload\u001b[0m\u001b[1;33m(\u001b[0m\u001b[0mopen\u001b[0m\u001b[1;33m(\u001b[0m\u001b[0mDISCS_RAW\u001b[0m\u001b[1;33m,\u001b[0m \u001b[1;34m\"rb\"\u001b[0m\u001b[1;33m)\u001b[0m\u001b[1;33m)\u001b[0m\u001b[1;33m\u001b[0m\u001b[1;33m\u001b[0m\u001b[0m\n\u001b[0m",
      "\u001b[1;31mFileNotFoundError\u001b[0m: [Errno 2] No such file or directory: 'data/discursos_raw_all.pickle'"
     ]
    }
   ],
   "source": [
    "os.chdir(\"X:/Victor/Documents/TCC/new_discursos/src\")\n",
    "lda = LdaMallet.load(MODEL)\n",
    "lda.mallet_path = \"lib\\\\mallet-2.0.8\\\\bin\\\\mallet\"\n",
    "os.environ['MALLET_HOME'] = 'X:\\\\Programs\\\\Java\\\\mallet\\\\mallet-2.0.8'\n",
    "\n",
    "docs_topics = get_docs_topics(lda)\n",
    "\n",
    "# corpus = pickle.load(open(CORPUS, \"rb\"))\n",
    "raw = pickle.load(open(DISCS_RAW, \"rb\"))"
   ]
  },
  {
   "cell_type": "code",
   "execution_count": 7,
   "metadata": {},
   "outputs": [
    {
     "output_type": "execute_result",
     "data": {
      "text/plain": [
       "75060"
      ]
     },
     "metadata": {},
     "execution_count": 7
    }
   ],
   "source": [
    "valid_discs = [\n",
    "    disc\n",
    "    for disc in raw if disc[\"Conteudo\"] != ''\n",
    "]\n",
    "len(valid_discs)"
   ]
  },
  {
   "cell_type": "code",
   "execution_count": 8,
   "metadata": {},
   "outputs": [],
   "source": [
    "dates = [x[\"IdentificacaoPronunciamento\"][\"DataPronunciamento\"] for x in valid_discs]"
   ]
  },
  {
   "cell_type": "code",
   "execution_count": 9,
   "metadata": {},
   "outputs": [
    {
     "output_type": "execute_result",
     "data": {
      "text/plain": [
       "75060"
      ]
     },
     "metadata": {},
     "execution_count": 9
    }
   ],
   "source": [
    "len(dates)"
   ]
  },
  {
   "cell_type": "code",
   "execution_count": 10,
   "metadata": {},
   "outputs": [],
   "source": [
    "dates = [\n",
    "    (i, d)\n",
    "    for i, d in enumerate(dates)\n",
    "]"
   ]
  },
  {
   "cell_type": "code",
   "execution_count": 11,
   "metadata": {},
   "outputs": [],
   "source": [
    "sorted_dates = sorted(\n",
    "    dates,\n",
    "    key=lambda x: x[1]\n",
    ")"
   ]
  },
  {
   "cell_type": "code",
   "execution_count": 12,
   "metadata": {},
   "outputs": [
    {
     "output_type": "execute_result",
     "data": {
      "text/plain": [
       "(63637, '2020-02-17')"
      ]
     },
     "metadata": {},
     "execution_count": 12
    }
   ],
   "source": [
    "last = len(sorted_dates) - 1\n",
    "\n",
    "sorted_dates[last]"
   ]
  },
  {
   "cell_type": "code",
   "execution_count": 13,
   "metadata": {},
   "outputs": [],
   "source": [
    "discs = sorted_dates[START_OFFSET: last - END_OFFSET]"
   ]
  },
  {
   "cell_type": "code",
   "execution_count": 14,
   "metadata": {},
   "outputs": [],
   "source": [
    "disc_topics = [\n",
    "    (i, d, docs_topics[i])\n",
    "    for (i, d) in discs\n",
    "]"
   ]
  },
  {
   "cell_type": "code",
   "execution_count": 66,
   "metadata": {},
   "outputs": [],
   "source": [
    "disc_topics = [\n",
    "    (i, d, \n",
    "        sorted(t, key=lambda x: x[1], reverse=True)[0:5] # take top 5 topics\n",
    "    )\n",
    "    for (i, d, t) in disc_topics\n",
    "]"
   ]
  },
  {
   "cell_type": "code",
   "execution_count": 67,
   "metadata": {},
   "outputs": [
    {
     "output_type": "execute_result",
     "data": {
      "text/plain": [
       "(59602,\n",
       " '2020-02-17',\n",
       " [(26, 0.1321626617375231),\n",
       "  (60, 0.12846580406654345),\n",
       "  (77, 0.11552680221811461)])"
      ]
     },
     "metadata": {},
     "execution_count": 67
    }
   ],
   "source": [
    "disc_topics[last - 1]"
   ]
  },
  {
   "cell_type": "code",
   "execution_count": 9,
   "metadata": {},
   "outputs": [
    {
     "output_type": "execute_result",
     "data": {
      "text/plain": [
       "[(0,\n",
       "  'educacao, escola, professor, ensino, alunos, qualidade, fundamental, estudo, medio, educacional'),\n",
       " (1,\n",
       "  'pronunciamento, permite, assunto, prazo, ouco, oportunidade, conhecimento, concede, exas, ouvi'),\n",
       " (2,\n",
       "  'mundo, paises, unidos, estados, internacional, nacoes, americano, europa, china, norteamericano'),\n",
       " (3,\n",
       "  'pequenos, santacatarina, empresas, empreendimentos, empresarios, emprego, colegas, catarinense, cooperativas, micro'),\n",
       " (4,\n",
       "  'comunicacao, internet, acesso, servicos, radio, telefone, informacao, televisao, cidadao, informacoes'),\n",
       " (5,\n",
       "  'minutos, tribuna, interrupcao, queremos, belo, mostra, concluir, paraense, pedido, pronunciamento'),\n",
       " (6,\n",
       "  'saude, medico, hospital, atender, profissionais, medicina, populacao, pacientes, servicos, plano'),\n",
       " (7,\n",
       "  'problema, resolver, solucao, precisamos, encontro, busca, dificuldades, enfrentar, situacao, condicoes'),\n",
       " (8,\n",
       "  'agraria, assentamentos, trabalho, propriedade, reforma, terras, rural, movimento, incra, familia'),\n",
       " (9,\n",
       "  'conta, publica, tribuna, fiscal, uniao, controle, fiscalizacao, responsabilidade, contratos, transparencia'),\n",
       " (10,\n",
       "  'partido, lider, oposicao, politica, lideranca, base, deputados, companheiros, respeito, nacional'),\n",
       " (11,\n",
       "  'etica, decisao, respeito, processo, tomou, responsabilidade, opiniao, devemos, sentido, duvida'),\n",
       " (12,\n",
       "  'verdade, contrario, pretende, tentativa, realidade, pratica, afirmou, certo, perda, interesse'),\n",
       " (13,\n",
       "  'policia, seguranca, violencia, armas, drogas, crime, combate, publica, trafico, morte'),\n",
       " (14,\n",
       "  'federal, servicos, distritofederal, greve, publica, categoria, carreira, apelo, militar, rondonia'),\n",
       " (15,\n",
       "  'estados, federal, municipios, uniao, fundo, recursos, federacao, participacao, pacto, receita'),\n",
       " (16,\n",
       "  'saopaulo, dialogo, realizar, respeito, basica, renda, maneira, direito, considero, receber'),\n",
       " (17,\n",
       "  'agua, pesca, saneamento, recursos, esgoto, hidricos, rios, problema, lixo, bacia'),\n",
       " (18,\n",
       "  'programa, pobres, familia, social, renda, milhoes, bolsa, fome, beneficios, populacao'),\n",
       " (19,\n",
       "  'bahia, baiano, oportunidade, chamado, cidade, passado, diversos, chega, possamos, permite'),\n",
       " (20,\n",
       "  'nacional, entidades, realizar, participar, representantes, evento, sociedade, social, participacao, movimento'),\n",
       " (21,\n",
       "  'direito, constituicao, estabelecer, normas, legal, juridica, constitucional, principio, legislacao, decreto'),\n",
       " (22,\n",
       "  'parlamentar, campainha, resistencia, democracia, tema, falou, discursos, tirar, social, repito'),\n",
       " (23,\n",
       "  'industria, produtores, comercio, setor, mercado, economia, comercial, exportador, producao, emprego'),\n",
       " (24,\n",
       "  'universidade, curso, estudo, ensino, federal, profissionais, superior, professor, educacao, tecnica'),\n",
       " (25,\n",
       "  'homem, politica, vida, homenagem, amigo, figura, falecimento, deixou, historia, pesar'),\n",
       " (26,\n",
       "  'social, politica, sociedade, economia, mundo, seculo, futuro, processo, capital, realidade'),\n",
       " (27,\n",
       "  'projeto, aprovado, apresentar, aprovacao, autoria, comissao, deputados, proposta, tramita, assunto'),\n",
       " (28,\n",
       "  'ambiente, ambiental, floresta, amazonia, desenvolvimento, desmatamento, preservacao, natureza, sustentavel, areas'),\n",
       " (29,\n",
       "  'paises, america, venezuela, mercosul, argentina, relacoes, politica, exterior, bolivia, latina'),\n",
       " (30,\n",
       "  'corrupcao, publica, politica, dinheiro, escandalo, etica, moral, combate, roubo, limpa'),\n",
       " (31,\n",
       "  'crime, penal, pena, presentes, cometeu, justica, prisao, criminosos, codigo, sociedade'),\n",
       " (32,\n",
       "  'comissao, assunto, reuniao, trabalho, comissoes, preside, participar, membros, plenario, amanha'),\n",
       " (33,\n",
       "  'servicos, carga, administrativa, administracao, funcionarios, publica, agencia, gestao, orgaos, atividade'),\n",
       " (34,\n",
       "  'obras, construcao, construir, projeto, milhoes, concluir, ponte, metros, engenharia, federal'),\n",
       " (35,\n",
       "  'socialismo, campainha, tema, processo, impeachment, politica, golpe, republica, michel, lava'),\n",
       " (36,\n",
       "  'trabalho, honra, amigo, politica, vida, companheiros, agradecer, homem, oportunidade, conhecimento'),\n",
       " (37,\n",
       "  'dinheiro, pagar, compra, gastos, milhoes, conta, receber, vendo, tirar, verdade'),\n",
       " (38,\n",
       "  'forca, militar, exercito, armas, marinha, comandante, nacional, genero, defesa, soldados'),\n",
       " (39,\n",
       "  'amazonia, amazonas, regiao, amapa, manaus, zona, estados, desenvolvimento, territorio, fronteira'),\n",
       " (40,\n",
       "  'medida, provisoria, congresso, prazo, materia, aprovado, edital, urgencia, adotar, lider'),\n",
       " (41,\n",
       "  'cultura, livro, musica, arte, festa, belo, escritor, historia, cidade, obras'),\n",
       " (42,\n",
       "  'denuncia, investigar, investigacao, policia, inquerito, fatos, federal, envolvendo, apurar, sigilo'),\n",
       " (43,\n",
       "  'falou, acontecendo, fico, comeca, pensamento, erro, certo, passado, fizeram, vejo'),\n",
       " (44,\n",
       "  'candidato, eleitoral, voto, campanha, partido, eleicao, eleicoes, politica, eleito, eleitores'),\n",
       " (45,\n",
       "  'petrobras, petroleo, presentes, empresas, exploracao, vale, refinaria, bilhoes, producao, riqueza'),\n",
       " (46,\n",
       "  'trabalho, emprego, direito, desemprego, sindical, escravo, sindicato, social, horas, condicoes'),\n",
       " (47,\n",
       "  'publica, servicos, cidadao, populacao, sociedade, privada, defensor, agentes, seguranca, social'),\n",
       " (48,\n",
       "  'indigenas, roraima, indios, reserva, terras, povos, comunidade, federal, territorio, funai'),\n",
       " (49,\n",
       "  'parana, acidentes, civil, defesa, transito, atingir, perda, tragedia, ocorreu, morte'),\n",
       " (50,\n",
       "  'homenagem, comemorar, reconhecimento, registro, data, trabalho, prestar, especial, historia, premio'),\n",
       " (51,\n",
       "  'previdencia, aposentados, social, aposentadoria, trabalho, beneficios, fatos, seguro, previdenciario, pensionistas'),\n",
       " (52,\n",
       "  'voto, materia, votacao, lider, plenario, acordo, pauta, amanha, entendimento, apelo'),\n",
       " (53,\n",
       "  'respeito, solidariedade, defender, homem, maneira, conhecimento, atitude, aceitar, verdade, pessoa'),\n",
       " (54,\n",
       "  'tributaria, imposto, receita, fiscal, pagar, aumento, carga, cpmf, arrecadacao, renda'),\n",
       " (55,\n",
       "  'minimo, salario, aumento, ganhar, reajuste, realidade, trabalho, pagar, salarial, receber'),\n",
       " (56,\n",
       "  'deficiencia, pessoa, direito, idosos, sergipe, estatuto, portos, humanos, social, especial'),\n",
       " (57,\n",
       "  'programa, desenvolvimento, acoes, plano, politica, nacional, social, objetivo, integra, iniciativa'),\n",
       " (58,\n",
       "  'produtores, agricultura, rural, producao, agricultores, agricola, familiar, pequenos, campainha, setor'),\n",
       " (59,\n",
       "  'democracia, direito, democratico, liberdade, luta, politica, movimento, militar, ditadura, regime'),\n",
       " (60,\n",
       "  'tecnologia, pesquisa, ciencia, desenvolvimento, cientifica, conhecimento, instituto, central, humanos, nacional'),\n",
       " (61,\n",
       "  'mundo, jogo, copa, futebol, esporte, clube, torcendo, evento, time, estadio'),\n",
       " (62,\n",
       "  'transporte, estradas, rodovias, ferrovia, trecho, infraestrutura, portos, quilometros, federal, carga'),\n",
       " (63,\n",
       "  'dilma, presidenta, ministra, rousseff, trabalho, registro, politica, avanco, lula, anunciou'),\n",
       " (64,\n",
       "  'recursos, orcamento, milhoes, bilhoes, gastos, investimentos, destino, fundo, orcamentaria, aplicados'),\n",
       " (65,\n",
       "  'necessidade, atividade, atual, condicoes, diversos, efeito, constitui, alcancar, elevado, resultado'),\n",
       " (66,\n",
       "  'mulheres, negros, violencia, racial, direito, homem, luta, igualdade, politica, sociedade'),\n",
       " (67,\n",
       "  'familia, deus, filhos, falou, vida, homem, amigo, conhecimento, tirar, morreu'),\n",
       " (68,\n",
       "  'criancas, jovens, adolescentes, juventude, idade, familia, infantil, direito, menino, vida'),\n",
       " (69,\n",
       "  'materia, pronunciamento, interno, documento, referida, termos, regimento, refere, inserido, integra'),\n",
       " (70,\n",
       "  'dados, indice, crescimento, pesquisa, aumento, populacao, resultado, ultimos, mostra, milhoes'),\n",
       " (71,\n",
       "  'municipios, prefeito, cidade, municipal, vereadores, populacao, capital, federal, habitantes, estadual'),\n",
       " (72,\n",
       "  'debate, tema, discutir, discussao, precisamos, assunto, proposta, questoes, possamos, trazer'),\n",
       " (73,\n",
       "  'vida, luta, vivendo, sonho, esperanca, sentido, homem, historia, amor, coracao'),\n",
       " (74,\n",
       "  'banco, financiamento, divida, credito, pagar, emprestimo, caixa, fundo, bndes, economia'),\n",
       " (75,\n",
       "  'saude, doenca, cancer, tratamento, casos, combate, medico, causa, mundo, prevencao'),\n",
       " (76,\n",
       "  'matogrosso, goias, tocantins, matogrossodosul, goiania, cidade, regiao, federal, estados, cuiaba'),\n",
       " (77,\n",
       "  'emenda, proposta, aprovado, constituicao, veto, apresentar, deputados, texto, constitucional, comissao'),\n",
       " (78,\n",
       "  'acre, trabalho, branco, passado, ajudar, sentido, vivendo, junto, conta, situacao'),\n",
       " (79,\n",
       "  'turismo, aeroporto, aereo, passado, aviao, aviacao, turistico, viagem, varig, passageiros'),\n",
       " (80,\n",
       "  'piaui, deus, homem, teresina, mentira, verdade, melhor, parnaiba, trabalho, prefeito'),\n",
       " (81,\n",
       "  'requerimento, ordem, assinado, pedido, encaminhar, documento, carta, solicito, receber, assinatura'),\n",
       " (82,\n",
       "  'lula, republica, oposicao, lider, palacio, passado, planalto, petista, ministra, expresidente'),\n",
       " (83,\n",
       "  'desenvolvimento, regiao, regional, regioes, nordeste, economia, sudeste, centrooeste, nacional, desigualdades'),\n",
       " (84,\n",
       "  'politica, reforma, proposta, financiamento, mudanca, sociedade, publica, populacao, partido, avanco'),\n",
       " (85,\n",
       "  'economia, juros, taxa, crescimento, inflacao, aumento, politica, bilhoes, fiscal, divida'),\n",
       " (86,\n",
       "  'crise, economia, enfrentar, vivendo, passado, perda, politica, situacao, medida, grave'),\n",
       " (87,\n",
       "  'tribuna, justica, supremo, federal, processo, juiz, decisao, julgamento, judiciario, direito'),\n",
       " (88,\n",
       "  'nordeste, paraiba, pernambuco, ceara, alagoas, riograndedonorte, nordestino, seca, regiao, agua'),\n",
       " (89,\n",
       "  'nacional, congresso, legislativo, federal, deputados, republica, executivo, parlamentar, parlamento, assembleia'),\n",
       " (90,\n",
       "  'situacao, grave, lamentavelmente, problema, sofrimento, apelo, acontecendo, providencias, alerta, tomou'),\n",
       " (91,\n",
       "  'igreja, vida, humanos, deus, catolica, padre, religiosa, papa, fraternidade, cristo'),\n",
       " (92,\n",
       "  'ministerio, federal, publica, nacional, procurar, republica, acao, orgaos, trabalho, fazenda'),\n",
       " (93,\n",
       "  'produtores, producao, produzir, alimentos, agricultura, soja, carne, milhoes, plantar, preco'),\n",
       " (94,\n",
       "  'energia, rondonia, eletrica, usinas, hidreletricas, energetica, geracao, gerar, velho, consumo'),\n",
       " (95,\n",
       "  'investimentos, crescimento, economia, setor, desenvolvimento, infraestrutura, emprego, gerar, melhor, privada'),\n",
       " (96,\n",
       "  'riograndedosul, alegria, gaucho, receber, trabalho, falou, registro, movimento, debate, lembrar'),\n",
       " (97,\n",
       "  'saopaulo, riodejaneiro, minasgerais, espiritosanto, minimo, cidade, belo, capital, vitoria, horizonte'),\n",
       " (98,\n",
       "  'jornal, jornalista, imprensa, publicada, reportagem, revista, globo, folha, noticia, materia'),\n",
       " (99,\n",
       "  'empresas, consumo, privada, mercado, preco, setor, vendo, nacional, privatizacao, contratos')]"
      ]
     },
     "metadata": {},
     "execution_count": 9
    }
   ],
   "source": [
    "display_lda_topics(lda)"
   ]
  },
  {
   "cell_type": "code",
   "execution_count": 69,
   "metadata": {},
   "outputs": [],
   "source": [
    "def generate_topic_plot(\n",
    "    disc_topics,\n",
    "    topic\n",
    "):\n",
    "    filtered_speeches = [\n",
    "        (i, d, \n",
    "            list(filter(lambda x: x[0] == topic, t))\n",
    "        )\n",
    "        for (i, d, t) in disc_topics\n",
    "    ]\n",
    "\n",
    "    # take only speeches with non empty topic list\n",
    "    filtered_speeches = list(\n",
    "        filter(\n",
    "            lambda x: len(x[2]) > 0,\n",
    "            filtered_speeches\n",
    "        )\n",
    "    )\n",
    "\n",
    "    df = pd.DataFrame(filtered_speeches, columns=[\"id\", \"date\", \"topics\"])\n",
    "    df['date'] = pd.to_datetime(df['date'])\n",
    "    df['year'] = df['date'].dt.year\n",
    "    df['day'] = df['date'].dt.day\n",
    "\n",
    "    df_grouped = df.groupby(df['year'])['id'].nunique()\n",
    "    \n",
    "    # df.info()\n",
    "    xticks = df_grouped.index.to_list()\n",
    "    # yticks = df_grouped.values.tolist()\n",
    "\n",
    "    plot = df_grouped.plot(marker='o', linestyle='-', grid=True, figsize=(17,7))\n",
    "\n",
    "    plot.set_title(\"Topic {}\\n{}\".format(\n",
    "        topic, display_single_lda_topic(lda, topic))\n",
    "        )\n",
    "\n",
    "    plot.set_xticks(xticks)\n",
    "    # plot.set_yticks(yticks)\n",
    "\n",
    "    plot.xaxis.set_tick_params(rotation=45)\n",
    "\n",
    "    outdir = \"results/time_topics\"\n",
    "\n",
    "    fig = plot.get_figure()\n",
    "    # fig.autofmt_xdate(bottom=0.2, rotation=90, ha='right')\n",
    "\n",
    "    fig.savefig(\"{}/topic_{}.png\".format(outdir, topic))\n",
    "    fig.clf()\n",
    "\n",
    "\n",
    "    \n",
    "# generate_topic_plot(disc_topics=disc_topics, topic=0)"
   ]
  },
  {
   "cell_type": "code",
   "execution_count": 19,
   "metadata": {},
   "outputs": [
    {
     "output_type": "display_data",
     "data": {
      "text/plain": "<Figure size 1224x504 with 0 Axes>"
     },
     "metadata": {}
    }
   ],
   "source": [
    "for topic in range(0, 100):\n",
    "    generate_topic_plot(disc_topics=disc_topics, topic=topic)\n"
   ]
  },
  {
   "cell_type": "code",
   "execution_count": 84,
   "metadata": {},
   "outputs": [
    {
     "output_type": "execute_result",
     "data": {
      "text/plain": [
       "[(32151, '1980-12-05', [21, 25, 88]),\n",
       " (39526, '1988-03-15', [78, 8, 87]),\n",
       " (13169, '1994-01-03', [60, 52, 7]),\n",
       " (51924, '1994-01-03', [27, 70, 81]),\n",
       " (21931, '1994-01-05', [93, 7, 40]),\n",
       " (27418, '1994-01-05', [93, 7, 97]),\n",
       " (46482, '1994-01-05', [80, 7, 82]),\n",
       " (34616, '1994-01-06', [4, 66, 95]),\n",
       " (47872, '1994-01-06', [4, 7, 61]),\n",
       " (20525, '1994-01-10', [20, 29, 38])]"
      ]
     },
     "metadata": {},
     "execution_count": 84
    }
   ],
   "source": [
    "disc_topics2 = [\n",
    "    (\n",
    "        id,\n",
    "        date,\n",
    "        [x[0] for x in topics]\n",
    "    )\n",
    "    for (id, date, topics) in disc_topics\n",
    "]\n",
    "disc_topics2[0:10]"
   ]
  },
  {
   "cell_type": "code",
   "execution_count": 91,
   "metadata": {},
   "outputs": [
    {
     "output_type": "execute_result",
     "data": {
      "text/plain": [
       "[(27197, '1994-01-26', [78, 8, 12]),\n",
       " (53088, '1994-03-14', [12, 99, 37]),\n",
       " (42150, '1994-04-14', [24, 7, 12]),\n",
       " (42158, '1994-04-18', [35, 52, 12]),\n",
       " (46471, '1994-05-23', [35, 12, 61]),\n",
       " (21029, '1995-01-05', [12, 61, 96]),\n",
       " (28224, '1995-01-18', [33, 12, 36]),\n",
       " (33201, '1995-01-26', [12, 93, 8]),\n",
       " (21926, '1995-02-16', [12, 62, 1]),\n",
       " (16925, '1995-03-09', [66, 7, 12])]"
      ]
     },
     "metadata": {},
     "execution_count": 91
    }
   ],
   "source": [
    "filtered_speeches = [\n",
    "    (\n",
    "        id, \n",
    "        date, \n",
    "        topics\n",
    "    )\n",
    "    for (id, date, topics) in disc_topics2\n",
    "    if topic in topics\n",
    "]\n",
    "len(filtered_speeches)\n"
   ]
  },
  {
   "cell_type": "code",
   "execution_count": 93,
   "metadata": {},
   "outputs": [
    {
     "output_type": "display_data",
     "data": {
      "text/plain": "<Figure size 1224x504 with 1 Axes>",
      "image/svg+xml": "<?xml version=\"1.0\" encoding=\"utf-8\" standalone=\"no\"?>\r\n<!DOCTYPE svg PUBLIC \"-//W3C//DTD SVG 1.1//EN\"\r\n  \"http://www.w3.org/Graphics/SVG/1.1/DTD/svg11.dtd\">\r\n<!-- Created with matplotlib (https://matplotlib.org/) -->\r\n<svg height=\"468.99296pt\" version=\"1.1\" viewBox=\"0 0 985.903125 468.99296\" width=\"985.903125pt\" xmlns=\"http://www.w3.org/2000/svg\" xmlns:xlink=\"http://www.w3.org/1999/xlink\">\r\n <metadata>\r\n  <rdf:RDF xmlns:cc=\"http://creativecommons.org/ns#\" xmlns:dc=\"http://purl.org/dc/elements/1.1/\" xmlns:rdf=\"http://www.w3.org/1999/02/22-rdf-syntax-ns#\">\r\n   <cc:Work>\r\n    <dc:type rdf:resource=\"http://purl.org/dc/dcmitype/StillImage\"/>\r\n    <dc:date>2021-04-04T11:35:08.189307</dc:date>\r\n    <dc:format>image/svg+xml</dc:format>\r\n    <dc:creator>\r\n     <cc:Agent>\r\n      <dc:title>Matplotlib v3.3.4, https://matplotlib.org/</dc:title>\r\n     </cc:Agent>\r\n    </dc:creator>\r\n   </cc:Work>\r\n  </rdf:RDF>\r\n </metadata>\r\n <defs>\r\n  <style type=\"text/css\">*{stroke-linecap:butt;stroke-linejoin:round;}</style>\r\n </defs>\r\n <g id=\"figure_1\">\r\n  <g id=\"patch_1\">\r\n   <path d=\"M 0 468.99296 \r\nL 985.903125 468.99296 \r\nL 985.903125 0 \r\nL 0 0 \r\nz\r\n\" style=\"fill:none;\"/>\r\n  </g>\r\n  <g id=\"axes_1\">\r\n   <g id=\"patch_2\">\r\n    <path d=\"M 30.103125 416.2755 \r\nL 978.703125 416.2755 \r\nL 978.703125 35.7555 \r\nL 30.103125 35.7555 \r\nz\r\n\" style=\"fill:#ffffff;\"/>\r\n   </g>\r\n   <g id=\"matplotlib.axis_1\">\r\n    <g id=\"xtick_1\">\r\n     <g id=\"line2d_1\">\r\n      <path clip-path=\"url(#p4ed9a11e39)\" d=\"M 73.221307 416.2755 \r\nL 73.221307 35.7555 \r\n\" style=\"fill:none;stroke:#b0b0b0;stroke-linecap:square;stroke-width:0.8;\"/>\r\n     </g>\r\n     <g id=\"line2d_2\">\r\n      <defs>\r\n       <path d=\"M 0 0 \r\nL 0 3.5 \r\n\" id=\"m5fe9fd1703\" style=\"stroke:#000000;stroke-width:0.8;\"/>\r\n      </defs>\r\n      <g>\r\n       <use style=\"stroke:#000000;stroke-width:0.8;\" x=\"73.221307\" xlink:href=\"#m5fe9fd1703\" y=\"416.2755\"/>\r\n      </g>\r\n     </g>\r\n     <g id=\"text_1\">\r\n      <!-- 1994 -->\r\n      <g transform=\"translate(66.174546 446.644274)rotate(-45)scale(0.1 -0.1)\">\r\n       <defs>\r\n        <path d=\"M 12.40625 8.296875 \r\nL 28.515625 8.296875 \r\nL 28.515625 63.921875 \r\nL 10.984375 60.40625 \r\nL 10.984375 69.390625 \r\nL 28.421875 72.90625 \r\nL 38.28125 72.90625 \r\nL 38.28125 8.296875 \r\nL 54.390625 8.296875 \r\nL 54.390625 0 \r\nL 12.40625 0 \r\nz\r\n\" id=\"DejaVuSans-49\"/>\r\n        <path d=\"M 10.984375 1.515625 \r\nL 10.984375 10.5 \r\nQ 14.703125 8.734375 18.5 7.8125 \r\nQ 22.3125 6.890625 25.984375 6.890625 \r\nQ 35.75 6.890625 40.890625 13.453125 \r\nQ 46.046875 20.015625 46.78125 33.40625 \r\nQ 43.953125 29.203125 39.59375 26.953125 \r\nQ 35.25 24.703125 29.984375 24.703125 \r\nQ 19.046875 24.703125 12.671875 31.3125 \r\nQ 6.296875 37.9375 6.296875 49.421875 \r\nQ 6.296875 60.640625 12.9375 67.421875 \r\nQ 19.578125 74.21875 30.609375 74.21875 \r\nQ 43.265625 74.21875 49.921875 64.515625 \r\nQ 56.59375 54.828125 56.59375 36.375 \r\nQ 56.59375 19.140625 48.40625 8.859375 \r\nQ 40.234375 -1.421875 26.421875 -1.421875 \r\nQ 22.703125 -1.421875 18.890625 -0.6875 \r\nQ 15.09375 0.046875 10.984375 1.515625 \r\nz\r\nM 30.609375 32.421875 \r\nQ 37.25 32.421875 41.125 36.953125 \r\nQ 45.015625 41.5 45.015625 49.421875 \r\nQ 45.015625 57.28125 41.125 61.84375 \r\nQ 37.25 66.40625 30.609375 66.40625 \r\nQ 23.96875 66.40625 20.09375 61.84375 \r\nQ 16.21875 57.28125 16.21875 49.421875 \r\nQ 16.21875 41.5 20.09375 36.953125 \r\nQ 23.96875 32.421875 30.609375 32.421875 \r\nz\r\n\" id=\"DejaVuSans-57\"/>\r\n        <path d=\"M 37.796875 64.3125 \r\nL 12.890625 25.390625 \r\nL 37.796875 25.390625 \r\nz\r\nM 35.203125 72.90625 \r\nL 47.609375 72.90625 \r\nL 47.609375 25.390625 \r\nL 58.015625 25.390625 \r\nL 58.015625 17.1875 \r\nL 47.609375 17.1875 \r\nL 47.609375 0 \r\nL 37.796875 0 \r\nL 37.796875 17.1875 \r\nL 4.890625 17.1875 \r\nL 4.890625 26.703125 \r\nz\r\n\" id=\"DejaVuSans-52\"/>\r\n       </defs>\r\n       <use xlink:href=\"#DejaVuSans-49\"/>\r\n       <use x=\"63.623047\" xlink:href=\"#DejaVuSans-57\"/>\r\n       <use x=\"127.246094\" xlink:href=\"#DejaVuSans-57\"/>\r\n       <use x=\"190.869141\" xlink:href=\"#DejaVuSans-52\"/>\r\n      </g>\r\n     </g>\r\n    </g>\r\n    <g id=\"xtick_2\">\r\n     <g id=\"line2d_3\">\r\n      <path clip-path=\"url(#p4ed9a11e39)\" d=\"M 107.715852 416.2755 \r\nL 107.715852 35.7555 \r\n\" style=\"fill:none;stroke:#b0b0b0;stroke-linecap:square;stroke-width:0.8;\"/>\r\n     </g>\r\n     <g id=\"line2d_4\">\r\n      <g>\r\n       <use style=\"stroke:#000000;stroke-width:0.8;\" x=\"107.715852\" xlink:href=\"#m5fe9fd1703\" y=\"416.2755\"/>\r\n      </g>\r\n     </g>\r\n     <g id=\"text_2\">\r\n      <!-- 1995 -->\r\n      <g transform=\"translate(100.669091 446.644274)rotate(-45)scale(0.1 -0.1)\">\r\n       <defs>\r\n        <path d=\"M 10.796875 72.90625 \r\nL 49.515625 72.90625 \r\nL 49.515625 64.59375 \r\nL 19.828125 64.59375 \r\nL 19.828125 46.734375 \r\nQ 21.96875 47.46875 24.109375 47.828125 \r\nQ 26.265625 48.1875 28.421875 48.1875 \r\nQ 40.625 48.1875 47.75 41.5 \r\nQ 54.890625 34.8125 54.890625 23.390625 \r\nQ 54.890625 11.625 47.5625 5.09375 \r\nQ 40.234375 -1.421875 26.90625 -1.421875 \r\nQ 22.3125 -1.421875 17.546875 -0.640625 \r\nQ 12.796875 0.140625 7.71875 1.703125 \r\nL 7.71875 11.625 \r\nQ 12.109375 9.234375 16.796875 8.0625 \r\nQ 21.484375 6.890625 26.703125 6.890625 \r\nQ 35.15625 6.890625 40.078125 11.328125 \r\nQ 45.015625 15.765625 45.015625 23.390625 \r\nQ 45.015625 31 40.078125 35.4375 \r\nQ 35.15625 39.890625 26.703125 39.890625 \r\nQ 22.75 39.890625 18.8125 39.015625 \r\nQ 14.890625 38.140625 10.796875 36.28125 \r\nz\r\n\" id=\"DejaVuSans-53\"/>\r\n       </defs>\r\n       <use xlink:href=\"#DejaVuSans-49\"/>\r\n       <use x=\"63.623047\" xlink:href=\"#DejaVuSans-57\"/>\r\n       <use x=\"127.246094\" xlink:href=\"#DejaVuSans-57\"/>\r\n       <use x=\"190.869141\" xlink:href=\"#DejaVuSans-53\"/>\r\n      </g>\r\n     </g>\r\n    </g>\r\n    <g id=\"xtick_3\">\r\n     <g id=\"line2d_5\">\r\n      <path clip-path=\"url(#p4ed9a11e39)\" d=\"M 142.210398 416.2755 \r\nL 142.210398 35.7555 \r\n\" style=\"fill:none;stroke:#b0b0b0;stroke-linecap:square;stroke-width:0.8;\"/>\r\n     </g>\r\n     <g id=\"line2d_6\">\r\n      <g>\r\n       <use style=\"stroke:#000000;stroke-width:0.8;\" x=\"142.210398\" xlink:href=\"#m5fe9fd1703\" y=\"416.2755\"/>\r\n      </g>\r\n     </g>\r\n     <g id=\"text_3\">\r\n      <!-- 1996 -->\r\n      <g transform=\"translate(135.163637 446.644274)rotate(-45)scale(0.1 -0.1)\">\r\n       <defs>\r\n        <path d=\"M 33.015625 40.375 \r\nQ 26.375 40.375 22.484375 35.828125 \r\nQ 18.609375 31.296875 18.609375 23.390625 \r\nQ 18.609375 15.53125 22.484375 10.953125 \r\nQ 26.375 6.390625 33.015625 6.390625 \r\nQ 39.65625 6.390625 43.53125 10.953125 \r\nQ 47.40625 15.53125 47.40625 23.390625 \r\nQ 47.40625 31.296875 43.53125 35.828125 \r\nQ 39.65625 40.375 33.015625 40.375 \r\nz\r\nM 52.59375 71.296875 \r\nL 52.59375 62.3125 \r\nQ 48.875 64.0625 45.09375 64.984375 \r\nQ 41.3125 65.921875 37.59375 65.921875 \r\nQ 27.828125 65.921875 22.671875 59.328125 \r\nQ 17.53125 52.734375 16.796875 39.40625 \r\nQ 19.671875 43.65625 24.015625 45.921875 \r\nQ 28.375 48.1875 33.59375 48.1875 \r\nQ 44.578125 48.1875 50.953125 41.515625 \r\nQ 57.328125 34.859375 57.328125 23.390625 \r\nQ 57.328125 12.15625 50.6875 5.359375 \r\nQ 44.046875 -1.421875 33.015625 -1.421875 \r\nQ 20.359375 -1.421875 13.671875 8.265625 \r\nQ 6.984375 17.96875 6.984375 36.375 \r\nQ 6.984375 53.65625 15.1875 63.9375 \r\nQ 23.390625 74.21875 37.203125 74.21875 \r\nQ 40.921875 74.21875 44.703125 73.484375 \r\nQ 48.484375 72.75 52.59375 71.296875 \r\nz\r\n\" id=\"DejaVuSans-54\"/>\r\n       </defs>\r\n       <use xlink:href=\"#DejaVuSans-49\"/>\r\n       <use x=\"63.623047\" xlink:href=\"#DejaVuSans-57\"/>\r\n       <use x=\"127.246094\" xlink:href=\"#DejaVuSans-57\"/>\r\n       <use x=\"190.869141\" xlink:href=\"#DejaVuSans-54\"/>\r\n      </g>\r\n     </g>\r\n    </g>\r\n    <g id=\"xtick_4\">\r\n     <g id=\"line2d_7\">\r\n      <path clip-path=\"url(#p4ed9a11e39)\" d=\"M 176.704943 416.2755 \r\nL 176.704943 35.7555 \r\n\" style=\"fill:none;stroke:#b0b0b0;stroke-linecap:square;stroke-width:0.8;\"/>\r\n     </g>\r\n     <g id=\"line2d_8\">\r\n      <g>\r\n       <use style=\"stroke:#000000;stroke-width:0.8;\" x=\"176.704943\" xlink:href=\"#m5fe9fd1703\" y=\"416.2755\"/>\r\n      </g>\r\n     </g>\r\n     <g id=\"text_4\">\r\n      <!-- 1997 -->\r\n      <g transform=\"translate(169.658182 446.644274)rotate(-45)scale(0.1 -0.1)\">\r\n       <defs>\r\n        <path d=\"M 8.203125 72.90625 \r\nL 55.078125 72.90625 \r\nL 55.078125 68.703125 \r\nL 28.609375 0 \r\nL 18.3125 0 \r\nL 43.21875 64.59375 \r\nL 8.203125 64.59375 \r\nz\r\n\" id=\"DejaVuSans-55\"/>\r\n       </defs>\r\n       <use xlink:href=\"#DejaVuSans-49\"/>\r\n       <use x=\"63.623047\" xlink:href=\"#DejaVuSans-57\"/>\r\n       <use x=\"127.246094\" xlink:href=\"#DejaVuSans-57\"/>\r\n       <use x=\"190.869141\" xlink:href=\"#DejaVuSans-55\"/>\r\n      </g>\r\n     </g>\r\n    </g>\r\n    <g id=\"xtick_5\">\r\n     <g id=\"line2d_9\">\r\n      <path clip-path=\"url(#p4ed9a11e39)\" d=\"M 211.199489 416.2755 \r\nL 211.199489 35.7555 \r\n\" style=\"fill:none;stroke:#b0b0b0;stroke-linecap:square;stroke-width:0.8;\"/>\r\n     </g>\r\n     <g id=\"line2d_10\">\r\n      <g>\r\n       <use style=\"stroke:#000000;stroke-width:0.8;\" x=\"211.199489\" xlink:href=\"#m5fe9fd1703\" y=\"416.2755\"/>\r\n      </g>\r\n     </g>\r\n     <g id=\"text_5\">\r\n      <!-- 1998 -->\r\n      <g transform=\"translate(204.152728 446.644274)rotate(-45)scale(0.1 -0.1)\">\r\n       <defs>\r\n        <path d=\"M 31.78125 34.625 \r\nQ 24.75 34.625 20.71875 30.859375 \r\nQ 16.703125 27.09375 16.703125 20.515625 \r\nQ 16.703125 13.921875 20.71875 10.15625 \r\nQ 24.75 6.390625 31.78125 6.390625 \r\nQ 38.8125 6.390625 42.859375 10.171875 \r\nQ 46.921875 13.96875 46.921875 20.515625 \r\nQ 46.921875 27.09375 42.890625 30.859375 \r\nQ 38.875 34.625 31.78125 34.625 \r\nz\r\nM 21.921875 38.8125 \r\nQ 15.578125 40.375 12.03125 44.71875 \r\nQ 8.5 49.078125 8.5 55.328125 \r\nQ 8.5 64.0625 14.71875 69.140625 \r\nQ 20.953125 74.21875 31.78125 74.21875 \r\nQ 42.671875 74.21875 48.875 69.140625 \r\nQ 55.078125 64.0625 55.078125 55.328125 \r\nQ 55.078125 49.078125 51.53125 44.71875 \r\nQ 48 40.375 41.703125 38.8125 \r\nQ 48.828125 37.15625 52.796875 32.3125 \r\nQ 56.78125 27.484375 56.78125 20.515625 \r\nQ 56.78125 9.90625 50.3125 4.234375 \r\nQ 43.84375 -1.421875 31.78125 -1.421875 \r\nQ 19.734375 -1.421875 13.25 4.234375 \r\nQ 6.78125 9.90625 6.78125 20.515625 \r\nQ 6.78125 27.484375 10.78125 32.3125 \r\nQ 14.796875 37.15625 21.921875 38.8125 \r\nz\r\nM 18.3125 54.390625 \r\nQ 18.3125 48.734375 21.84375 45.5625 \r\nQ 25.390625 42.390625 31.78125 42.390625 \r\nQ 38.140625 42.390625 41.71875 45.5625 \r\nQ 45.3125 48.734375 45.3125 54.390625 \r\nQ 45.3125 60.0625 41.71875 63.234375 \r\nQ 38.140625 66.40625 31.78125 66.40625 \r\nQ 25.390625 66.40625 21.84375 63.234375 \r\nQ 18.3125 60.0625 18.3125 54.390625 \r\nz\r\n\" id=\"DejaVuSans-56\"/>\r\n       </defs>\r\n       <use xlink:href=\"#DejaVuSans-49\"/>\r\n       <use x=\"63.623047\" xlink:href=\"#DejaVuSans-57\"/>\r\n       <use x=\"127.246094\" xlink:href=\"#DejaVuSans-57\"/>\r\n       <use x=\"190.869141\" xlink:href=\"#DejaVuSans-56\"/>\r\n      </g>\r\n     </g>\r\n    </g>\r\n    <g id=\"xtick_6\">\r\n     <g id=\"line2d_11\">\r\n      <path clip-path=\"url(#p4ed9a11e39)\" d=\"M 245.694034 416.2755 \r\nL 245.694034 35.7555 \r\n\" style=\"fill:none;stroke:#b0b0b0;stroke-linecap:square;stroke-width:0.8;\"/>\r\n     </g>\r\n     <g id=\"line2d_12\">\r\n      <g>\r\n       <use style=\"stroke:#000000;stroke-width:0.8;\" x=\"245.694034\" xlink:href=\"#m5fe9fd1703\" y=\"416.2755\"/>\r\n      </g>\r\n     </g>\r\n     <g id=\"text_6\">\r\n      <!-- 1999 -->\r\n      <g transform=\"translate(238.647273 446.644274)rotate(-45)scale(0.1 -0.1)\">\r\n       <use xlink:href=\"#DejaVuSans-49\"/>\r\n       <use x=\"63.623047\" xlink:href=\"#DejaVuSans-57\"/>\r\n       <use x=\"127.246094\" xlink:href=\"#DejaVuSans-57\"/>\r\n       <use x=\"190.869141\" xlink:href=\"#DejaVuSans-57\"/>\r\n      </g>\r\n     </g>\r\n    </g>\r\n    <g id=\"xtick_7\">\r\n     <g id=\"line2d_13\">\r\n      <path clip-path=\"url(#p4ed9a11e39)\" d=\"M 280.18858 416.2755 \r\nL 280.18858 35.7555 \r\n\" style=\"fill:none;stroke:#b0b0b0;stroke-linecap:square;stroke-width:0.8;\"/>\r\n     </g>\r\n     <g id=\"line2d_14\">\r\n      <g>\r\n       <use style=\"stroke:#000000;stroke-width:0.8;\" x=\"280.18858\" xlink:href=\"#m5fe9fd1703\" y=\"416.2755\"/>\r\n      </g>\r\n     </g>\r\n     <g id=\"text_7\">\r\n      <!-- 2000 -->\r\n      <g transform=\"translate(273.141819 446.644274)rotate(-45)scale(0.1 -0.1)\">\r\n       <defs>\r\n        <path d=\"M 19.1875 8.296875 \r\nL 53.609375 8.296875 \r\nL 53.609375 0 \r\nL 7.328125 0 \r\nL 7.328125 8.296875 \r\nQ 12.9375 14.109375 22.625 23.890625 \r\nQ 32.328125 33.6875 34.8125 36.53125 \r\nQ 39.546875 41.84375 41.421875 45.53125 \r\nQ 43.3125 49.21875 43.3125 52.78125 \r\nQ 43.3125 58.59375 39.234375 62.25 \r\nQ 35.15625 65.921875 28.609375 65.921875 \r\nQ 23.96875 65.921875 18.8125 64.3125 \r\nQ 13.671875 62.703125 7.8125 59.421875 \r\nL 7.8125 69.390625 \r\nQ 13.765625 71.78125 18.9375 73 \r\nQ 24.125 74.21875 28.421875 74.21875 \r\nQ 39.75 74.21875 46.484375 68.546875 \r\nQ 53.21875 62.890625 53.21875 53.421875 \r\nQ 53.21875 48.921875 51.53125 44.890625 \r\nQ 49.859375 40.875 45.40625 35.40625 \r\nQ 44.1875 33.984375 37.640625 27.21875 \r\nQ 31.109375 20.453125 19.1875 8.296875 \r\nz\r\n\" id=\"DejaVuSans-50\"/>\r\n        <path d=\"M 31.78125 66.40625 \r\nQ 24.171875 66.40625 20.328125 58.90625 \r\nQ 16.5 51.421875 16.5 36.375 \r\nQ 16.5 21.390625 20.328125 13.890625 \r\nQ 24.171875 6.390625 31.78125 6.390625 \r\nQ 39.453125 6.390625 43.28125 13.890625 \r\nQ 47.125 21.390625 47.125 36.375 \r\nQ 47.125 51.421875 43.28125 58.90625 \r\nQ 39.453125 66.40625 31.78125 66.40625 \r\nz\r\nM 31.78125 74.21875 \r\nQ 44.046875 74.21875 50.515625 64.515625 \r\nQ 56.984375 54.828125 56.984375 36.375 \r\nQ 56.984375 17.96875 50.515625 8.265625 \r\nQ 44.046875 -1.421875 31.78125 -1.421875 \r\nQ 19.53125 -1.421875 13.0625 8.265625 \r\nQ 6.59375 17.96875 6.59375 36.375 \r\nQ 6.59375 54.828125 13.0625 64.515625 \r\nQ 19.53125 74.21875 31.78125 74.21875 \r\nz\r\n\" id=\"DejaVuSans-48\"/>\r\n       </defs>\r\n       <use xlink:href=\"#DejaVuSans-50\"/>\r\n       <use x=\"63.623047\" xlink:href=\"#DejaVuSans-48\"/>\r\n       <use x=\"127.246094\" xlink:href=\"#DejaVuSans-48\"/>\r\n       <use x=\"190.869141\" xlink:href=\"#DejaVuSans-48\"/>\r\n      </g>\r\n     </g>\r\n    </g>\r\n    <g id=\"xtick_8\">\r\n     <g id=\"line2d_15\">\r\n      <path clip-path=\"url(#p4ed9a11e39)\" d=\"M 314.683125 416.2755 \r\nL 314.683125 35.7555 \r\n\" style=\"fill:none;stroke:#b0b0b0;stroke-linecap:square;stroke-width:0.8;\"/>\r\n     </g>\r\n     <g id=\"line2d_16\">\r\n      <g>\r\n       <use style=\"stroke:#000000;stroke-width:0.8;\" x=\"314.683125\" xlink:href=\"#m5fe9fd1703\" y=\"416.2755\"/>\r\n      </g>\r\n     </g>\r\n     <g id=\"text_8\">\r\n      <!-- 2001 -->\r\n      <g transform=\"translate(307.636364 446.644274)rotate(-45)scale(0.1 -0.1)\">\r\n       <use xlink:href=\"#DejaVuSans-50\"/>\r\n       <use x=\"63.623047\" xlink:href=\"#DejaVuSans-48\"/>\r\n       <use x=\"127.246094\" xlink:href=\"#DejaVuSans-48\"/>\r\n       <use x=\"190.869141\" xlink:href=\"#DejaVuSans-49\"/>\r\n      </g>\r\n     </g>\r\n    </g>\r\n    <g id=\"xtick_9\">\r\n     <g id=\"line2d_17\">\r\n      <path clip-path=\"url(#p4ed9a11e39)\" d=\"M 349.17767 416.2755 \r\nL 349.17767 35.7555 \r\n\" style=\"fill:none;stroke:#b0b0b0;stroke-linecap:square;stroke-width:0.8;\"/>\r\n     </g>\r\n     <g id=\"line2d_18\">\r\n      <g>\r\n       <use style=\"stroke:#000000;stroke-width:0.8;\" x=\"349.17767\" xlink:href=\"#m5fe9fd1703\" y=\"416.2755\"/>\r\n      </g>\r\n     </g>\r\n     <g id=\"text_9\">\r\n      <!-- 2002 -->\r\n      <g transform=\"translate(342.130909 446.644274)rotate(-45)scale(0.1 -0.1)\">\r\n       <use xlink:href=\"#DejaVuSans-50\"/>\r\n       <use x=\"63.623047\" xlink:href=\"#DejaVuSans-48\"/>\r\n       <use x=\"127.246094\" xlink:href=\"#DejaVuSans-48\"/>\r\n       <use x=\"190.869141\" xlink:href=\"#DejaVuSans-50\"/>\r\n      </g>\r\n     </g>\r\n    </g>\r\n    <g id=\"xtick_10\">\r\n     <g id=\"line2d_19\">\r\n      <path clip-path=\"url(#p4ed9a11e39)\" d=\"M 383.672216 416.2755 \r\nL 383.672216 35.7555 \r\n\" style=\"fill:none;stroke:#b0b0b0;stroke-linecap:square;stroke-width:0.8;\"/>\r\n     </g>\r\n     <g id=\"line2d_20\">\r\n      <g>\r\n       <use style=\"stroke:#000000;stroke-width:0.8;\" x=\"383.672216\" xlink:href=\"#m5fe9fd1703\" y=\"416.2755\"/>\r\n      </g>\r\n     </g>\r\n     <g id=\"text_10\">\r\n      <!-- 2003 -->\r\n      <g transform=\"translate(376.625455 446.644274)rotate(-45)scale(0.1 -0.1)\">\r\n       <defs>\r\n        <path d=\"M 40.578125 39.3125 \r\nQ 47.65625 37.796875 51.625 33 \r\nQ 55.609375 28.21875 55.609375 21.1875 \r\nQ 55.609375 10.40625 48.1875 4.484375 \r\nQ 40.765625 -1.421875 27.09375 -1.421875 \r\nQ 22.515625 -1.421875 17.65625 -0.515625 \r\nQ 12.796875 0.390625 7.625 2.203125 \r\nL 7.625 11.71875 \r\nQ 11.71875 9.328125 16.59375 8.109375 \r\nQ 21.484375 6.890625 26.8125 6.890625 \r\nQ 36.078125 6.890625 40.9375 10.546875 \r\nQ 45.796875 14.203125 45.796875 21.1875 \r\nQ 45.796875 27.640625 41.28125 31.265625 \r\nQ 36.765625 34.90625 28.71875 34.90625 \r\nL 20.21875 34.90625 \r\nL 20.21875 43.015625 \r\nL 29.109375 43.015625 \r\nQ 36.375 43.015625 40.234375 45.921875 \r\nQ 44.09375 48.828125 44.09375 54.296875 \r\nQ 44.09375 59.90625 40.109375 62.90625 \r\nQ 36.140625 65.921875 28.71875 65.921875 \r\nQ 24.65625 65.921875 20.015625 65.03125 \r\nQ 15.375 64.15625 9.8125 62.3125 \r\nL 9.8125 71.09375 \r\nQ 15.4375 72.65625 20.34375 73.4375 \r\nQ 25.25 74.21875 29.59375 74.21875 \r\nQ 40.828125 74.21875 47.359375 69.109375 \r\nQ 53.90625 64.015625 53.90625 55.328125 \r\nQ 53.90625 49.265625 50.4375 45.09375 \r\nQ 46.96875 40.921875 40.578125 39.3125 \r\nz\r\n\" id=\"DejaVuSans-51\"/>\r\n       </defs>\r\n       <use xlink:href=\"#DejaVuSans-50\"/>\r\n       <use x=\"63.623047\" xlink:href=\"#DejaVuSans-48\"/>\r\n       <use x=\"127.246094\" xlink:href=\"#DejaVuSans-48\"/>\r\n       <use x=\"190.869141\" xlink:href=\"#DejaVuSans-51\"/>\r\n      </g>\r\n     </g>\r\n    </g>\r\n    <g id=\"xtick_11\">\r\n     <g id=\"line2d_21\">\r\n      <path clip-path=\"url(#p4ed9a11e39)\" d=\"M 418.166761 416.2755 \r\nL 418.166761 35.7555 \r\n\" style=\"fill:none;stroke:#b0b0b0;stroke-linecap:square;stroke-width:0.8;\"/>\r\n     </g>\r\n     <g id=\"line2d_22\">\r\n      <g>\r\n       <use style=\"stroke:#000000;stroke-width:0.8;\" x=\"418.166761\" xlink:href=\"#m5fe9fd1703\" y=\"416.2755\"/>\r\n      </g>\r\n     </g>\r\n     <g id=\"text_11\">\r\n      <!-- 2004 -->\r\n      <g transform=\"translate(411.12 446.644274)rotate(-45)scale(0.1 -0.1)\">\r\n       <use xlink:href=\"#DejaVuSans-50\"/>\r\n       <use x=\"63.623047\" xlink:href=\"#DejaVuSans-48\"/>\r\n       <use x=\"127.246094\" xlink:href=\"#DejaVuSans-48\"/>\r\n       <use x=\"190.869141\" xlink:href=\"#DejaVuSans-52\"/>\r\n      </g>\r\n     </g>\r\n    </g>\r\n    <g id=\"xtick_12\">\r\n     <g id=\"line2d_23\">\r\n      <path clip-path=\"url(#p4ed9a11e39)\" d=\"M 452.661307 416.2755 \r\nL 452.661307 35.7555 \r\n\" style=\"fill:none;stroke:#b0b0b0;stroke-linecap:square;stroke-width:0.8;\"/>\r\n     </g>\r\n     <g id=\"line2d_24\">\r\n      <g>\r\n       <use style=\"stroke:#000000;stroke-width:0.8;\" x=\"452.661307\" xlink:href=\"#m5fe9fd1703\" y=\"416.2755\"/>\r\n      </g>\r\n     </g>\r\n     <g id=\"text_12\">\r\n      <!-- 2005 -->\r\n      <g transform=\"translate(445.614546 446.644274)rotate(-45)scale(0.1 -0.1)\">\r\n       <use xlink:href=\"#DejaVuSans-50\"/>\r\n       <use x=\"63.623047\" xlink:href=\"#DejaVuSans-48\"/>\r\n       <use x=\"127.246094\" xlink:href=\"#DejaVuSans-48\"/>\r\n       <use x=\"190.869141\" xlink:href=\"#DejaVuSans-53\"/>\r\n      </g>\r\n     </g>\r\n    </g>\r\n    <g id=\"xtick_13\">\r\n     <g id=\"line2d_25\">\r\n      <path clip-path=\"url(#p4ed9a11e39)\" d=\"M 487.155852 416.2755 \r\nL 487.155852 35.7555 \r\n\" style=\"fill:none;stroke:#b0b0b0;stroke-linecap:square;stroke-width:0.8;\"/>\r\n     </g>\r\n     <g id=\"line2d_26\">\r\n      <g>\r\n       <use style=\"stroke:#000000;stroke-width:0.8;\" x=\"487.155852\" xlink:href=\"#m5fe9fd1703\" y=\"416.2755\"/>\r\n      </g>\r\n     </g>\r\n     <g id=\"text_13\">\r\n      <!-- 2006 -->\r\n      <g transform=\"translate(480.109091 446.644274)rotate(-45)scale(0.1 -0.1)\">\r\n       <use xlink:href=\"#DejaVuSans-50\"/>\r\n       <use x=\"63.623047\" xlink:href=\"#DejaVuSans-48\"/>\r\n       <use x=\"127.246094\" xlink:href=\"#DejaVuSans-48\"/>\r\n       <use x=\"190.869141\" xlink:href=\"#DejaVuSans-54\"/>\r\n      </g>\r\n     </g>\r\n    </g>\r\n    <g id=\"xtick_14\">\r\n     <g id=\"line2d_27\">\r\n      <path clip-path=\"url(#p4ed9a11e39)\" d=\"M 521.650398 416.2755 \r\nL 521.650398 35.7555 \r\n\" style=\"fill:none;stroke:#b0b0b0;stroke-linecap:square;stroke-width:0.8;\"/>\r\n     </g>\r\n     <g id=\"line2d_28\">\r\n      <g>\r\n       <use style=\"stroke:#000000;stroke-width:0.8;\" x=\"521.650398\" xlink:href=\"#m5fe9fd1703\" y=\"416.2755\"/>\r\n      </g>\r\n     </g>\r\n     <g id=\"text_14\">\r\n      <!-- 2007 -->\r\n      <g transform=\"translate(514.603637 446.644274)rotate(-45)scale(0.1 -0.1)\">\r\n       <use xlink:href=\"#DejaVuSans-50\"/>\r\n       <use x=\"63.623047\" xlink:href=\"#DejaVuSans-48\"/>\r\n       <use x=\"127.246094\" xlink:href=\"#DejaVuSans-48\"/>\r\n       <use x=\"190.869141\" xlink:href=\"#DejaVuSans-55\"/>\r\n      </g>\r\n     </g>\r\n    </g>\r\n    <g id=\"xtick_15\">\r\n     <g id=\"line2d_29\">\r\n      <path clip-path=\"url(#p4ed9a11e39)\" d=\"M 556.144943 416.2755 \r\nL 556.144943 35.7555 \r\n\" style=\"fill:none;stroke:#b0b0b0;stroke-linecap:square;stroke-width:0.8;\"/>\r\n     </g>\r\n     <g id=\"line2d_30\">\r\n      <g>\r\n       <use style=\"stroke:#000000;stroke-width:0.8;\" x=\"556.144943\" xlink:href=\"#m5fe9fd1703\" y=\"416.2755\"/>\r\n      </g>\r\n     </g>\r\n     <g id=\"text_15\">\r\n      <!-- 2008 -->\r\n      <g transform=\"translate(549.098182 446.644274)rotate(-45)scale(0.1 -0.1)\">\r\n       <use xlink:href=\"#DejaVuSans-50\"/>\r\n       <use x=\"63.623047\" xlink:href=\"#DejaVuSans-48\"/>\r\n       <use x=\"127.246094\" xlink:href=\"#DejaVuSans-48\"/>\r\n       <use x=\"190.869141\" xlink:href=\"#DejaVuSans-56\"/>\r\n      </g>\r\n     </g>\r\n    </g>\r\n    <g id=\"xtick_16\">\r\n     <g id=\"line2d_31\">\r\n      <path clip-path=\"url(#p4ed9a11e39)\" d=\"M 590.639489 416.2755 \r\nL 590.639489 35.7555 \r\n\" style=\"fill:none;stroke:#b0b0b0;stroke-linecap:square;stroke-width:0.8;\"/>\r\n     </g>\r\n     <g id=\"line2d_32\">\r\n      <g>\r\n       <use style=\"stroke:#000000;stroke-width:0.8;\" x=\"590.639489\" xlink:href=\"#m5fe9fd1703\" y=\"416.2755\"/>\r\n      </g>\r\n     </g>\r\n     <g id=\"text_16\">\r\n      <!-- 2009 -->\r\n      <g transform=\"translate(583.592728 446.644274)rotate(-45)scale(0.1 -0.1)\">\r\n       <use xlink:href=\"#DejaVuSans-50\"/>\r\n       <use x=\"63.623047\" xlink:href=\"#DejaVuSans-48\"/>\r\n       <use x=\"127.246094\" xlink:href=\"#DejaVuSans-48\"/>\r\n       <use x=\"190.869141\" xlink:href=\"#DejaVuSans-57\"/>\r\n      </g>\r\n     </g>\r\n    </g>\r\n    <g id=\"xtick_17\">\r\n     <g id=\"line2d_33\">\r\n      <path clip-path=\"url(#p4ed9a11e39)\" d=\"M 625.134034 416.2755 \r\nL 625.134034 35.7555 \r\n\" style=\"fill:none;stroke:#b0b0b0;stroke-linecap:square;stroke-width:0.8;\"/>\r\n     </g>\r\n     <g id=\"line2d_34\">\r\n      <g>\r\n       <use style=\"stroke:#000000;stroke-width:0.8;\" x=\"625.134034\" xlink:href=\"#m5fe9fd1703\" y=\"416.2755\"/>\r\n      </g>\r\n     </g>\r\n     <g id=\"text_17\">\r\n      <!-- 2010 -->\r\n      <g transform=\"translate(618.087273 446.644274)rotate(-45)scale(0.1 -0.1)\">\r\n       <use xlink:href=\"#DejaVuSans-50\"/>\r\n       <use x=\"63.623047\" xlink:href=\"#DejaVuSans-48\"/>\r\n       <use x=\"127.246094\" xlink:href=\"#DejaVuSans-49\"/>\r\n       <use x=\"190.869141\" xlink:href=\"#DejaVuSans-48\"/>\r\n      </g>\r\n     </g>\r\n    </g>\r\n    <g id=\"xtick_18\">\r\n     <g id=\"line2d_35\">\r\n      <path clip-path=\"url(#p4ed9a11e39)\" d=\"M 659.62858 416.2755 \r\nL 659.62858 35.7555 \r\n\" style=\"fill:none;stroke:#b0b0b0;stroke-linecap:square;stroke-width:0.8;\"/>\r\n     </g>\r\n     <g id=\"line2d_36\">\r\n      <g>\r\n       <use style=\"stroke:#000000;stroke-width:0.8;\" x=\"659.62858\" xlink:href=\"#m5fe9fd1703\" y=\"416.2755\"/>\r\n      </g>\r\n     </g>\r\n     <g id=\"text_18\">\r\n      <!-- 2011 -->\r\n      <g transform=\"translate(652.581819 446.644274)rotate(-45)scale(0.1 -0.1)\">\r\n       <use xlink:href=\"#DejaVuSans-50\"/>\r\n       <use x=\"63.623047\" xlink:href=\"#DejaVuSans-48\"/>\r\n       <use x=\"127.246094\" xlink:href=\"#DejaVuSans-49\"/>\r\n       <use x=\"190.869141\" xlink:href=\"#DejaVuSans-49\"/>\r\n      </g>\r\n     </g>\r\n    </g>\r\n    <g id=\"xtick_19\">\r\n     <g id=\"line2d_37\">\r\n      <path clip-path=\"url(#p4ed9a11e39)\" d=\"M 694.123125 416.2755 \r\nL 694.123125 35.7555 \r\n\" style=\"fill:none;stroke:#b0b0b0;stroke-linecap:square;stroke-width:0.8;\"/>\r\n     </g>\r\n     <g id=\"line2d_38\">\r\n      <g>\r\n       <use style=\"stroke:#000000;stroke-width:0.8;\" x=\"694.123125\" xlink:href=\"#m5fe9fd1703\" y=\"416.2755\"/>\r\n      </g>\r\n     </g>\r\n     <g id=\"text_19\">\r\n      <!-- 2012 -->\r\n      <g transform=\"translate(687.076364 446.644274)rotate(-45)scale(0.1 -0.1)\">\r\n       <use xlink:href=\"#DejaVuSans-50\"/>\r\n       <use x=\"63.623047\" xlink:href=\"#DejaVuSans-48\"/>\r\n       <use x=\"127.246094\" xlink:href=\"#DejaVuSans-49\"/>\r\n       <use x=\"190.869141\" xlink:href=\"#DejaVuSans-50\"/>\r\n      </g>\r\n     </g>\r\n    </g>\r\n    <g id=\"xtick_20\">\r\n     <g id=\"line2d_39\">\r\n      <path clip-path=\"url(#p4ed9a11e39)\" d=\"M 728.61767 416.2755 \r\nL 728.61767 35.7555 \r\n\" style=\"fill:none;stroke:#b0b0b0;stroke-linecap:square;stroke-width:0.8;\"/>\r\n     </g>\r\n     <g id=\"line2d_40\">\r\n      <g>\r\n       <use style=\"stroke:#000000;stroke-width:0.8;\" x=\"728.61767\" xlink:href=\"#m5fe9fd1703\" y=\"416.2755\"/>\r\n      </g>\r\n     </g>\r\n     <g id=\"text_20\">\r\n      <!-- 2013 -->\r\n      <g transform=\"translate(721.570909 446.644274)rotate(-45)scale(0.1 -0.1)\">\r\n       <use xlink:href=\"#DejaVuSans-50\"/>\r\n       <use x=\"63.623047\" xlink:href=\"#DejaVuSans-48\"/>\r\n       <use x=\"127.246094\" xlink:href=\"#DejaVuSans-49\"/>\r\n       <use x=\"190.869141\" xlink:href=\"#DejaVuSans-51\"/>\r\n      </g>\r\n     </g>\r\n    </g>\r\n    <g id=\"xtick_21\">\r\n     <g id=\"line2d_41\">\r\n      <path clip-path=\"url(#p4ed9a11e39)\" d=\"M 763.112216 416.2755 \r\nL 763.112216 35.7555 \r\n\" style=\"fill:none;stroke:#b0b0b0;stroke-linecap:square;stroke-width:0.8;\"/>\r\n     </g>\r\n     <g id=\"line2d_42\">\r\n      <g>\r\n       <use style=\"stroke:#000000;stroke-width:0.8;\" x=\"763.112216\" xlink:href=\"#m5fe9fd1703\" y=\"416.2755\"/>\r\n      </g>\r\n     </g>\r\n     <g id=\"text_21\">\r\n      <!-- 2014 -->\r\n      <g transform=\"translate(756.065455 446.644274)rotate(-45)scale(0.1 -0.1)\">\r\n       <use xlink:href=\"#DejaVuSans-50\"/>\r\n       <use x=\"63.623047\" xlink:href=\"#DejaVuSans-48\"/>\r\n       <use x=\"127.246094\" xlink:href=\"#DejaVuSans-49\"/>\r\n       <use x=\"190.869141\" xlink:href=\"#DejaVuSans-52\"/>\r\n      </g>\r\n     </g>\r\n    </g>\r\n    <g id=\"xtick_22\">\r\n     <g id=\"line2d_43\">\r\n      <path clip-path=\"url(#p4ed9a11e39)\" d=\"M 797.606761 416.2755 \r\nL 797.606761 35.7555 \r\n\" style=\"fill:none;stroke:#b0b0b0;stroke-linecap:square;stroke-width:0.8;\"/>\r\n     </g>\r\n     <g id=\"line2d_44\">\r\n      <g>\r\n       <use style=\"stroke:#000000;stroke-width:0.8;\" x=\"797.606761\" xlink:href=\"#m5fe9fd1703\" y=\"416.2755\"/>\r\n      </g>\r\n     </g>\r\n     <g id=\"text_22\">\r\n      <!-- 2015 -->\r\n      <g transform=\"translate(790.56 446.644274)rotate(-45)scale(0.1 -0.1)\">\r\n       <use xlink:href=\"#DejaVuSans-50\"/>\r\n       <use x=\"63.623047\" xlink:href=\"#DejaVuSans-48\"/>\r\n       <use x=\"127.246094\" xlink:href=\"#DejaVuSans-49\"/>\r\n       <use x=\"190.869141\" xlink:href=\"#DejaVuSans-53\"/>\r\n      </g>\r\n     </g>\r\n    </g>\r\n    <g id=\"xtick_23\">\r\n     <g id=\"line2d_45\">\r\n      <path clip-path=\"url(#p4ed9a11e39)\" d=\"M 832.101307 416.2755 \r\nL 832.101307 35.7555 \r\n\" style=\"fill:none;stroke:#b0b0b0;stroke-linecap:square;stroke-width:0.8;\"/>\r\n     </g>\r\n     <g id=\"line2d_46\">\r\n      <g>\r\n       <use style=\"stroke:#000000;stroke-width:0.8;\" x=\"832.101307\" xlink:href=\"#m5fe9fd1703\" y=\"416.2755\"/>\r\n      </g>\r\n     </g>\r\n     <g id=\"text_23\">\r\n      <!-- 2016 -->\r\n      <g transform=\"translate(825.054546 446.644274)rotate(-45)scale(0.1 -0.1)\">\r\n       <use xlink:href=\"#DejaVuSans-50\"/>\r\n       <use x=\"63.623047\" xlink:href=\"#DejaVuSans-48\"/>\r\n       <use x=\"127.246094\" xlink:href=\"#DejaVuSans-49\"/>\r\n       <use x=\"190.869141\" xlink:href=\"#DejaVuSans-54\"/>\r\n      </g>\r\n     </g>\r\n    </g>\r\n    <g id=\"xtick_24\">\r\n     <g id=\"line2d_47\">\r\n      <path clip-path=\"url(#p4ed9a11e39)\" d=\"M 866.595852 416.2755 \r\nL 866.595852 35.7555 \r\n\" style=\"fill:none;stroke:#b0b0b0;stroke-linecap:square;stroke-width:0.8;\"/>\r\n     </g>\r\n     <g id=\"line2d_48\">\r\n      <g>\r\n       <use style=\"stroke:#000000;stroke-width:0.8;\" x=\"866.595852\" xlink:href=\"#m5fe9fd1703\" y=\"416.2755\"/>\r\n      </g>\r\n     </g>\r\n     <g id=\"text_24\">\r\n      <!-- 2017 -->\r\n      <g transform=\"translate(859.549091 446.644274)rotate(-45)scale(0.1 -0.1)\">\r\n       <use xlink:href=\"#DejaVuSans-50\"/>\r\n       <use x=\"63.623047\" xlink:href=\"#DejaVuSans-48\"/>\r\n       <use x=\"127.246094\" xlink:href=\"#DejaVuSans-49\"/>\r\n       <use x=\"190.869141\" xlink:href=\"#DejaVuSans-55\"/>\r\n      </g>\r\n     </g>\r\n    </g>\r\n    <g id=\"xtick_25\">\r\n     <g id=\"line2d_49\">\r\n      <path clip-path=\"url(#p4ed9a11e39)\" d=\"M 901.090398 416.2755 \r\nL 901.090398 35.7555 \r\n\" style=\"fill:none;stroke:#b0b0b0;stroke-linecap:square;stroke-width:0.8;\"/>\r\n     </g>\r\n     <g id=\"line2d_50\">\r\n      <g>\r\n       <use style=\"stroke:#000000;stroke-width:0.8;\" x=\"901.090398\" xlink:href=\"#m5fe9fd1703\" y=\"416.2755\"/>\r\n      </g>\r\n     </g>\r\n     <g id=\"text_25\">\r\n      <!-- 2018 -->\r\n      <g transform=\"translate(894.043637 446.644274)rotate(-45)scale(0.1 -0.1)\">\r\n       <use xlink:href=\"#DejaVuSans-50\"/>\r\n       <use x=\"63.623047\" xlink:href=\"#DejaVuSans-48\"/>\r\n       <use x=\"127.246094\" xlink:href=\"#DejaVuSans-49\"/>\r\n       <use x=\"190.869141\" xlink:href=\"#DejaVuSans-56\"/>\r\n      </g>\r\n     </g>\r\n    </g>\r\n    <g id=\"xtick_26\">\r\n     <g id=\"line2d_51\">\r\n      <path clip-path=\"url(#p4ed9a11e39)\" d=\"M 935.584943 416.2755 \r\nL 935.584943 35.7555 \r\n\" style=\"fill:none;stroke:#b0b0b0;stroke-linecap:square;stroke-width:0.8;\"/>\r\n     </g>\r\n     <g id=\"line2d_52\">\r\n      <g>\r\n       <use style=\"stroke:#000000;stroke-width:0.8;\" x=\"935.584943\" xlink:href=\"#m5fe9fd1703\" y=\"416.2755\"/>\r\n      </g>\r\n     </g>\r\n     <g id=\"text_26\">\r\n      <!-- 2019 -->\r\n      <g transform=\"translate(928.538182 446.644274)rotate(-45)scale(0.1 -0.1)\">\r\n       <use xlink:href=\"#DejaVuSans-50\"/>\r\n       <use x=\"63.623047\" xlink:href=\"#DejaVuSans-48\"/>\r\n       <use x=\"127.246094\" xlink:href=\"#DejaVuSans-49\"/>\r\n       <use x=\"190.869141\" xlink:href=\"#DejaVuSans-57\"/>\r\n      </g>\r\n     </g>\r\n    </g>\r\n    <g id=\"text_27\">\r\n     <!-- year -->\r\n     <g transform=\"translate(493.247656 459.713273)scale(0.1 -0.1)\">\r\n      <defs>\r\n       <path d=\"M 32.171875 -5.078125 \r\nQ 28.375 -14.84375 24.75 -17.8125 \r\nQ 21.140625 -20.796875 15.09375 -20.796875 \r\nL 7.90625 -20.796875 \r\nL 7.90625 -13.28125 \r\nL 13.1875 -13.28125 \r\nQ 16.890625 -13.28125 18.9375 -11.515625 \r\nQ 21 -9.765625 23.484375 -3.21875 \r\nL 25.09375 0.875 \r\nL 2.984375 54.6875 \r\nL 12.5 54.6875 \r\nL 29.59375 11.921875 \r\nL 46.6875 54.6875 \r\nL 56.203125 54.6875 \r\nz\r\n\" id=\"DejaVuSans-121\"/>\r\n       <path d=\"M 56.203125 29.59375 \r\nL 56.203125 25.203125 \r\nL 14.890625 25.203125 \r\nQ 15.484375 15.921875 20.484375 11.0625 \r\nQ 25.484375 6.203125 34.421875 6.203125 \r\nQ 39.59375 6.203125 44.453125 7.46875 \r\nQ 49.3125 8.734375 54.109375 11.28125 \r\nL 54.109375 2.78125 \r\nQ 49.265625 0.734375 44.1875 -0.34375 \r\nQ 39.109375 -1.421875 33.890625 -1.421875 \r\nQ 20.796875 -1.421875 13.15625 6.1875 \r\nQ 5.515625 13.8125 5.515625 26.8125 \r\nQ 5.515625 40.234375 12.765625 48.109375 \r\nQ 20.015625 56 32.328125 56 \r\nQ 43.359375 56 49.78125 48.890625 \r\nQ 56.203125 41.796875 56.203125 29.59375 \r\nz\r\nM 47.21875 32.234375 \r\nQ 47.125 39.59375 43.09375 43.984375 \r\nQ 39.0625 48.390625 32.421875 48.390625 \r\nQ 24.90625 48.390625 20.390625 44.140625 \r\nQ 15.875 39.890625 15.1875 32.171875 \r\nz\r\n\" id=\"DejaVuSans-101\"/>\r\n       <path d=\"M 34.28125 27.484375 \r\nQ 23.390625 27.484375 19.1875 25 \r\nQ 14.984375 22.515625 14.984375 16.5 \r\nQ 14.984375 11.71875 18.140625 8.90625 \r\nQ 21.296875 6.109375 26.703125 6.109375 \r\nQ 34.1875 6.109375 38.703125 11.40625 \r\nQ 43.21875 16.703125 43.21875 25.484375 \r\nL 43.21875 27.484375 \r\nz\r\nM 52.203125 31.203125 \r\nL 52.203125 0 \r\nL 43.21875 0 \r\nL 43.21875 8.296875 \r\nQ 40.140625 3.328125 35.546875 0.953125 \r\nQ 30.953125 -1.421875 24.3125 -1.421875 \r\nQ 15.921875 -1.421875 10.953125 3.296875 \r\nQ 6 8.015625 6 15.921875 \r\nQ 6 25.140625 12.171875 29.828125 \r\nQ 18.359375 34.515625 30.609375 34.515625 \r\nL 43.21875 34.515625 \r\nL 43.21875 35.40625 \r\nQ 43.21875 41.609375 39.140625 45 \r\nQ 35.0625 48.390625 27.6875 48.390625 \r\nQ 23 48.390625 18.546875 47.265625 \r\nQ 14.109375 46.140625 10.015625 43.890625 \r\nL 10.015625 52.203125 \r\nQ 14.9375 54.109375 19.578125 55.046875 \r\nQ 24.21875 56 28.609375 56 \r\nQ 40.484375 56 46.34375 49.84375 \r\nQ 52.203125 43.703125 52.203125 31.203125 \r\nz\r\n\" id=\"DejaVuSans-97\"/>\r\n       <path d=\"M 41.109375 46.296875 \r\nQ 39.59375 47.171875 37.8125 47.578125 \r\nQ 36.03125 48 33.890625 48 \r\nQ 26.265625 48 22.1875 43.046875 \r\nQ 18.109375 38.09375 18.109375 28.8125 \r\nL 18.109375 0 \r\nL 9.078125 0 \r\nL 9.078125 54.6875 \r\nL 18.109375 54.6875 \r\nL 18.109375 46.1875 \r\nQ 20.953125 51.171875 25.484375 53.578125 \r\nQ 30.03125 56 36.53125 56 \r\nQ 37.453125 56 38.578125 55.875 \r\nQ 39.703125 55.765625 41.0625 55.515625 \r\nz\r\n\" id=\"DejaVuSans-114\"/>\r\n      </defs>\r\n      <use xlink:href=\"#DejaVuSans-121\"/>\r\n      <use x=\"59.179688\" xlink:href=\"#DejaVuSans-101\"/>\r\n      <use x=\"120.703125\" xlink:href=\"#DejaVuSans-97\"/>\r\n      <use x=\"181.982422\" xlink:href=\"#DejaVuSans-114\"/>\r\n     </g>\r\n    </g>\r\n   </g>\r\n   <g id=\"matplotlib.axis_2\">\r\n    <g id=\"ytick_1\">\r\n     <g id=\"line2d_53\">\r\n      <path clip-path=\"url(#p4ed9a11e39)\" d=\"M 30.103125 367.780025 \r\nL 978.703125 367.780025 \r\n\" style=\"fill:none;stroke:#b0b0b0;stroke-linecap:square;stroke-width:0.8;\"/>\r\n     </g>\r\n     <g id=\"line2d_54\">\r\n      <defs>\r\n       <path d=\"M 0 0 \r\nL -3.5 0 \r\n\" id=\"m36ea95c472\" style=\"stroke:#000000;stroke-width:0.8;\"/>\r\n      </defs>\r\n      <g>\r\n       <use style=\"stroke:#000000;stroke-width:0.8;\" x=\"30.103125\" xlink:href=\"#m36ea95c472\" y=\"367.780025\"/>\r\n      </g>\r\n     </g>\r\n     <g id=\"text_28\">\r\n      <!-- 1.0 -->\r\n      <g transform=\"translate(7.2 371.579243)scale(0.1 -0.1)\">\r\n       <defs>\r\n        <path d=\"M 10.6875 12.40625 \r\nL 21 12.40625 \r\nL 21 0 \r\nL 10.6875 0 \r\nz\r\n\" id=\"DejaVuSans-46\"/>\r\n       </defs>\r\n       <use xlink:href=\"#DejaVuSans-49\"/>\r\n       <use x=\"63.623047\" xlink:href=\"#DejaVuSans-46\"/>\r\n       <use x=\"95.410156\" xlink:href=\"#DejaVuSans-48\"/>\r\n      </g>\r\n     </g>\r\n    </g>\r\n    <g id=\"ytick_2\">\r\n     <g id=\"line2d_55\">\r\n      <path clip-path=\"url(#p4ed9a11e39)\" d=\"M 30.103125 290.219616 \r\nL 978.703125 290.219616 \r\n\" style=\"fill:none;stroke:#b0b0b0;stroke-linecap:square;stroke-width:0.8;\"/>\r\n     </g>\r\n     <g id=\"line2d_56\">\r\n      <g>\r\n       <use style=\"stroke:#000000;stroke-width:0.8;\" x=\"30.103125\" xlink:href=\"#m36ea95c472\" y=\"290.219616\"/>\r\n      </g>\r\n     </g>\r\n     <g id=\"text_29\">\r\n      <!-- 1.5 -->\r\n      <g transform=\"translate(7.2 294.018835)scale(0.1 -0.1)\">\r\n       <use xlink:href=\"#DejaVuSans-49\"/>\r\n       <use x=\"63.623047\" xlink:href=\"#DejaVuSans-46\"/>\r\n       <use x=\"95.410156\" xlink:href=\"#DejaVuSans-53\"/>\r\n      </g>\r\n     </g>\r\n    </g>\r\n    <g id=\"ytick_3\">\r\n     <g id=\"line2d_57\">\r\n      <path clip-path=\"url(#p4ed9a11e39)\" d=\"M 30.103125 212.659208 \r\nL 978.703125 212.659208 \r\n\" style=\"fill:none;stroke:#b0b0b0;stroke-linecap:square;stroke-width:0.8;\"/>\r\n     </g>\r\n     <g id=\"line2d_58\">\r\n      <g>\r\n       <use style=\"stroke:#000000;stroke-width:0.8;\" x=\"30.103125\" xlink:href=\"#m36ea95c472\" y=\"212.659208\"/>\r\n      </g>\r\n     </g>\r\n     <g id=\"text_30\">\r\n      <!-- 2.0 -->\r\n      <g transform=\"translate(7.2 216.458427)scale(0.1 -0.1)\">\r\n       <use xlink:href=\"#DejaVuSans-50\"/>\r\n       <use x=\"63.623047\" xlink:href=\"#DejaVuSans-46\"/>\r\n       <use x=\"95.410156\" xlink:href=\"#DejaVuSans-48\"/>\r\n      </g>\r\n     </g>\r\n    </g>\r\n    <g id=\"ytick_4\">\r\n     <g id=\"line2d_59\">\r\n      <path clip-path=\"url(#p4ed9a11e39)\" d=\"M 30.103125 135.0988 \r\nL 978.703125 135.0988 \r\n\" style=\"fill:none;stroke:#b0b0b0;stroke-linecap:square;stroke-width:0.8;\"/>\r\n     </g>\r\n     <g id=\"line2d_60\">\r\n      <g>\r\n       <use style=\"stroke:#000000;stroke-width:0.8;\" x=\"30.103125\" xlink:href=\"#m36ea95c472\" y=\"135.0988\"/>\r\n      </g>\r\n     </g>\r\n     <g id=\"text_31\">\r\n      <!-- 2.5 -->\r\n      <g transform=\"translate(7.2 138.898019)scale(0.1 -0.1)\">\r\n       <use xlink:href=\"#DejaVuSans-50\"/>\r\n       <use x=\"63.623047\" xlink:href=\"#DejaVuSans-46\"/>\r\n       <use x=\"95.410156\" xlink:href=\"#DejaVuSans-53\"/>\r\n      </g>\r\n     </g>\r\n    </g>\r\n    <g id=\"ytick_5\">\r\n     <g id=\"line2d_61\">\r\n      <path clip-path=\"url(#p4ed9a11e39)\" d=\"M 30.103125 57.538391 \r\nL 978.703125 57.538391 \r\n\" style=\"fill:none;stroke:#b0b0b0;stroke-linecap:square;stroke-width:0.8;\"/>\r\n     </g>\r\n     <g id=\"line2d_62\">\r\n      <g>\r\n       <use style=\"stroke:#000000;stroke-width:0.8;\" x=\"30.103125\" xlink:href=\"#m36ea95c472\" y=\"57.538391\"/>\r\n      </g>\r\n     </g>\r\n     <g id=\"text_32\">\r\n      <!-- 3.0 -->\r\n      <g transform=\"translate(7.2 61.33761)scale(0.1 -0.1)\">\r\n       <use xlink:href=\"#DejaVuSans-51\"/>\r\n       <use x=\"63.623047\" xlink:href=\"#DejaVuSans-46\"/>\r\n       <use x=\"95.410156\" xlink:href=\"#DejaVuSans-48\"/>\r\n      </g>\r\n     </g>\r\n    </g>\r\n   </g>\r\n   <g id=\"line2d_63\">\r\n    <path clip-path=\"url(#p4ed9a11e39)\" d=\"M 73.221307 329.964502 \r\nL 107.715852 304.023039 \r\nL 142.210398 241.923286 \r\nL 176.704943 304.171031 \r\nL 211.199489 213.783272 \r\nL 245.694034 171.067478 \r\nL 280.18858 232.832166 \r\nL 314.683125 96.220347 \r\nL 349.17767 212.847119 \r\nL 383.672216 160.413792 \r\nL 418.166761 224.18125 \r\nL 452.661307 330.883072 \r\nL 487.155852 274.376169 \r\nL 521.650398 217.558881 \r\nL 556.144943 270.614896 \r\nL 590.639489 53.051864 \r\nL 625.134034 157.049859 \r\nL 659.62858 153.401122 \r\nL 694.123125 182.566486 \r\nL 728.61767 246.056324 \r\nL 763.112216 246.410142 \r\nL 797.606761 259.181929 \r\nL 832.101307 398.979136 \r\nL 866.595852 319.863123 \r\nL 901.090398 317.714576 \r\nL 935.584943 269.71126 \r\n\" style=\"fill:none;stroke:#1f77b4;stroke-linecap:square;stroke-width:1.5;\"/>\r\n    <defs>\r\n     <path d=\"M 0 3 \r\nC 0.795609 3 1.55874 2.683901 2.12132 2.12132 \r\nC 2.683901 1.55874 3 0.795609 3 0 \r\nC 3 -0.795609 2.683901 -1.55874 2.12132 -2.12132 \r\nC 1.55874 -2.683901 0.795609 -3 0 -3 \r\nC -0.795609 -3 -1.55874 -2.683901 -2.12132 -2.12132 \r\nC -2.683901 -1.55874 -3 -0.795609 -3 0 \r\nC -3 0.795609 -2.683901 1.55874 -2.12132 2.12132 \r\nC -1.55874 2.683901 -0.795609 3 0 3 \r\nz\r\n\" id=\"m5479d55870\" style=\"stroke:#1f77b4;\"/>\r\n    </defs>\r\n    <g clip-path=\"url(#p4ed9a11e39)\">\r\n     <use style=\"fill:#1f77b4;stroke:#1f77b4;\" x=\"73.221307\" xlink:href=\"#m5479d55870\" y=\"329.964502\"/>\r\n     <use style=\"fill:#1f77b4;stroke:#1f77b4;\" x=\"107.715852\" xlink:href=\"#m5479d55870\" y=\"304.023039\"/>\r\n     <use style=\"fill:#1f77b4;stroke:#1f77b4;\" x=\"142.210398\" xlink:href=\"#m5479d55870\" y=\"241.923286\"/>\r\n     <use style=\"fill:#1f77b4;stroke:#1f77b4;\" x=\"176.704943\" xlink:href=\"#m5479d55870\" y=\"304.171031\"/>\r\n     <use style=\"fill:#1f77b4;stroke:#1f77b4;\" x=\"211.199489\" xlink:href=\"#m5479d55870\" y=\"213.783272\"/>\r\n     <use style=\"fill:#1f77b4;stroke:#1f77b4;\" x=\"245.694034\" xlink:href=\"#m5479d55870\" y=\"171.067478\"/>\r\n     <use style=\"fill:#1f77b4;stroke:#1f77b4;\" x=\"280.18858\" xlink:href=\"#m5479d55870\" y=\"232.832166\"/>\r\n     <use style=\"fill:#1f77b4;stroke:#1f77b4;\" x=\"314.683125\" xlink:href=\"#m5479d55870\" y=\"96.220347\"/>\r\n     <use style=\"fill:#1f77b4;stroke:#1f77b4;\" x=\"349.17767\" xlink:href=\"#m5479d55870\" y=\"212.847119\"/>\r\n     <use style=\"fill:#1f77b4;stroke:#1f77b4;\" x=\"383.672216\" xlink:href=\"#m5479d55870\" y=\"160.413792\"/>\r\n     <use style=\"fill:#1f77b4;stroke:#1f77b4;\" x=\"418.166761\" xlink:href=\"#m5479d55870\" y=\"224.18125\"/>\r\n     <use style=\"fill:#1f77b4;stroke:#1f77b4;\" x=\"452.661307\" xlink:href=\"#m5479d55870\" y=\"330.883072\"/>\r\n     <use style=\"fill:#1f77b4;stroke:#1f77b4;\" x=\"487.155852\" xlink:href=\"#m5479d55870\" y=\"274.376169\"/>\r\n     <use style=\"fill:#1f77b4;stroke:#1f77b4;\" x=\"521.650398\" xlink:href=\"#m5479d55870\" y=\"217.558881\"/>\r\n     <use style=\"fill:#1f77b4;stroke:#1f77b4;\" x=\"556.144943\" xlink:href=\"#m5479d55870\" y=\"270.614896\"/>\r\n     <use style=\"fill:#1f77b4;stroke:#1f77b4;\" x=\"590.639489\" xlink:href=\"#m5479d55870\" y=\"53.051864\"/>\r\n     <use style=\"fill:#1f77b4;stroke:#1f77b4;\" x=\"625.134034\" xlink:href=\"#m5479d55870\" y=\"157.049859\"/>\r\n     <use style=\"fill:#1f77b4;stroke:#1f77b4;\" x=\"659.62858\" xlink:href=\"#m5479d55870\" y=\"153.401122\"/>\r\n     <use style=\"fill:#1f77b4;stroke:#1f77b4;\" x=\"694.123125\" xlink:href=\"#m5479d55870\" y=\"182.566486\"/>\r\n     <use style=\"fill:#1f77b4;stroke:#1f77b4;\" x=\"728.61767\" xlink:href=\"#m5479d55870\" y=\"246.056324\"/>\r\n     <use style=\"fill:#1f77b4;stroke:#1f77b4;\" x=\"763.112216\" xlink:href=\"#m5479d55870\" y=\"246.410142\"/>\r\n     <use style=\"fill:#1f77b4;stroke:#1f77b4;\" x=\"797.606761\" xlink:href=\"#m5479d55870\" y=\"259.181929\"/>\r\n     <use style=\"fill:#1f77b4;stroke:#1f77b4;\" x=\"832.101307\" xlink:href=\"#m5479d55870\" y=\"398.979136\"/>\r\n     <use style=\"fill:#1f77b4;stroke:#1f77b4;\" x=\"866.595852\" xlink:href=\"#m5479d55870\" y=\"319.863123\"/>\r\n     <use style=\"fill:#1f77b4;stroke:#1f77b4;\" x=\"901.090398\" xlink:href=\"#m5479d55870\" y=\"317.714576\"/>\r\n     <use style=\"fill:#1f77b4;stroke:#1f77b4;\" x=\"935.584943\" xlink:href=\"#m5479d55870\" y=\"269.71126\"/>\r\n    </g>\r\n   </g>\r\n   <g id=\"patch_3\">\r\n    <path d=\"M 30.103125 416.2755 \r\nL 30.103125 35.7555 \r\n\" style=\"fill:none;stroke:#000000;stroke-linecap:square;stroke-linejoin:miter;stroke-width:0.8;\"/>\r\n   </g>\r\n   <g id=\"patch_4\">\r\n    <path d=\"M 978.703125 416.2755 \r\nL 978.703125 35.7555 \r\n\" style=\"fill:none;stroke:#000000;stroke-linecap:square;stroke-linejoin:miter;stroke-width:0.8;\"/>\r\n   </g>\r\n   <g id=\"patch_5\">\r\n    <path d=\"M 30.103125 416.2755 \r\nL 978.703125 416.2755 \r\n\" style=\"fill:none;stroke:#000000;stroke-linecap:square;stroke-linejoin:miter;stroke-width:0.8;\"/>\r\n   </g>\r\n   <g id=\"patch_6\">\r\n    <path d=\"M 30.103125 35.7555 \r\nL 978.703125 35.7555 \r\n\" style=\"fill:none;stroke:#000000;stroke-linecap:square;stroke-linejoin:miter;stroke-width:0.8;\"/>\r\n   </g>\r\n   <g id=\"text_33\">\r\n    <!-- Topic 12 -->\r\n    <g transform=\"translate(479.770313 16.318125)scale(0.12 -0.12)\">\r\n     <defs>\r\n      <path d=\"M -0.296875 72.90625 \r\nL 61.375 72.90625 \r\nL 61.375 64.59375 \r\nL 35.5 64.59375 \r\nL 35.5 0 \r\nL 25.59375 0 \r\nL 25.59375 64.59375 \r\nL -0.296875 64.59375 \r\nz\r\n\" id=\"DejaVuSans-84\"/>\r\n      <path d=\"M 30.609375 48.390625 \r\nQ 23.390625 48.390625 19.1875 42.75 \r\nQ 14.984375 37.109375 14.984375 27.296875 \r\nQ 14.984375 17.484375 19.15625 11.84375 \r\nQ 23.34375 6.203125 30.609375 6.203125 \r\nQ 37.796875 6.203125 41.984375 11.859375 \r\nQ 46.1875 17.53125 46.1875 27.296875 \r\nQ 46.1875 37.015625 41.984375 42.703125 \r\nQ 37.796875 48.390625 30.609375 48.390625 \r\nz\r\nM 30.609375 56 \r\nQ 42.328125 56 49.015625 48.375 \r\nQ 55.71875 40.765625 55.71875 27.296875 \r\nQ 55.71875 13.875 49.015625 6.21875 \r\nQ 42.328125 -1.421875 30.609375 -1.421875 \r\nQ 18.84375 -1.421875 12.171875 6.21875 \r\nQ 5.515625 13.875 5.515625 27.296875 \r\nQ 5.515625 40.765625 12.171875 48.375 \r\nQ 18.84375 56 30.609375 56 \r\nz\r\n\" id=\"DejaVuSans-111\"/>\r\n      <path d=\"M 18.109375 8.203125 \r\nL 18.109375 -20.796875 \r\nL 9.078125 -20.796875 \r\nL 9.078125 54.6875 \r\nL 18.109375 54.6875 \r\nL 18.109375 46.390625 \r\nQ 20.953125 51.265625 25.265625 53.625 \r\nQ 29.59375 56 35.59375 56 \r\nQ 45.5625 56 51.78125 48.09375 \r\nQ 58.015625 40.1875 58.015625 27.296875 \r\nQ 58.015625 14.40625 51.78125 6.484375 \r\nQ 45.5625 -1.421875 35.59375 -1.421875 \r\nQ 29.59375 -1.421875 25.265625 0.953125 \r\nQ 20.953125 3.328125 18.109375 8.203125 \r\nz\r\nM 48.6875 27.296875 \r\nQ 48.6875 37.203125 44.609375 42.84375 \r\nQ 40.53125 48.484375 33.40625 48.484375 \r\nQ 26.265625 48.484375 22.1875 42.84375 \r\nQ 18.109375 37.203125 18.109375 27.296875 \r\nQ 18.109375 17.390625 22.1875 11.75 \r\nQ 26.265625 6.109375 33.40625 6.109375 \r\nQ 40.53125 6.109375 44.609375 11.75 \r\nQ 48.6875 17.390625 48.6875 27.296875 \r\nz\r\n\" id=\"DejaVuSans-112\"/>\r\n      <path d=\"M 9.421875 54.6875 \r\nL 18.40625 54.6875 \r\nL 18.40625 0 \r\nL 9.421875 0 \r\nz\r\nM 9.421875 75.984375 \r\nL 18.40625 75.984375 \r\nL 18.40625 64.59375 \r\nL 9.421875 64.59375 \r\nz\r\n\" id=\"DejaVuSans-105\"/>\r\n      <path d=\"M 48.78125 52.59375 \r\nL 48.78125 44.1875 \r\nQ 44.96875 46.296875 41.140625 47.34375 \r\nQ 37.3125 48.390625 33.40625 48.390625 \r\nQ 24.65625 48.390625 19.8125 42.84375 \r\nQ 14.984375 37.3125 14.984375 27.296875 \r\nQ 14.984375 17.28125 19.8125 11.734375 \r\nQ 24.65625 6.203125 33.40625 6.203125 \r\nQ 37.3125 6.203125 41.140625 7.25 \r\nQ 44.96875 8.296875 48.78125 10.40625 \r\nL 48.78125 2.09375 \r\nQ 45.015625 0.34375 40.984375 -0.53125 \r\nQ 36.96875 -1.421875 32.421875 -1.421875 \r\nQ 20.0625 -1.421875 12.78125 6.34375 \r\nQ 5.515625 14.109375 5.515625 27.296875 \r\nQ 5.515625 40.671875 12.859375 48.328125 \r\nQ 20.21875 56 33.015625 56 \r\nQ 37.15625 56 41.109375 55.140625 \r\nQ 45.0625 54.296875 48.78125 52.59375 \r\nz\r\n\" id=\"DejaVuSans-99\"/>\r\n      <path id=\"DejaVuSans-32\"/>\r\n     </defs>\r\n     <use xlink:href=\"#DejaVuSans-84\"/>\r\n     <use x=\"44.083984\" xlink:href=\"#DejaVuSans-111\"/>\r\n     <use x=\"105.265625\" xlink:href=\"#DejaVuSans-112\"/>\r\n     <use x=\"168.742188\" xlink:href=\"#DejaVuSans-105\"/>\r\n     <use x=\"196.525391\" xlink:href=\"#DejaVuSans-99\"/>\r\n     <use x=\"251.505859\" xlink:href=\"#DejaVuSans-32\"/>\r\n     <use x=\"283.292969\" xlink:href=\"#DejaVuSans-49\"/>\r\n     <use x=\"346.916016\" xlink:href=\"#DejaVuSans-50\"/>\r\n    </g>\r\n    <!-- cultura, turismo, cidade, festa, visita, belo, atividade, evento, turistico, mundo -->\r\n    <g transform=\"translate(268.298438 29.7555)scale(0.12 -0.12)\">\r\n     <defs>\r\n      <path d=\"M 8.5 21.578125 \r\nL 8.5 54.6875 \r\nL 17.484375 54.6875 \r\nL 17.484375 21.921875 \r\nQ 17.484375 14.15625 20.5 10.265625 \r\nQ 23.53125 6.390625 29.59375 6.390625 \r\nQ 36.859375 6.390625 41.078125 11.03125 \r\nQ 45.3125 15.671875 45.3125 23.6875 \r\nL 45.3125 54.6875 \r\nL 54.296875 54.6875 \r\nL 54.296875 0 \r\nL 45.3125 0 \r\nL 45.3125 8.40625 \r\nQ 42.046875 3.421875 37.71875 1 \r\nQ 33.40625 -1.421875 27.6875 -1.421875 \r\nQ 18.265625 -1.421875 13.375 4.4375 \r\nQ 8.5 10.296875 8.5 21.578125 \r\nz\r\nM 31.109375 56 \r\nz\r\n\" id=\"DejaVuSans-117\"/>\r\n      <path d=\"M 9.421875 75.984375 \r\nL 18.40625 75.984375 \r\nL 18.40625 0 \r\nL 9.421875 0 \r\nz\r\n\" id=\"DejaVuSans-108\"/>\r\n      <path d=\"M 18.3125 70.21875 \r\nL 18.3125 54.6875 \r\nL 36.8125 54.6875 \r\nL 36.8125 47.703125 \r\nL 18.3125 47.703125 \r\nL 18.3125 18.015625 \r\nQ 18.3125 11.328125 20.140625 9.421875 \r\nQ 21.96875 7.515625 27.59375 7.515625 \r\nL 36.8125 7.515625 \r\nL 36.8125 0 \r\nL 27.59375 0 \r\nQ 17.1875 0 13.234375 3.875 \r\nQ 9.28125 7.765625 9.28125 18.015625 \r\nL 9.28125 47.703125 \r\nL 2.6875 47.703125 \r\nL 2.6875 54.6875 \r\nL 9.28125 54.6875 \r\nL 9.28125 70.21875 \r\nz\r\n\" id=\"DejaVuSans-116\"/>\r\n      <path d=\"M 11.71875 12.40625 \r\nL 22.015625 12.40625 \r\nL 22.015625 4 \r\nL 14.015625 -11.625 \r\nL 7.71875 -11.625 \r\nL 11.71875 4 \r\nz\r\n\" id=\"DejaVuSans-44\"/>\r\n      <path d=\"M 44.28125 53.078125 \r\nL 44.28125 44.578125 \r\nQ 40.484375 46.53125 36.375 47.5 \r\nQ 32.28125 48.484375 27.875 48.484375 \r\nQ 21.1875 48.484375 17.84375 46.4375 \r\nQ 14.5 44.390625 14.5 40.28125 \r\nQ 14.5 37.15625 16.890625 35.375 \r\nQ 19.28125 33.59375 26.515625 31.984375 \r\nL 29.59375 31.296875 \r\nQ 39.15625 29.25 43.1875 25.515625 \r\nQ 47.21875 21.78125 47.21875 15.09375 \r\nQ 47.21875 7.46875 41.1875 3.015625 \r\nQ 35.15625 -1.421875 24.609375 -1.421875 \r\nQ 20.21875 -1.421875 15.453125 -0.5625 \r\nQ 10.6875 0.296875 5.421875 2 \r\nL 5.421875 11.28125 \r\nQ 10.40625 8.6875 15.234375 7.390625 \r\nQ 20.0625 6.109375 24.8125 6.109375 \r\nQ 31.15625 6.109375 34.5625 8.28125 \r\nQ 37.984375 10.453125 37.984375 14.40625 \r\nQ 37.984375 18.0625 35.515625 20.015625 \r\nQ 33.0625 21.96875 24.703125 23.78125 \r\nL 21.578125 24.515625 \r\nQ 13.234375 26.265625 9.515625 29.90625 \r\nQ 5.8125 33.546875 5.8125 39.890625 \r\nQ 5.8125 47.609375 11.28125 51.796875 \r\nQ 16.75 56 26.8125 56 \r\nQ 31.78125 56 36.171875 55.265625 \r\nQ 40.578125 54.546875 44.28125 53.078125 \r\nz\r\n\" id=\"DejaVuSans-115\"/>\r\n      <path d=\"M 52 44.1875 \r\nQ 55.375 50.25 60.0625 53.125 \r\nQ 64.75 56 71.09375 56 \r\nQ 79.640625 56 84.28125 50.015625 \r\nQ 88.921875 44.046875 88.921875 33.015625 \r\nL 88.921875 0 \r\nL 79.890625 0 \r\nL 79.890625 32.71875 \r\nQ 79.890625 40.578125 77.09375 44.375 \r\nQ 74.3125 48.1875 68.609375 48.1875 \r\nQ 61.625 48.1875 57.5625 43.546875 \r\nQ 53.515625 38.921875 53.515625 30.90625 \r\nL 53.515625 0 \r\nL 44.484375 0 \r\nL 44.484375 32.71875 \r\nQ 44.484375 40.625 41.703125 44.40625 \r\nQ 38.921875 48.1875 33.109375 48.1875 \r\nQ 26.21875 48.1875 22.15625 43.53125 \r\nQ 18.109375 38.875 18.109375 30.90625 \r\nL 18.109375 0 \r\nL 9.078125 0 \r\nL 9.078125 54.6875 \r\nL 18.109375 54.6875 \r\nL 18.109375 46.1875 \r\nQ 21.1875 51.21875 25.484375 53.609375 \r\nQ 29.78125 56 35.6875 56 \r\nQ 41.65625 56 45.828125 52.96875 \r\nQ 50 49.953125 52 44.1875 \r\nz\r\n\" id=\"DejaVuSans-109\"/>\r\n      <path d=\"M 45.40625 46.390625 \r\nL 45.40625 75.984375 \r\nL 54.390625 75.984375 \r\nL 54.390625 0 \r\nL 45.40625 0 \r\nL 45.40625 8.203125 \r\nQ 42.578125 3.328125 38.25 0.953125 \r\nQ 33.9375 -1.421875 27.875 -1.421875 \r\nQ 17.96875 -1.421875 11.734375 6.484375 \r\nQ 5.515625 14.40625 5.515625 27.296875 \r\nQ 5.515625 40.1875 11.734375 48.09375 \r\nQ 17.96875 56 27.875 56 \r\nQ 33.9375 56 38.25 53.625 \r\nQ 42.578125 51.265625 45.40625 46.390625 \r\nz\r\nM 14.796875 27.296875 \r\nQ 14.796875 17.390625 18.875 11.75 \r\nQ 22.953125 6.109375 30.078125 6.109375 \r\nQ 37.203125 6.109375 41.296875 11.75 \r\nQ 45.40625 17.390625 45.40625 27.296875 \r\nQ 45.40625 37.203125 41.296875 42.84375 \r\nQ 37.203125 48.484375 30.078125 48.484375 \r\nQ 22.953125 48.484375 18.875 42.84375 \r\nQ 14.796875 37.203125 14.796875 27.296875 \r\nz\r\n\" id=\"DejaVuSans-100\"/>\r\n      <path d=\"M 37.109375 75.984375 \r\nL 37.109375 68.5 \r\nL 28.515625 68.5 \r\nQ 23.6875 68.5 21.796875 66.546875 \r\nQ 19.921875 64.59375 19.921875 59.515625 \r\nL 19.921875 54.6875 \r\nL 34.71875 54.6875 \r\nL 34.71875 47.703125 \r\nL 19.921875 47.703125 \r\nL 19.921875 0 \r\nL 10.890625 0 \r\nL 10.890625 47.703125 \r\nL 2.296875 47.703125 \r\nL 2.296875 54.6875 \r\nL 10.890625 54.6875 \r\nL 10.890625 58.5 \r\nQ 10.890625 67.625 15.140625 71.796875 \r\nQ 19.390625 75.984375 28.609375 75.984375 \r\nz\r\n\" id=\"DejaVuSans-102\"/>\r\n      <path d=\"M 2.984375 54.6875 \r\nL 12.5 54.6875 \r\nL 29.59375 8.796875 \r\nL 46.6875 54.6875 \r\nL 56.203125 54.6875 \r\nL 35.6875 0 \r\nL 23.484375 0 \r\nz\r\n\" id=\"DejaVuSans-118\"/>\r\n      <path d=\"M 48.6875 27.296875 \r\nQ 48.6875 37.203125 44.609375 42.84375 \r\nQ 40.53125 48.484375 33.40625 48.484375 \r\nQ 26.265625 48.484375 22.1875 42.84375 \r\nQ 18.109375 37.203125 18.109375 27.296875 \r\nQ 18.109375 17.390625 22.1875 11.75 \r\nQ 26.265625 6.109375 33.40625 6.109375 \r\nQ 40.53125 6.109375 44.609375 11.75 \r\nQ 48.6875 17.390625 48.6875 27.296875 \r\nz\r\nM 18.109375 46.390625 \r\nQ 20.953125 51.265625 25.265625 53.625 \r\nQ 29.59375 56 35.59375 56 \r\nQ 45.5625 56 51.78125 48.09375 \r\nQ 58.015625 40.1875 58.015625 27.296875 \r\nQ 58.015625 14.40625 51.78125 6.484375 \r\nQ 45.5625 -1.421875 35.59375 -1.421875 \r\nQ 29.59375 -1.421875 25.265625 0.953125 \r\nQ 20.953125 3.328125 18.109375 8.203125 \r\nL 18.109375 0 \r\nL 9.078125 0 \r\nL 9.078125 75.984375 \r\nL 18.109375 75.984375 \r\nz\r\n\" id=\"DejaVuSans-98\"/>\r\n      <path d=\"M 54.890625 33.015625 \r\nL 54.890625 0 \r\nL 45.90625 0 \r\nL 45.90625 32.71875 \r\nQ 45.90625 40.484375 42.875 44.328125 \r\nQ 39.84375 48.1875 33.796875 48.1875 \r\nQ 26.515625 48.1875 22.3125 43.546875 \r\nQ 18.109375 38.921875 18.109375 30.90625 \r\nL 18.109375 0 \r\nL 9.078125 0 \r\nL 9.078125 54.6875 \r\nL 18.109375 54.6875 \r\nL 18.109375 46.1875 \r\nQ 21.34375 51.125 25.703125 53.5625 \r\nQ 30.078125 56 35.796875 56 \r\nQ 45.21875 56 50.046875 50.171875 \r\nQ 54.890625 44.34375 54.890625 33.015625 \r\nz\r\n\" id=\"DejaVuSans-110\"/>\r\n     </defs>\r\n     <use xlink:href=\"#DejaVuSans-99\"/>\r\n     <use x=\"54.980469\" xlink:href=\"#DejaVuSans-117\"/>\r\n     <use x=\"118.359375\" xlink:href=\"#DejaVuSans-108\"/>\r\n     <use x=\"146.142578\" xlink:href=\"#DejaVuSans-116\"/>\r\n     <use x=\"185.351562\" xlink:href=\"#DejaVuSans-117\"/>\r\n     <use x=\"248.730469\" xlink:href=\"#DejaVuSans-114\"/>\r\n     <use x=\"289.84375\" xlink:href=\"#DejaVuSans-97\"/>\r\n     <use x=\"351.123047\" xlink:href=\"#DejaVuSans-44\"/>\r\n     <use x=\"382.910156\" xlink:href=\"#DejaVuSans-32\"/>\r\n     <use x=\"414.697266\" xlink:href=\"#DejaVuSans-116\"/>\r\n     <use x=\"453.90625\" xlink:href=\"#DejaVuSans-117\"/>\r\n     <use x=\"517.285156\" xlink:href=\"#DejaVuSans-114\"/>\r\n     <use x=\"558.398438\" xlink:href=\"#DejaVuSans-105\"/>\r\n     <use x=\"586.181641\" xlink:href=\"#DejaVuSans-115\"/>\r\n     <use x=\"638.28125\" xlink:href=\"#DejaVuSans-109\"/>\r\n     <use x=\"735.693359\" xlink:href=\"#DejaVuSans-111\"/>\r\n     <use x=\"796.875\" xlink:href=\"#DejaVuSans-44\"/>\r\n     <use x=\"828.662109\" xlink:href=\"#DejaVuSans-32\"/>\r\n     <use x=\"860.449219\" xlink:href=\"#DejaVuSans-99\"/>\r\n     <use x=\"915.429688\" xlink:href=\"#DejaVuSans-105\"/>\r\n     <use x=\"943.212891\" xlink:href=\"#DejaVuSans-100\"/>\r\n     <use x=\"1006.689453\" xlink:href=\"#DejaVuSans-97\"/>\r\n     <use x=\"1067.96875\" xlink:href=\"#DejaVuSans-100\"/>\r\n     <use x=\"1131.445312\" xlink:href=\"#DejaVuSans-101\"/>\r\n     <use x=\"1192.96875\" xlink:href=\"#DejaVuSans-44\"/>\r\n     <use x=\"1224.755859\" xlink:href=\"#DejaVuSans-32\"/>\r\n     <use x=\"1256.542969\" xlink:href=\"#DejaVuSans-102\"/>\r\n     <use x=\"1291.748047\" xlink:href=\"#DejaVuSans-101\"/>\r\n     <use x=\"1353.271484\" xlink:href=\"#DejaVuSans-115\"/>\r\n     <use x=\"1405.371094\" xlink:href=\"#DejaVuSans-116\"/>\r\n     <use x=\"1444.580078\" xlink:href=\"#DejaVuSans-97\"/>\r\n     <use x=\"1505.859375\" xlink:href=\"#DejaVuSans-44\"/>\r\n     <use x=\"1537.646484\" xlink:href=\"#DejaVuSans-32\"/>\r\n     <use x=\"1569.433594\" xlink:href=\"#DejaVuSans-118\"/>\r\n     <use x=\"1628.613281\" xlink:href=\"#DejaVuSans-105\"/>\r\n     <use x=\"1656.396484\" xlink:href=\"#DejaVuSans-115\"/>\r\n     <use x=\"1708.496094\" xlink:href=\"#DejaVuSans-105\"/>\r\n     <use x=\"1736.279297\" xlink:href=\"#DejaVuSans-116\"/>\r\n     <use x=\"1775.488281\" xlink:href=\"#DejaVuSans-97\"/>\r\n     <use x=\"1836.767578\" xlink:href=\"#DejaVuSans-44\"/>\r\n     <use x=\"1868.554688\" xlink:href=\"#DejaVuSans-32\"/>\r\n     <use x=\"1900.341797\" xlink:href=\"#DejaVuSans-98\"/>\r\n     <use x=\"1963.818359\" xlink:href=\"#DejaVuSans-101\"/>\r\n     <use x=\"2025.341797\" xlink:href=\"#DejaVuSans-108\"/>\r\n     <use x=\"2053.125\" xlink:href=\"#DejaVuSans-111\"/>\r\n     <use x=\"2114.306641\" xlink:href=\"#DejaVuSans-44\"/>\r\n     <use x=\"2146.09375\" xlink:href=\"#DejaVuSans-32\"/>\r\n     <use x=\"2177.880859\" xlink:href=\"#DejaVuSans-97\"/>\r\n     <use x=\"2239.160156\" xlink:href=\"#DejaVuSans-116\"/>\r\n     <use x=\"2278.369141\" xlink:href=\"#DejaVuSans-105\"/>\r\n     <use x=\"2306.152344\" xlink:href=\"#DejaVuSans-118\"/>\r\n     <use x=\"2365.332031\" xlink:href=\"#DejaVuSans-105\"/>\r\n     <use x=\"2393.115234\" xlink:href=\"#DejaVuSans-100\"/>\r\n     <use x=\"2456.591797\" xlink:href=\"#DejaVuSans-97\"/>\r\n     <use x=\"2517.871094\" xlink:href=\"#DejaVuSans-100\"/>\r\n     <use x=\"2581.347656\" xlink:href=\"#DejaVuSans-101\"/>\r\n     <use x=\"2642.871094\" xlink:href=\"#DejaVuSans-44\"/>\r\n     <use x=\"2674.658203\" xlink:href=\"#DejaVuSans-32\"/>\r\n     <use x=\"2706.445312\" xlink:href=\"#DejaVuSans-101\"/>\r\n     <use x=\"2767.96875\" xlink:href=\"#DejaVuSans-118\"/>\r\n     <use x=\"2827.148438\" xlink:href=\"#DejaVuSans-101\"/>\r\n     <use x=\"2888.671875\" xlink:href=\"#DejaVuSans-110\"/>\r\n     <use x=\"2952.050781\" xlink:href=\"#DejaVuSans-116\"/>\r\n     <use x=\"2991.259766\" xlink:href=\"#DejaVuSans-111\"/>\r\n     <use x=\"3052.441406\" xlink:href=\"#DejaVuSans-44\"/>\r\n     <use x=\"3084.228516\" xlink:href=\"#DejaVuSans-32\"/>\r\n     <use x=\"3116.015625\" xlink:href=\"#DejaVuSans-116\"/>\r\n     <use x=\"3155.224609\" xlink:href=\"#DejaVuSans-117\"/>\r\n     <use x=\"3218.603516\" xlink:href=\"#DejaVuSans-114\"/>\r\n     <use x=\"3259.716797\" xlink:href=\"#DejaVuSans-105\"/>\r\n     <use x=\"3287.5\" xlink:href=\"#DejaVuSans-115\"/>\r\n     <use x=\"3339.599609\" xlink:href=\"#DejaVuSans-116\"/>\r\n     <use x=\"3378.808594\" xlink:href=\"#DejaVuSans-105\"/>\r\n     <use x=\"3406.591797\" xlink:href=\"#DejaVuSans-99\"/>\r\n     <use x=\"3461.572266\" xlink:href=\"#DejaVuSans-111\"/>\r\n     <use x=\"3522.753906\" xlink:href=\"#DejaVuSans-44\"/>\r\n     <use x=\"3554.541016\" xlink:href=\"#DejaVuSans-32\"/>\r\n     <use x=\"3586.328125\" xlink:href=\"#DejaVuSans-109\"/>\r\n     <use x=\"3683.740234\" xlink:href=\"#DejaVuSans-117\"/>\r\n     <use x=\"3747.119141\" xlink:href=\"#DejaVuSans-110\"/>\r\n     <use x=\"3810.498047\" xlink:href=\"#DejaVuSans-100\"/>\r\n     <use x=\"3873.974609\" xlink:href=\"#DejaVuSans-111\"/>\r\n    </g>\r\n   </g>\r\n  </g>\r\n </g>\r\n <defs>\r\n  <clipPath id=\"p4ed9a11e39\">\r\n   <rect height=\"380.52\" width=\"948.6\" x=\"30.103125\" y=\"35.7555\"/>\r\n  </clipPath>\r\n </defs>\r\n</svg>\r\n",
      "image/png": "[encoded data removed]"
     },
     "metadata": {
      "needs_background": "light"
     }
    }
   ],
   "source": [
    "topic = 12\n",
    "\n",
    "filtered_speeches = [\n",
    "    (\n",
    "        id, \n",
    "        date, \n",
    "        topics\n",
    "    )\n",
    "    for (id, date, topics) in disc_topics2\n",
    "    if topic in topics\n",
    "]\n",
    "\n",
    "# all speeches\n",
    "df_year_all = pd.DataFrame([\n",
    "    (i, d,  None)\n",
    "    for (i, d, t) in disc_topics\n",
    "], columns=[\"id\", \"date\", \"topics\"])\n",
    "df_year_all['date'] = pd.to_datetime(df_year_all['date'])\n",
    "df_year_all['year'] = df_year_all['date'].dt.year\n",
    "df_year_all_grouped = df_year_all[['year','id']].groupby('year').count()\n",
    "\n",
    "\n",
    "df = pd.DataFrame(filtered_topic_speeches, columns=[\"id\", \"date\", \"topics\"])\n",
    "df['date'] = pd.to_datetime(df['date'])\n",
    "df['year'] = df['date'].dt.year\n",
    "\n",
    "# df_grouped = df.groupby(df['year'])['id'].nunique()\n",
    "\n",
    "df_grouped = df[['year','id']].groupby('year').count()\n",
    "df_grouped[\"Total\"] = df_year_all[['year','id']].groupby('year').count()\n",
    "df_grouped['Percentage'] = df_grouped['id'] * 100 /df_grouped['Total']\n",
    "\n",
    "df_grouped\n",
    "\n",
    "\n",
    "\n",
    "df_grouped = df_grouped['Percentage']\n",
    "df_grouped\n",
    "\n",
    "\n",
    "\n",
    "xticks = df_grouped.index.to_list()\n",
    "yticks = df_grouped.values.tolist()\n",
    "plot = df_grouped.plot(marker='o', linestyle='-', grid=True, figsize=(17,7))\n",
    "\n",
    "plot.set_title(\"Topic {}\\n{}\".format(\n",
    "    topic, display_single_lda_topic(lda, topic))\n",
    "    )\n",
    "\n",
    "plot.set_xticks(xticks)\n",
    "# plot.set_yticks(yticks)\n",
    "# plot.tick_params(direction=\"in\")\n",
    "\n",
    "plot.xaxis.set_tick_params(rotation=45)\n",
    "\n"
   ]
  },
  {
   "cell_type": "code",
   "execution_count": null,
   "metadata": {},
   "outputs": [],
   "source": []
  }
 ]
}