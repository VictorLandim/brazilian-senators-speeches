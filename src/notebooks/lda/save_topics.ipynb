{
 "cells": [
  {
   "cell_type": "code",
   "execution_count": 1,
   "metadata": {},
   "outputs": [],
   "source": [
    "import pickle\n",
    "from gensim.models.wrappers import LdaMallet"
   ]
  },
  {
   "cell_type": "code",
   "execution_count": 6,
   "metadata": {},
   "outputs": [],
   "source": [
    "num_topics = 400\n",
    "model_name = '400_stem_it_3000_tt_03'\n",
    "\n",
    "path = '../../data/models/lda_model_{}.mdl'.format(model_name)\n",
    "\n",
    "lda = LdaMallet.load(path)\n",
    "\n",
    "with open('../../results/topics/topics_{}.txt'.format(model_name), 'w+') as f:\n",
    "    for index, topic in lda.show_topics(formatted=False, num_words= 10, num_topics=num_topics):\n",
    "        f.write('{}\\t{}\\n'.format(index, ', '.join(a[0] for a in topic)))\n"
   ]
  },
  {
   "cell_type": "code",
   "execution_count": null,
   "metadata": {},
   "outputs": [],
   "source": []
  }
 ],
 "metadata": {
  "kernelspec": {
   "display_name": "Python 3",
   "language": "python",
   "name": "python3"
  },
  "language_info": {
   "codemirror_mode": {
    "name": "ipython",
    "version": 3
   },
   "file_extension": ".py",
   "mimetype": "text/x-python",
   "name": "python",
   "nbconvert_exporter": "python",
   "pygments_lexer": "ipython3",
   "version": "3.7.6-final"
  }
 },
 "nbformat": 4,
 "nbformat_minor": 4
}