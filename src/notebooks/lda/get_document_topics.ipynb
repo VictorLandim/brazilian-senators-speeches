{
 "cells": [
  {
   "cell_type": "markdown",
   "metadata": {},
   "source": [
    "## Importar Bibliotecas"
   ]
  },
  {
   "cell_type": "code",
   "execution_count": 15,
   "metadata": {},
   "outputs": [
    {
     "output_type": "error",
     "ename": "NameError",
     "evalue": "name 'python' is not defined",
     "traceback": [
      "\u001b[0;31m---------------------------------------------------------------------------\u001b[0m",
      "\u001b[0;31mNameError\u001b[0m                                 Traceback (most recent call last)",
      "\u001b[0;32m<ipython-input-15-d9df82977764>\u001b[0m in \u001b[0;36m<module>\u001b[0;34m\u001b[0m\n\u001b[1;32m      9\u001b[0m \u001b[0mpd\u001b[0m\u001b[0;34m.\u001b[0m\u001b[0mset_option\u001b[0m\u001b[0;34m(\u001b[0m\u001b[0;34m'display.width'\u001b[0m\u001b[0;34m,\u001b[0m \u001b[0;36m1000\u001b[0m\u001b[0;34m)\u001b[0m\u001b[0;34m\u001b[0m\u001b[0;34m\u001b[0m\u001b[0m\n\u001b[1;32m     10\u001b[0m \u001b[0mpd\u001b[0m\u001b[0;34m.\u001b[0m\u001b[0mset_option\u001b[0m\u001b[0;34m(\u001b[0m\u001b[0;34m'display.max_colwidth'\u001b[0m\u001b[0;34m,\u001b[0m \u001b[0;36m1000\u001b[0m\u001b[0;34m)\u001b[0m\u001b[0;34m\u001b[0m\u001b[0;34m\u001b[0m\u001b[0m\n\u001b[0;32m---> 11\u001b[0;31m \u001b[0mpython\u001b[0m\u001b[0;34m.\u001b[0m\u001b[0mdataScience\u001b[0m\u001b[0;34m.\u001b[0m\u001b[0mtextOutputLimit\u001b[0m \u001b[0;34m=\u001b[0m \u001b[0;36m0\u001b[0m\u001b[0;34m\u001b[0m\u001b[0;34m\u001b[0m\u001b[0m\n\u001b[0m",
      "\u001b[0;31mNameError\u001b[0m: name 'python' is not defined"
     ]
    }
   ],
   "source": [
    "import pickle\n",
    "from gensim.models.wrappers import LdaMallet, ldamallet\n",
    "from gensim.corpora.dictionary import Dictionary\n",
    "import numpy as np\n",
    "import pandas as pd\n",
    "\n",
    "pd.set_option('display.max_rows', 500)\n",
    "pd.set_option('display.max_columns', 1000)\n",
    "pd.set_option('display.width', 1000)\n",
    "pd.set_option('display.max_colwidth', 1000)"
   ]
  },
  {
   "cell_type": "markdown",
   "metadata": {},
   "source": [
    "## Carregar modelo"
   ]
  },
  {
   "cell_type": "code",
   "execution_count": 3,
   "metadata": {
    "jupyter": {
     "outputs_hidden": true
    }
   },
   "outputs": [],
   "source": [
    "lda_mallet = LdaMallet.load(\"../../data/models/lda_model_400_stem_it_1000.mdl\")\n",
    "lda = ldamallet.malletmodel2ldamodel(lda_mallet)"
   ]
  },
  {
   "cell_type": "code",
   "execution_count": 13,
   "metadata": {},
   "outputs": [],
   "source": [
    "num_topics = 400"
   ]
  },
  {
   "cell_type": "markdown",
   "metadata": {},
   "source": [
    "## Funções "
   ]
  },
  {
   "cell_type": "code",
   "execution_count": 4,
   "metadata": {},
   "outputs": [],
   "source": [
    "def get_corpus_dict():\n",
    "    corpus = pickle.load(open('../../data/corpus.pickle', 'rb'))\n",
    "    dictionary = pickle.load((open('../../data/dictionary.pickle', 'rb')))\n",
    "    \n",
    "    return corpus, dictionary"
   ]
  },
  {
   "cell_type": "code",
   "execution_count": 5,
   "metadata": {},
   "outputs": [],
   "source": [
    "def get_document_topics(lda, corpus, doc_id, max_topics):\n",
    "    topics_df = pd.DataFrame()\n",
    "\n",
    "    topics = sorted(lda[corpus][doc_id], key=lambda x: (x[1]), reverse=True)[0:max_topics]\n",
    "        \n",
    "    for topic in topics:\n",
    "        topics_df = topics_df.append(\n",
    "            pd.Series([\n",
    "                topic[0], \n",
    "                str(round(topic[1]*100, 2)) + \"%\",\n",
    "                \", \".join([word for (word, prop) in lda.show_topic(topic[0])])\n",
    "            ]), ignore_index=True\n",
    "        )\n",
    "    \n",
    "    topics_df.columns = [\"Tópico Id\", \"Probabilidade\", \"Palavras\"]\n",
    "    \n",
    "    return topics_df"
   ]
  },
  {
   "cell_type": "code",
   "execution_count": 6,
   "metadata": {},
   "outputs": [],
   "source": [
    "def get_topic_documents(lda, corpus, topic_id, min_prob, num_documents):\n",
    "    document_list = []\n",
    "\n",
    "    for i, row in enumerate(lda[corpus]):\n",
    "        for topic, prob in row:\n",
    "            if topic == topic_id:\n",
    "#             if topic == topic_id and prob > min_prob:\n",
    "                document_list.append((i, prob))\n",
    "                \n",
    "#                 document_list.append((i, str(round(prob*100, 2)) + '%'))\n",
    "    \n",
    "    return sorted(document_list, key=lambda x: (x[1]), reverse=True)[0:num_documents]"
   ]
  },
  {
   "cell_type": "code",
   "execution_count": 7,
   "metadata": {},
   "outputs": [],
   "source": [
    "def get_discurso(id):\n",
    "    disc = pickle.load(open(\"../../data/discursos_raw/{}.pickle\".format(id), 'rb'))\n",
    "\n",
    "    print(disc[\"Conteudo\"])"
   ]
  },
  {
   "cell_type": "code",
   "execution_count": 8,
   "metadata": {},
   "outputs": [],
   "source": [
    "def show_topics(lda, num_topics):\n",
    "    for index, topic in lda.show_topics(formatted=False, num_words= 10, num_topics=num_topics):\n",
    "        print('{}\\t{}'.format(index, ', '.join(a[0] for a in topic)))"
   ]
  },
  {
   "cell_type": "code",
   "execution_count": 9,
   "metadata": {},
   "outputs": [],
   "source": [
    "def get_topics(lda, num_topics):\n",
    "    res = []\n",
    "    for index, topic in lda.show_topics(formatted=False, num_words= 10, num_topics=num_topics):\n",
    "        res.append([a[0] for a in topic])\n",
    "    \n",
    "    return res"
   ]
  },
  {
   "cell_type": "code",
   "execution_count": 10,
   "metadata": {},
   "outputs": [],
   "source": [
    "def search_topic(lda, word_input, num_topics):\n",
    "    result = []\n",
    "    for i, words in enumerate(get_topics(lda, num_topics)):\n",
    "        for word in words:\n",
    "            if word == word_input:\n",
    "                result.append((i, ', '.join(words)))\n",
    "    \n",
    "    return result"
   ]
  },
  {
   "cell_type": "code",
   "execution_count": 11,
   "metadata": {},
   "outputs": [],
   "source": [
    "corpus, dictionary = get_corpus_dict()"
   ]
  },
  {
   "cell_type": "markdown",
   "metadata": {},
   "source": [
    "## Quais são os 200 Tópicos?"
   ]
  },
  {
   "cell_type": "code",
   "execution_count": 16,
   "metadata": {
    "jupyter": {
     "outputs_hidden": true
    },
    "scrolled": true,
    "tags": [
     "outputPrepend"
    ]
   },
   "outputs": [
    {
     "output_type": "stream",
     "name": "stdout",
     "text": "0\tcivil, defesa, tragedia, incendio, aconteceu, desastre, barragem, risco, nacional, ocorre\n1\tjuros, taxa, economia, inflacao, alto, banco, baixa, central, aumento, brasil\n2\tmedida, provisoria, governo, congresso, edital, urgencia, aprovado, materia, prazo, casa\n3\taprovado, projeto, deputados, aprovacao, comissao, materia, autoria, regulamentacao, unanimidade, voto\n4\ttrabalho, sindical, sindicato, central, movimento, nacional, entidades, luta, social, categoria\n5\tgoverno, oposicao, partido, base, lider, critica, alias, queria, tentativa, fazendo\n6\tanos, ultimos, durante, passado, trinta, longo, periodo, completamente, chegar, cinquenta\n7\tprofissionais, tecnica, trabalho, curso, formacao, ensino, qualificacao, mercado, escola, qualificado\n8\tisrael, mundo, terrorismo, palestina, iraque, arabes, conflitos, judeus, oriente, medio\n9\taposentados, fatos, pensionistas, salario, previdenciario, aposentadoria, reajuste, minimo, previdencia, receber\n10\teconomia, governo, fiscal, publico, corte, gastos, ajuste, superavit, aumento, deficit\n11\tcrescimento, economia, queda, indice, resultado, periodo, passado, aumento, positivo, trimestre\n12\tcuba, obama, cubanos, estados, unidos, fidelidade, barack, mundo, pais, muro\n13\tbrasil, pais, nacao, nacional, republica, deveria, patria, penso, verdadeira, sentido\n14\tcasa, tribuna, palavras, instante, conhecimento, permite, ouvir, pronunciamento, ouco, permiteme\n15\ttecnologia, ciencia, pesquisa, desenvolvimento, cientifica, inovacao, conhecimento, brasil, central, universidade\n16\trecursos, governo, federal, liberar, milhoes, liberacao, verbas, destino, ministerio, orcamento\n17\tcodigo, legislacao, legal, leis, juridica, texto, civil, sociedade, brasil, normas\n18\tjaneiro, cidade, brasil, favelas, passado, carioca, morreu, volta, fluminense, fica\n19\tfechar, portos, abrir, aspas, abertura, passado, anos, continuar, deixar, montante\n20\tnacional, congresso, federal, deputados, republica, executivo, aprovado, parlamentar, encaminhar, enviado\n21\taconteceu, maneira, sentido, feito, conseguiu, chegar, possa, mostra, continuar, exatamente\n22\tqueria, ajudar, fala, trabalho, possa, melhor, importante, conta, vivendo, fazendo\n23\tindustria, setor, empresas, emprego, empresarios, fabrica, comercio, economia, nacional, desenvolvimento\n24\tbelo, paraense, governo, municipios, federal, alma, possa, feito, lamentavelmente, maraba\n25\tfederal, distrito, brasil, governo, cidade, capital, entorno, populacao, publico, brasiliense\n26\tprodutos, agricultura, agricola, setor, rural, agricultores, brasil, producao, agronegocio, safra\n27\tfinanciamento, bndes, credito, emprestimos, banco, recursos, financiar, operacoes, economia, operacao\n28\tagua, seca, nordeste, transposicao, semiarido, nordestino, regiao, barragem, irrigacao, obras\n29\tceara, cooperativas, fortaleza, cearense, cooperativismo, trabalho, forte, associar, edson, desenvolvimento\n30\tcrescimento, brasil, economia, pais, aumento, anos, investimentos, melhor, continuar, ultimos\n31\tlider, lideranca, partido, casa, entendimento, respeito, reuniao, pedir, minoria, desejo\n32\testados, unidos, americano, norteamericano, mundo, bush, america, clinton, george, washington\n33\tpolicia, seguranca, militar, publico, civil, bombeiros, federal, governo, guarda, corpo\n34\tministro, governo, fazenda, ministerio, palocci, mantega, guido, republica, pedir, assunto\n35\tbrasil, importante, repito, muita, exatamente, alias, federal, vivendo, debate, principalmente\n36\tgoverno, fala, gente, olha, mundo, ganhar, queria, realmente, anos, fica\n37\tlula, governo, brasil, republica, pais, lider, expresidente, historia, ministro, politica\n38\tentidades, nacional, associacao, representa, brasil, federacao, conselhos, confederacao, associacoes, diretamente\n39\tmulheres, homem, feminina, luta, direito, politica, general, trabalho, participacao, igualdade\n40\tminimo, gerais, belo, horizonte, brasil, vale, cidade, estados, representa, jequitinhonha\n41\tempresas, privatizacao, privada, estatal, vendo, capital, lucro, setor, patrimonio, controle\n42\tgoverno, anunciou, prometeu, promessas, cumprimento, espero, feito, passado, lamentavelmente, republica\n43\temenda, proposta, aprovado, apresentar, constitucional, deputados, constituicao, parlamentar, texto, aprovacao\n44\tempresas, pequenos, empresarios, empreendimentos, emprego, micro, negocio, simples, empresarial, economia\n45\tgoias, goiania, brasil, centrooeste, cidade, politica, pmdbgo, passado, capital, anapolis\n46\tuniversidade, ensino, curso, federal, superior, estudo, educacao, alunos, instituicoes, universitario\n47\ttributaria, imposto, cargo, arrecadacao, aliquota, tributario, aumento, icms, fiscal, pagar\n48\tlula, mensalao, partido, delubio, deputados, correio, palocci, esquema, campanha, envolvendo\n49\testudo, tecnica, analise, consulta, apresentar, trabalho, realizar, dados, feito, levar\n50\tlixo, solo, residuos, ambiente, material, reciclagem, coleta, brasil, pneus, catadores\n51\tcpmf, governo, imposto, saude, brasil, tributaria, contribuicao, bilhoes, prorrogacao, voto\n52\treducao, reduzir, medida, aumento, custo, adotar, efeito, impacto, diminuir, anunciou\n53\tabsolutamente, evidentemente, existe, maneira, extremamente, verdade, natureza, certo, creio, desses\n54\tcancer, trata, saude, doenca, brasil, mama, casa, exame, pacientes, mulheres\n55\trenda, basica, pessoas, minimo, direito, garantir, institui, programa, economia, receber\n56\ttrabalho, emprego, direito, domestica, social, horas, salario, terceirizacao, garantir, condicoes\n57\tgente, fala, pessoas, olha, queria, muita, preciso, coisas, chegar, fica\n58\tcomunicacao, inadiavel, apelo, casa, gostaria, sentido, meios, comunicar, registro, oportunidade\n59\tcolegas, nobres, brasil, casa, duvida, preciso, melhor, carinho, deixar, muita\n60\tidosos, pessoas, idade, anos, estatuto, vida, populacao, velho, social, brasil\n61\tgastos, publico, despesas, governo, dinheiro, conta, pagar, custo, aumento, corporativos\n62\tinteresse, nacional, defender, soberania, politica, defesa, pressao, forca, grupos, ameaca\n63\tgoverno, palacio, lula, planalto, republica, petista, ministro, passado, comecou, semana\n64\testabelecer, regras, criterios, limite, prazo, definir, mudanca, fixa, determinado, considero\n65\tcasa, federal, projeto, legislativo, nacional, proposta, iniciativa, tema, congresso, materia\n66\tpartido, politica, partidaria, trabalho, companheiros, nacional, alianca, deputados, socialista, filiados\n67\tagricultura, familiar, agricultores, rural, pequenos, producao, produtos, programa, credito, desenvolvimento\n68\tminutos, pronunciamento, peco, pedir, concluir, agradeco, fala, permite, concede, encerrar\n69\titalia, italiano, brasil, battisti, politica, cesare, ministro, refugiados, decisao, processo\n70\tpagar, receber, cobrar, conta, deveria, multa, cobranca, atraso, passado, dinheiro\n71\tmaconaria, brasil, oriente, macons, lojas, irmaos, independencia, sociedade, instituicao, historia\n72\tchico, borracha, aldo, seringueiros, rebelo, pessoas, natureza, seringais, trabalho, anos\n73\tpreciso, queria, telespectadores, radio, blocopp, ouvintes, exatamente, casa, especial, tema\n74\tgente, preciso, brasil, educacao, anos, futuro, fala, ideia, maneira, blocopdt\n75\tpernambuco, recife, federal, arraes, gostaria, nordeste, governo, lembrar, passado, importante\n76\tservicos, publico, federal, prestar, carreira, remuneracao, quadro, funcionarios, categoria, desses\n77\tfala, chegar, fica, pessoas, comecou, olha, preciso, mandou, dizendo, aconteceu\n78\tfamilia, programa, bolsa, renda, beneficios, social, pobres, governo, milhoes, receber\n79\tcrise, economia, enfrentar, brasil, vivendo, grave, politica, medida, situacao, mundo\n80\tbrasil, paises, mundo, unidos, europa, estados, alemanha, inglaterra, pais, espanha\n81\tdoenca, saude, trata, medico, vida, problema, cronica, obesidade, pacientes, portos\n82\ttema, golpe, michel, pais, brasil, impeachment, governo, politica, dilma, voto\n83\tpetroleo, presente, royalties, exploracao, riqueza, brasil, reserva, produtos, partilha, producao\n84\tparaiba, campina, cidade, pessoas, estados, queria, nordeste, blocoprb, chegar, passado\n85\tluta, defesa, causa, trabalho, defender, vida, continuar, bandeira, movimento, junto\n86\tbrasil, china, mundo, paises, pais, indo, russia, economia, coreia, estados\n87\thomenagem, sessao, palmas, presente, senhora, especial, queria, representa, brasil, exmo\n88\teleitoral, campanha, candidato, eleicoes, eleicao, eleitores, politica, voto, processo, urnas\n89\tobras, construcao, concluir, projeto, construir, paralisadas, iniciativa, inaugurar, conclusao, recursos\n90\tponte, brasil, francesa, governo, passado, ligados, guiana, encontro, anos, chegar\n91\timpeachment, decreto, responsabilidade, crime, processo, republica, pedaladas, julgamento, constituicao, meta\n92\tseguro, empresas, varig, aerus, companheiros, falencia, nacional, brasil, pagar, recuperacao\n93\trecursos, financiamento, destino, aplicados, aplicacao, utilizar, fundo, desses, fonte, financiar\n94\tturismo, turistico, turistas, brasil, hotel, mundo, setor, atividade, belo, desenvolvimento\n95\tespirito, santa, vitoria, capixaba, anos, importante, passado, vila, municipios, janeiro\n96\tcaixa, jogo, federal, bingos, casa, lotes, economia, bicho, dinheiro, publico\n97\tprojeto, apresentar, aprovado, autoria, tramita, casa, iniciativa, trata, aprovacao, possa\n98\testatuto, debate, fala, lembrar, claro, direito, apresentar, entendimento, tema, pronunciamento\n99\tbrasil, lingua, portugal, vinha, portuguesa, time, ingles, leste, cultura, fala\n100\tetica, casa, moral, politica, comportamento, respeito, partido, decoro, conduta, parlamentar\n101\tdrogas, trafico, combate, crack, narcotrafico, traficantes, problema, consumo, cocaina, usuarios\n102\tjulgamento, condenado, justica, processo, prisao, prova, presente, juiz, direito, instancia\n103\tjuiz, justica, judiciario, processo, magistrados, tribuna, judicial, direito, julgamento, instancia\n104\tperda, risco, prejuizo, causa, correntes, alerta, sofrimento, prejudicar, grave, consequencias\n105\tchamado, atencao, preciso, chamo, trata, olha, maneira, deixar, lembrar, passado\n106\ttomar, providencias, autoridades, medida, aconteceu, assunto, ocorre, atitude, deveria, imediatamente\n107\tacordo, governo, cumprimento, paralela, negociacao, entendimento, feito, assinado, firme, negocio\n108\tvale, doce, companheiros, mineral, garimpeiros, minerio, empresas, ferro, mineracao, minimo\n109\tdefender, respeito, argumentos, penso, debate, concordo, opiniao, tese, critica, defesa\n110\tescola, educacao, ensino, alunos, estudo, professor, criancas, aula, aprender, analfabetismo\n111\ttransito, veiculos, motorista, brasil, carreira, multa, automoveis, acidentes, dirigentes, taxistas\n112\tplantar, fruto, produzir, mamona, hectares, biodiesel, brasil, lavra, oleo, pequenos\n113\tinflacao, economia, realmente, plano, governo, estabilidade, brasil, moeda, pais, estabilizacao\n114\tpremio, receber, brasil, reconhecimento, titulo, trabalho, honra, nobel, homenagem, merito\n115\tcompra, vendo, carreira, pagar, aconteceu, dinheiro, preciso, maquina, fica, entrar\n116\tdesrespeito, absurdo, autoridades, atitude, impedir, abuso, grave, aceitar, tentativa, protesto\n117\tpolitica, ideologica, esquerda, ideia, penso, classe, elite, conservadora, velho, liberal\n118\tnordeste, regiao, nordestino, sudene, desenvolvimento, sudeste, regional, norte, governo, regioes\n119\tforca, militar, exercito, armas, defesa, general, comandante, brasil, soldados, nacional\n120\tburocracia, licenca, dificuldades, exigencias, preciso, burocratica, prazo, exige, impedir, normas\n121\testradas, rodovias, transporte, trecho, federal, quilometros, rodoviaria, dnit, asfalto, duplicacao\n122\tenergia, fonte, energetica, brasil, solo, geracao, alternativa, eletrica, eolica, gerar\n123\tsocialismo, brasil, fala, campo, aconteceu, queria, pessoas, pais, acabar, passado\n124\tsaneamento, basica, esgoto, agua, servicos, investimentos, trata, populacao, saude, publico\n125\tcargo, casa, indice, escolha, ocupo, nomeado, indicacao, publico, gabinete, chefe\n126\tuniao, federal, publico, governo, conta, passado, estados, terreno, deveria, nacional\n127\tdecada, desenvolvimento, crescimento, seculo, atual, nacional, progresso, potencial, passado, significativa\n128\tparlamentar, parlamento, deputados, representa, casa, congresso, representacao, federal, nacional, frente\n129\tdeus, santa, homem, brasil, democracia, historia, atentai, piaui, cristo, melhor\n130\tdocumento, carta, assinado, receber, encaminhar, pedir, enviado, oficio, entregar, solicito\n131\thumanos, pesquisa, vida, metodos, cientistas, cientifica, celular, ciencia, clonagem, aborto\n132\tgoverno, atual, politica, gestao, administrativa, incompetencia, publico, culpa, responsabilidade, administracao\n133\tbebidas, alcool, fumo, cigarro, consumo, saude, propaganda, proibido, causa, pessoas\n134\thoras, chegar, noite, casa, manha, horario, fica, havia, volta, trabalho\n135\tparana, governo, curitiba, paranaense, copel, estadual, londrina, estados, jaime, tribuna\n136\tcatarina, santa, florianopolis, estados, federal, parana, oeste, deixar, joinville, registro\n137\tpesquisa, instituto, resultado, mostra, realizar, divulgado, dados, ipea, entrevistados, nacional\n138\tfala, ouvir, dizendo, penso, lembrar, chegar, queria, pessoas, pergunto, citar\n139\tfiscal, receita, responsabilidade, federal, incentivos, publico, governo, financiamento, renuncia, estados\n140\tlivro, leitura, biblioteca, edital, lancamento, brasil, cultura, conhecimento, grafica, publicacao\n141\tpiaui, teresina, parnaiba, governo, cidade, piauiense, santa, queria, ceara, capital\n142\tdemocracia, democratico, politica, liberdade, pais, instituicoes, regime, popular, direito, processo\n143\tpolitica, publico, pais, classe, governo, interesse, deixar, mudar, sentido, politicamente\n144\tnucleo, brasil, bombeiros, mundo, atomica, angra, energia, tecnologia, pais, enriquece\n145\timposto, renda, pagar, tabela, receita, isencao, lucro, pessoas, contribuinte, governo\n146\trealmente, consequencias, efeito, basta, verdade, ameaca, causa, recentemente, afinal, resto\n147\tamazonia, regiao, floresta, amazonas, desenvolvimento, brasil, riqueza, territorio, norte, nacional\n148\tbrasil, juscelino, vargas, kubitschek, anos, pais, capital, historia, politica, epoca\n149\tdivida, pagar, juros, governo, financiamento, endividamento, deveria, titulo, estados, renegociacao\n150\tcapital, realmente, crise, mundo, desemprego, neoliberal, trabalho, governo, externa, livro\n151\trespeito, solidariedade, homem, pessoas, conhecimento, honra, vida, pessoal, acusado, defender\n152\tconstituicao, constitucional, constituinte, federal, nacional, carta, direito, texto, republica, emenda\n153\tfloresta, amazonia, desmatamento, ambiental, ambiente, ibama, areas, reserva, madeira, madeireiros\n154\tmovimento, fazenda, invadir, governo, invasao, conflitos, ordem, semterra, propriedade, ocorre\n155\tregioes, norte, regiao, regional, nordeste, desenvolvimento, centrooeste, pais, estados, sudeste\n156\tnacao, integra, jamais, forca, justamente, ilustre, nacional, plena, dignidade, ideal\n157\trespeito, importante, gostaria, dialogo, realizar, havia, possa, diversos, avaliar, transmitir\n158\tanos, comemorar, data, aniversario, homenagem, brasil, comemoracao, completamente, registro, lembrar\n159\tcombustivel, alcool, gasolina, producao, diesel, brasil, petroleo, etanol, oleo, biodiesel\n160\tamapa, macapa, federal, jari, oiapoque, amapaense, conta, tribuna, norte, queria\n161\tverdadeira, principalmente, melhor, chamado, tantos, mesmos, sentido, tempos, continuar, tamanho\n162\tgaucho, alegria, cidade, caxias, trabalho, canoas, receber, fala, lembrar, passado\n163\tmarinha, brasil, navios, naval, antartica, lancamento, espaco, comandante, almirante, base\n164\tcontrato, empresas, licitacao, contratacao, licitacoes, servicos, processo, sivam, assinado, consorcio\n165\tmateria, grosso, cuiaba, matogrossense, rondonopolis, araguaia, chegar, realmente, alto, trabalho\n166\thospital, saude, atender, medico, pacientes, cirurgia, servicos, enfermagem, sarah, clinicas\n167\tquebra, sigilo, casa, conta, bancario, informacoes, vazamento, federal, dados, depoimento\n168\tpais, brasil, razao, publico, afirmar, adotar, evidentemente, ocorre, possa, deveria\n169\torcamento, orcamentaria, congresso, recursos, emenda, uniao, execucao, executivo, comissao, parlamentar\n170\tolha, governo, ganhar, santa, verdade, trabalho, mentira, gente, negocio, aloprados\n171\tmovimento, manifestacao, ruas, manifestacoes, manifestar, protesto, popular, marcha, pessoas, social\n172\tacidentes, morte, vida, vitimas, morreu, causa, ocorre, pessoas, seguranca, perda\n173\tavaliacao, concurso, melhor, exame, prova, qualidade, vagas, resultado, avaliar, publico\n174\tconstitui, modo, referida, proposito, observar, mencionar, igual, aspectos, ocorre, deveria\n175\tencontro, busca, solucao, problema, alternativa, solucoes, saida, sentido, preciso, dificuldades\n176\tsociedade, brasil, cidadao, pais, publico, civil, classe, social, segmentos, vida\n177\tacoes, acao, combate, sentido, medida, iniciativa, concreto, busca, desses, conjunto\n178\tsalario, minimo, aumento, trabalho, ganhar, reajuste, realmente, salarial, receber, pagar\n179\tprofessor, educacao, piso, aula, salario, salarial, pais, trabalho, profissionais, brasil\n180\tpreciso, brasil, pais, possa, necessidade, existe, continuar, necessario, muita, penso\n181\tfome, alimentos, comando, alimentacao, brasil, miseria, combate, cesta, basica, mundo\n182\tvoto, votacao, secreto, abertura, deputados, eleitores, plenario, casa, consciencia, acabar\n183\trural, pequenos, campo, trabalho, propriedade, homem, cidade, produtos, interior, urbana\n184\ttribuna, justica, superior, federal, ministro, regional, desembargador, conta, julgamento, eleitoral\n185\tcampo, interrupcao, brasil, soar, concluir, minutos, microfone, fala, anos, chegar\n186\tesporte, brasil, atletas, olimpiadas, jogo, olimpicos, esportivas, medalha, mundo, ouro\n187\tvisita, receber, viagem, acompanhar, oportunidade, conhecimento, presenca, encontro, pudesse, participar\n188\tvoto, materia, pauta, votacao, plenario, lider, sessao, casa, convocacao, semana\n189\tparabens, pronunciamento, brasil, trabalho, queria, agradeco, parabenizar, importante, casa, cumprimentar\n190\teconomia, social, politica, brasil, desenvolvimento, pais, crescimento, atual, principalmente, passado\n191\tcompromisso, responsabilidade, cumprimento, assumir, governo, possa, comprometido, cobrar, responsavel, estados\n192\tpossa, trabalho, importante, preciso, exatamente, brasil, oportunidade, principalmente, colocar, claro\n193\tsergipe, aracaju, dedo, passado, governo, diversos, social, gostaria, federal, estados\n194\tnormas, decreto, estabelecer, preve, legal, inciso, constituicao, juridica, dispositivo, artigo\n195\tusina, energia, hidreletrica, construcao, gasoduto, natureza, construir, gerar, ambiental, obras\n196\troraima, federal, venezuela, governo, realmente, estados, fica, fronteira, territorio, pedir\n197\tpublico, advogado, defensor, direito, justica, defensoria, juridica, ordem, defesa, federal\n198\tpronunciamento, deveria, pais, realmente, permiteme, assunto, problema, ouco, permite, estados\n199\tcandidato, partido, presidencia, republica, escolha, convencao, eleicao, disputa, voto, preve\n200\tdenuncia, publico, ministerio, procurar, republica, denunciar, procuradorgeral, federal, processo, pedir\n201\trealmente, existe, preciso, verdade, muita, importante, possa, aconteceu, melhor, principalmente\n202\tpreco, aumento, custo, pagar, alto, baixa, mercado, tarifas, consumo, vendo\n203\teleicao, voto, reeleicao, candidato, eleicoes, turno, eleito, governo, vitoria, disputa\n204\thumanos, mundo, vida, homem, vivendo, seculo, vale, sociedade, natureza, cultura\n205\tcopa, futebol, brasil, mundo, jogo, torcendo, clube, estadio, time, selecao\n206\tseguranca, violencia, presente, presidios, crime, publico, criminalidade, organizado, sociedade, criminosos\n207\tbrasil, mundo, inteiro, absolutamente, poucos, trazer, imaginar, merece, extraordinaria, condicao\n208\tdebate, discutir, discussao, tema, importante, assunto, sociedade, casa, questoes, queria\n209\tproposta, apresentar, propor, ideia, projeto, possa, iniciativa, propoe, sugestao, considero\n210\tministerio, ministro, federal, governo, nacional, planejamento, trabalho, pasta, fazenda, orgaos\n211\tpessoas, deficiencia, portos, deficientes, especial, direito, inclusao, sociedade, trabalho, acessibilidade\n212\tjornal, correio, noticia, materia, braziliense, manchete, publicado, pagina, imprensa, mostra\n213\tinternet, acesso, informacao, informacoes, digital, computador, eletronico, tecnologia, cidadao, dados\n214\tgreve, governo, movimento, categoria, reivindicacoes, trabalho, apelo, atender, caminhoneiros, entendimento\n215\ttelefone, servicos, larga, bandidos, internet, telecomunicacoes, celular, brasil, acesso, empresas\n216\trondonia, velho, governo, madeira, federal, trabalho, passado, jiparana, cidade, rondoniense\n217\ttocantins, palmas, tocantinense, estados, pais, importante, governo, nacional, brasil, norte\n218\tamazonas, manaus, zona, amazonia, polo, industria, regiao, suframa, incentivos, estados\n219\tevento, participar, realizar, forum, encontro, seminario, participacao, conferencia, debate, tema\n220\tbrasil, paraguai, pais, governo, vizinhos, itaipu, trata, nacional, fronteira, lugares\n221\tlimpa, ficha, supremo, brasil, aconteceu, voto, casa, tribuna, passado, congresso\n222\tbahia, baiano, governo, importante, federal, cidade, chegar, passado, possa, principalmente\n223\tinvestimentos, infraestrutura, setor, governo, privada, pais, economia, crescimento, parceria, bilhoes\n224\trenda, brasil, social, desigualdades, distribuicao, pobres, indice, economia, crescimento, melhor\n225\tbrasil, historia, luta, patria, heroi, homem, liberdade, herois, bandeira, revolucao\n226\tbilhoes, milhoes, bilhao, investimentos, brasil, realmente, governo, chegar, dados, passado\n227\tdossie, colombia, brasil, governo, alckmin, farc, guerrilha, colombiano, inteligencia, abin\n228\trevista, reportagem, materia, entrevista, publicado, semana, istoe, mostra, epoca, edicao\n229\tglobo, brasil, jornal, reportagem, jornalista, mostra, pais, nacional, novela, televisao\n230\tpolitica, partido, reforma, voto, eleitoral, partidaria, financiamento, eleicoes, lista, deputados\n231\tpais, brasil, credibilidade, perda, politica, confianca, preciso, mudar, esperanca, acredito\n232\trepublica, presidencia, vicepresidente, expresidente, casa, presidentes, federal, pais, poderia, chefe\n233\tigreja, catolica, papa, padre, deus, bispo, fraternidade, cnbb, religiosa, campanha\n234\tgoverno, federal, estadual, assumir, atual, fazendo, anterior, ajudar, durante, intervencao\n235\tplano, meta, nacional, planejamento, governo, cumprimento, anos, estrategia, prazo, estabelecer\n236\tbrasil, avanco, agenda, politica, preciso, pais, importante, debate, fundamental, possa\n237\tsaude, criancas, mortalidade, maternidade, vida, infantil, nasceu, mulheres, brasil, indice\n238\tfronteira, brasil, bolivia, peru, paises, boliviano, vizinhos, faixa, pacifico, territorio\n239\tmorte, assassinado, violencia, crime, assassinato, pessoas, morreu, policia, aconteceu, vitimas\n240\tsocial, comunidade, assistencia, trabalho, projeto, desenvolvimento, sociedade, atender, entidades, solidaria\n241\tcafe, produtos, cacau, producao, lavoura, brasil, saco, ceplac, preco, cultura\n242\tartigo, publicado, autoria, jornalista, pronunciamento, texto, jornal, integra, titulo, intitulada\n243\tsupremo, tribuna, federal, ministro, decisao, julgamento, corte, constituicao, juridica, decidir\n244\tpessoas, vida, muita, preciso, penso, colocar, vivendo, desses, trabalho, existe\n245\tinfelizmente, casa, pessoas, amigo, deixar, colocar, deus, junto, trabalho, preciso\n246\tnegros, racial, branco, igualdade, preconceito, discriminacao, cotas, brasil, luta, politica\n247\thomem, vida, politica, publico, amigo, figura, homenagem, deixar, marca, respeito\n248\tprova, lista, depoimento, telefone, pessoas, conversa, grave, pedir, documento, receber\n249\tmilitar, ditadura, regime, anistia, comunista, luta, historia, anos, brasil, politica\n250\tmundo, paises, america, brasil, latina, internacional, desenvolvimento, economia, nacoes, continente\n251\tcriancas, adolescentes, menino, infantil, anos, infancia, sexual, idade, trabalho, escola\n252\tbrasil, academia, letras, intelectual, cultura, obras, vida, homem, livro, homenagem\n253\tinstituicao, atuacao, trabalho, servicos, papel, atividade, prestar, atuar, instituicoes, desempenho\n254\tassunto, tema, trata, abordar, respeito, casa, questoes, importancia, discutir, tribuna\n255\tfuturo, sonho, esperanca, construir, melhor, acredito, realmente, vida, passado, presente\n256\tsetembro, agosto, julho, outubro, oficial, novembro, data, periodo, maiores, realizar\n257\tprevidencia, social, aposentadoria, beneficios, contribuicao, trabalho, seguro, aposentados, anos, inss\n258\tcorrupcao, publico, roubo, combate, corruptos, dinheiro, escandalo, desvio, pais, impunidade\n259\tafrica, anos, mandela, mundo, martin, luta, pais, king, continente, luther\n260\tpopulacao, brasil, vida, melhor, pais, publico, qualidade, condicoes, representa, preciso\n261\ttrabalho, reforma, previdencia, resistencia, parlamentar, anos, fala, minimo, salario, pagar\n262\tmilhoes, milhao, realmente, bilhao, receber, passado, dados, chegar, anos, investimentos\n263\tinternacional, mundo, nacoes, paises, unidos, organizacao, desenvolvimento, conferencia, convencao, objetivo\n264\tcasa, construcao, moradia, habitacao, habitacional, familia, construir, financiamento, civil, social\n265\tmercosul, argentina, paises, integracao, america, uruguai, economia, chile, politica, comum\n266\tanos, fala, criancas, brasil, preciso, homem, abuso, familia, pedofilia, deus\n267\tinstrumento, pratica, mecanismos, adotar, medida, utilizar, objetivo, adocao, permite, necessidade\n268\tprojeto, implantacao, beneficios, implantar, iniciativa, viabilizar, tecnica, importante, realizar, fase\n269\tmentira, verdade, engano, dizendo, propaganda, falsa, existe, fala, verdadeira, tentativa\n270\tentendimento, colocar, aconteceu, queria, penso, fala, feito, claro, acredito, pedir\n271\tcriar, criacao, estados, territorio, federal, populacao, territorial, existe, habitantes, unidades\n272\tparlamentar, comissao, investigar, inquerito, assinatura, instalada, assinado, investigacao, requerimento, cpmi\n273\tmedico, saude, medicina, profissionais, remedios, brasil, farmacia, formas, general, atender\n274\tparlamentar, brasil, gente, fala, discursos, campo, independentepsb, unidos, apartes, dava\n275\tconhecimento, experiencia, aprender, penso, muita, ideia, acredito, sabemos, melhor, chegar\n276\tsaude, publico, atender, servicos, populacao, unico, setor, medico, assistencia, recursos\n277\thavia, passado, epoca, sido, feito, durante, comecou, lembrar, volta, chegar\n278\tmunicipios, prefeito, municipal, federal, recursos, estados, participacao, uniao, fundo, governo\n279\timportante, destacar, importancia, fundamental, principalmente, papel, ressaltar, especial, gostaria, representa\n280\tagradeco, trabalho, oportunidade, muita, casa, ajudar, honra, reconhecimento, importante, pudesse\n281\tbrasil, enfrentar, desafio, dificuldades, pais, preciso, coragem, vencer, frente, oportunidade\n282\timprensa, jornalista, liberdade, jornal, midia, comunicacao, expressao, opiniao, censura, noticia\n283\tatividade, exercer, agentes, exercicio, funcao, funcoes, profissao, desempenho, especial, deveria\n284\tprodutos, producao, soja, toneladas, produzir, safra, arroz, milhares, milhoes, algodao\n285\tjornal, diario, gazeta, anos, jornalista, imprensa, mercantil, comunicacao, liberal, leitura\n286\tpesca, peixe, atividade, producao, setor, artesanal, especie, aquicultura, trabalho, piscicultura\n287\taeroporto, aereo, aviao, brasil, aviacao, empresas, passageiros, infraero, avioes, voos\n288\tbrasil, venezuela, relacoes, exterior, embaixador, chavez, itamaraty, pais, externa, comissao\n289\tpronunciamento, prazo, pais, ouco, agradeco, muita, oportunidade, realmente, assunto, permiteme\n290\tconsumo, defesa, servicos, credito, empresas, cartao, abuso, mercado, cartoes, operar\n291\testados, federal, uniao, federacao, municipios, pacto, icms, participacao, fundo, recursos\n292\tsocial, sociedade, cultura, politica, processo, mudanca, espaco, sentido, economia, visao\n293\tbrasil, pais, milhares, anos, centenas, muita, deixar, passado, chegar, tantos\n294\tlava, jato, operacao, publico, foro, privilegio, moradores, federal, corrupcao, ministerio\n295\tcomissao, trabalho, assunto, comissoes, membros, presidentes, subcomissao, mista, especial, participar\n296\tescritor, obras, livro, literatura, escreveu, poeta, vida, amor, euclides, anos\n297\tagua, recursos, hidricos, bacia, rios, mundo, problema, natureza, abastecimento, escassez\n298\tdireito, garantir, cidadao, principio, constituicao, assegurar, deveria, respeito, defesa, fundamental\n299\tacre, governo, branco, acreano, cruzeiro, pessoas, trabalho, federal, municipios, sentido\n300\tdireito, humanos, pessoas, declaracao, dignidade, universidade, respeito, comissao, defesa, liberdade\n301\tindigenas, indios, reserva, funai, povos, terras, comunidade, demarcacao, demarcadas, areas\n302\tviolencia, mulheres, vitimas, casa, penha, sexual, domestica, combate, sofrimento, publico\n303\tproblema, necessidade, condicoes, atual, grave, quadro, necessario, situacao, adequado, urgente\n304\tagencia, regular, nacional, setor, servicos, orgaos, criar, controle, fiscalizacao, passado\n305\temprego, desemprego, trabalho, gerar, economia, renda, geracao, milhoes, mercado, pais\n306\tdilma, presidenta, brasil, governo, rousseff, lula, ministro, senhora, fala, casa\n307\tnacional, politica, acoes, publico, integra, programa, desenvolvimento, objetivo, social, participacao\n308\testadual, municipal, vereadores, federal, legislativo, municipios, camaras, publico, prefeito, assembleia\n309\terro, cometeu, equivoco, deveria, corrigir, preciso, reconhecimento, feito, certo, critica\n310\timoveis, patrimonio, bens, vendo, compra, adquirir, casa, corretores, vale, negocio\n311\tdados, indice, brasil, anos, populacao, ibge, estatisticas, taxa, pesquisa, apresentar\n312\tmudanca, climaticas, mundo, paises, planeta, globo, efeito, aquecimento, clima, ambiente\n313\tbrizola, tancredo, politica, brasil, governo, ulysses, historia, goulart, militar, republica\n314\taconteceu, penso, republica, deveria, verdade, homem, respeito, dizendo, congresso, ministro\n315\tengenharia, brasil, pais, anos, trabalho, tecnica, alexandre, conhecimento, representa, importante\n316\tcultura, patrimonio, arquitetura, historico, brasil, museu, oscar, niemeyer, arte, obras\n317\tsaude, doenca, casa, dengue, aids, combate, epidemia, males, virus, pessoas\n318\tdecisao, tomar, decidir, decisoes, respeito, entendimento, sentido, havia, manifestar, atitude\n319\tseculo, historia, colonia, portugal, imperio, imperativo, historico, epoca, territorio, branco\n320\tfigura, maneira, lider, deveria, dizendo, havia, imaginar, digo, pessoas, certo\n321\tdeputados, federal, assembleia, legislativo, estadual, parlamentar, representa, mandatos, partido, exdeputado\n322\tsetor, atual, custo, demanda, atividade, necessidade, longo, oferta, fatos, mercado\n323\tfolha, jornal, spaulo, publicado, editorial, materia, artigo, jornalista, afirmar, titulo\n324\tunidades, atender, equipe, central, construcao, locais, servicos, funcionamento, postura, instalada\n325\ttransporte, metros, urbana, onibus, cidade, coletivo, mobilidade, trara, publico, passado\n326\tpreocupacao, preocupado, assunto, pais, possa, preocupacoes, situacao, alerta, cuidado, venho\n327\tproducao, embrapa, agricultura, produtos, pesquisa, agricola, tecnologia, desenvolvimento, alimentos, cerrado\n328\tnorte, natal, chegar, exatamente, cidade, passado, mossoro, luta, realmente, oportunidade\n329\timportante, exatamente, oportunidade, efetivamente, principalmente, debate, significativa, fundamental, extremamente, questoes\n330\tregistro, importante, gostaria, deixar, extremamente, efetivamente, duvida, queria, possa, semana\n331\trequerimento, ordem, regimento, interno, encaminhar, casa, plenario, termos, federal, pedir\n332\tpetrobras, empresas, petroleo, refinaria, brasil, estatal, investimentos, producao, barris, monopolio\n333\teconomia, mercado, internacional, dolares, capital, externa, financiamento, politica, interno, investimentos\n334\tfundo, recursos, pensao, criar, garantir, financiamento, poupanca, fgts, conta, brasil\n335\tcarne, animais, agricultura, brasil, produtos, aftosa, rebanho, bovina, gado, pecuaria\n336\tpobres, social, ricos, miseria, pais, brasil, vivendo, politica, combate, populacao\n337\ttransporte, ferrovia, portos, hidrovia, cargo, logistica, infraestrutura, custo, rodovias, producao\n338\tinformacoes, esclarecer, requerimento, resposta, informacao, informar, responder, solicito, pedir, assunto\n339\ttransgenicos, produtos, patentes, brasil, pesquisa, genetica, plantar, modificar, organismos, sementes\n340\tdialogo, entendimento, respeito, equilibrio, busca, construir, responsabilidade, sentido, politica, interesse\n341\tpeso, falecimento, perda, familia, amigo, deixar, homenagem, voto, sentido, encaminhar\n342\tenergia, eletrica, setor, consumo, eletrobras, transmissao, tarifas, geracao, linha, gerar\n343\tveto, congresso, derrubar, projeto, aprovado, republica, voto, deputados, presidentes, casa\n344\tgoverno, politica, absolutamente, publico, alagoas, sabemos, feito, pessoas, estabelecer, claro\n345\tfesta, cultura, carnaval, senhora, popular, samba, cidade, belo, nazare, alegria\n346\tterras, propriedade, hectares, areas, incra, regularizacao, fundiaria, titulo, proprietarios, rural\n347\tcomissao, justica, constituicao, materia, parecer, assunto, plenario, aprovado, resolucao, casa\n348\tcultura, musica, filme, teatro, brasil, cinema, artistas, arte, popular, espetaculo\n349\tcrime, penal, pena, cometeu, anos, criminosos, praticamente, codigo, punir, sociedade\n350\tfamilia, filhos, casa, vida, anos, maes, familiar, esposa, netos, dono\n351\tpais, brasil, mundo, principalmente, vivendo, colocar, tantos, melhor, deixar, importante\n352\tprodutos, mercado, producao, produzir, setor, industria, nacional, consumo, brasil, importante\n353\tdeus, vida, sentido, coracao, sofrimento, amor, vivendo, pessoas, muita, solidariedade\n354\tbanco, central, financiamento, economia, proer, instituicoes, meirelles, intervencao, fazenda, fraga\n355\tjovens, juventude, anos, estudo, brasil, idade, vida, pais, oportunidade, futuro\n356\tdinheiro, pagar, receber, governo, conta, milhoes, gastos, colocar, tirar, recursos\n357\tolha, tribuna, mostra, pais, fala, queria, senhora, mandou, nacao, brasil\n358\ttrabalho, escravo, brasil, escravidao, pais, abolicao, combate, condicoes, luta, abolir\n359\tmateria, grosso, pantanal, tribuna, campo, estados, federal, governo, corumba, representa\n360\tdesenvolvimento, economia, social, regional, investimentos, emprego, sustentavel, produtivo, crescimento, projeto\n361\tambiente, ambiental, natureza, preservacao, sustentavel, desenvolvimento, conservacao, areas, ecologico, preservar\n362\tfatos, denuncia, envolvendo, publico, episodio, apurar, esclarecer, grave, investigar, responsabilidade\n363\tprograma, governo, lancamento, iniciativa, atender, recursos, milhoes, meta, ministerio, implantar\n364\teducacao, ensino, fundamental, escola, educacional, qualidade, basica, medio, publico, desenvolvimento\n365\tbrasil, pais, estrangeiros, imigrantes, japao, japones, colonia, chegar, exterior, trabalho\n366\tprocesso, prazo, procedimentos, envolvendo, sentido, resultado, participar, ocorre, acompanhar, oportunidade\n367\tregiao, municipios, norte, regioes, locais, cidade, desenvolvimento, populacao, habitantes, metropolitana\n368\tproblema, resolver, solucao, grave, preciso, existe, enfrentar, situacao, assunto, criar\n369\ttelevisao, radio, comunicacao, emissoras, canal, programacao, programa, meios, transmitir, brasil\n370\tlegislativo, executivo, poderia, casa, congresso, judiciario, republica, leis, constituicao, constitucional\n371\thistoria, anos, vida, politica, historico, longo, pais, brasil, construir, passado\n372\tsanta, casa, queria, agradeco, pedir, lula, fala, ouvir, preciso, lembrar\n373\talagoas, chuvas, atingir, enchentes, municipios, governo, sofrimento, situacao, calamidade, cidade\n374\tresultado, trabalho, esforco, reconhecimento, sucesso, conseguiu, alcancar, melhor, exito, avanco\n375\texportador, brasil, exportacoes, comercial, produtos, balanca, exportacao, bilhoes, importante, exterior\n376\tprefeito, cidade, municipios, municipal, vereadores, capital, deputados, viceprefeito, administracao, administrativa\n377\tmateria, pronunciamento, inserido, referida, interno, documento, regimento, refere, termos, inciso\n378\treforma, tributaria, pais, governo, mudanca, congresso, proposta, discutir, previdencia, necessidade\n379\treuniao, amanha, semana, comissao, participar, discutir, manha, presente, horas, presenca\n380\tconta, tribuna, controle, publico, uniao, fiscalizacao, auditoria, irregularidades, orgaos, transparencia\n381\tbrasil, trabalho, irma, haiti, frei, vermelho, ajudar, pessoas, vida, haitianos\n382\torgaos, doacao, brasil, pessoas, transplante, doer, doacoes, sangue, doadores, vida\n383\tpolicia, federal, operacao, delegado, justica, crime, ministerio, presente, investigacao, autoridades\n384\tadministrativa, gestao, administracao, estrutura, orgaos, eficiencia, servicos, competencia, gerenciamento, resultado\n385\tnota, afirmar, verdade, imprensa, declaracao, esclarecer, feito, sido, fatos, declaracoes\n386\tbanco, financiamento, brasil, lucro, credito, bancario, instituicoes, caixa, agencia, emprestimos\n387\tagraria, reforma, assentamentos, trabalho, incra, rural, semterra, movimento, familia, governo\n388\tabril, brasil, maiores, pais, passado, mundo, nacional, autos, autista, data\n389\tfuncionarios, demitir, trabalho, servicos, demissao, funcionamento, receber, administrativa, casa, passado\n390\tongs, organizacoes, entidades, fundacao, convenio, desses, naogovernamentais, instituicoes, trabalho, receber\n391\tpublico, privada, servicos, setor, sociedade, iniciativa, administracao, interesse, opiniao, seguranca\n392\tsituacao, vivendo, grave, problema, apelo, lamentavelmente, sofrimento, pior, realmente, encontro\n393\tparlamentar, resistencia, democracia, campo, fala, tema, queria, exatamente, social, gente\n394\tuniversidade, professor, estudo, faculdade, prof, mestre, doutor, academia, instituto, federal\n395\tcasa, amigo, companheiros, trabalho, honra, agradeco, politica, muita, continuar, anos\n396\tarmas, violencia, seguranca, fogo, bandidos, assalto, portos, desarmamento, policia, cidadao\n397\tcanto, amor, vida, poeta, belo, olha, homem, vivendo, poesia, coracao\n398\tcidade, capital, urbana, moradores, central, habitantes, populacao, vivendo, interior, bairro\n399\tcomercio, brasil, paises, comercial, internacional, mercado, subsidios, alca, economia, produtos\n"
    }
   ],
   "source": [
    "show_topics(lda, num_topics)"
   ]
  },
  {
   "cell_type": "markdown",
   "metadata": {},
   "source": [
    "## Quais os tópicos que contém a palavra \"violencia\"?"
   ]
  },
  {
   "cell_type": "code",
   "execution_count": 18,
   "metadata": {},
   "outputs": [
    {
     "data": {
      "text/html": [
       "<div>\n",
       "<style scoped>\n",
       "    .dataframe tbody tr th:only-of-type {\n",
       "        vertical-align: middle;\n",
       "    }\n",
       "\n",
       "    .dataframe tbody tr th {\n",
       "        vertical-align: top;\n",
       "    }\n",
       "\n",
       "    .dataframe thead th {\n",
       "        text-align: right;\n",
       "    }\n",
       "</style>\n",
       "<table border=\"1\" class=\"dataframe\">\n",
       "  <thead>\n",
       "    <tr style=\"text-align: right;\">\n",
       "      <th></th>\n",
       "      <th>Tópico</th>\n",
       "      <th>Palavras</th>\n",
       "    </tr>\n",
       "  </thead>\n",
       "  <tbody>\n",
       "    <tr>\n",
       "      <th>0</th>\n",
       "      <td>18</td>\n",
       "      <td>seguranca, violencia, policia, crime, policial, droga, publico, sociedade, arma, pais</td>\n",
       "    </tr>\n",
       "    <tr>\n",
       "      <th>1</th>\n",
       "      <td>35</td>\n",
       "      <td>mulher, pessoa, direito, negro, crianca, trabalho, deficiencia, tambem, sociedade, violencia</td>\n",
       "    </tr>\n",
       "  </tbody>\n",
       "</table>\n",
       "</div>"
      ],
      "text/plain": [
       "   Tópico                                                                                      Palavras\n",
       "0      18         seguranca, violencia, policia, crime, policial, droga, publico, sociedade, arma, pais\n",
       "1      35  mulher, pessoa, direito, negro, crianca, trabalho, deficiencia, tambem, sociedade, violencia"
      ]
     },
     "execution_count": 18,
     "metadata": {},
     "output_type": "execute_result"
    }
   ],
   "source": [
    "pd.DataFrame(search_topic(lda, \"violencia\", num_topics), columns=[\"Tópico\", \"Palavras\"])"
   ]
  },
  {
   "cell_type": "markdown",
   "metadata": {},
   "source": [
    "## Quais os tópicos do discurso número 100?"
   ]
  },
  {
   "cell_type": "code",
   "execution_count": 13,
   "metadata": {},
   "outputs": [],
   "source": [
    "discurso_id = 24968"
   ]
  },
  {
   "cell_type": "code",
   "execution_count": 19,
   "metadata": {},
   "outputs": [
    {
     "data": {
      "text/html": [
       "<div>\n",
       "<style scoped>\n",
       "    .dataframe tbody tr th:only-of-type {\n",
       "        vertical-align: middle;\n",
       "    }\n",
       "\n",
       "    .dataframe tbody tr th {\n",
       "        vertical-align: top;\n",
       "    }\n",
       "\n",
       "    .dataframe thead th {\n",
       "        text-align: right;\n",
       "    }\n",
       "</style>\n",
       "<table border=\"1\" class=\"dataframe\">\n",
       "  <thead>\n",
       "    <tr style=\"text-align: right;\">\n",
       "      <th></th>\n",
       "      <th>Tópico Id</th>\n",
       "      <th>Probabilidade</th>\n",
       "      <th>Palavras</th>\n",
       "    </tr>\n",
       "  </thead>\n",
       "  <tbody>\n",
       "    <tr>\n",
       "      <th>0</th>\n",
       "      <td>35.0</td>\n",
       "      <td>22.99%</td>\n",
       "      <td>mulher, pessoa, direito, negro, crianca, trabalho, deficiencia, tambem, sociedade, violencia</td>\n",
       "    </tr>\n",
       "    <tr>\n",
       "      <th>1</th>\n",
       "      <td>48.0</td>\n",
       "      <td>17.03%</td>\n",
       "      <td>saude, medico, hospital, doenca, atender, tratar, pessoa, publico, brasil, medicar</td>\n",
       "    </tr>\n",
       "    <tr>\n",
       "      <th>2</th>\n",
       "      <td>26.0</td>\n",
       "      <td>10.5%</td>\n",
       "      <td>senador, aparte, nobre, permitir, pronunciar, haver, pais, dever, querer, ouvir</td>\n",
       "    </tr>\n",
       "    <tr>\n",
       "      <th>3</th>\n",
       "      <td>10.0</td>\n",
       "      <td>9.68%</td>\n",
       "      <td>numero, dado, pais, brasileiro, crescer, pesquisa, milhoes, ultimo, populacao, indice</td>\n",
       "    </tr>\n",
       "    <tr>\n",
       "      <th>4</th>\n",
       "      <td>47.0</td>\n",
       "      <td>7.73%</td>\n",
       "      <td>situacao, problema, governo, haver, grave, solucao, sofrer, presidente, acontecer, viver</td>\n",
       "    </tr>\n",
       "    <tr>\n",
       "      <th>5</th>\n",
       "      <td>27.0</td>\n",
       "      <td>6.49%</td>\n",
       "      <td>questao, haver, querer, debate, algum, tambem, discutir, importante, outro, relacao</td>\n",
       "    </tr>\n",
       "    <tr>\n",
       "      <th>6</th>\n",
       "      <td>29.0</td>\n",
       "      <td>5.07%</td>\n",
       "      <td>programa, social, renda, familia, pessoa, pobre, pobreza, populacao, milhoes, fome</td>\n",
       "    </tr>\n",
       "    <tr>\n",
       "      <th>7</th>\n",
       "      <td>0.0</td>\n",
       "      <td>2.65%</td>\n",
       "      <td>vida, casa, senador, senado, homem, publico, politico, tambem, amigo, trabalho</td>\n",
       "    </tr>\n",
       "  </tbody>\n",
       "</table>\n",
       "</div>"
      ],
      "text/plain": [
       "   Tópico Id Probabilidade                                                                                      Palavras\n",
       "0       35.0        22.99%  mulher, pessoa, direito, negro, crianca, trabalho, deficiencia, tambem, sociedade, violencia\n",
       "1       48.0        17.03%            saude, medico, hospital, doenca, atender, tratar, pessoa, publico, brasil, medicar\n",
       "2       26.0         10.5%               senador, aparte, nobre, permitir, pronunciar, haver, pais, dever, querer, ouvir\n",
       "3       10.0         9.68%         numero, dado, pais, brasileiro, crescer, pesquisa, milhoes, ultimo, populacao, indice\n",
       "4       47.0         7.73%      situacao, problema, governo, haver, grave, solucao, sofrer, presidente, acontecer, viver\n",
       "5       27.0         6.49%           questao, haver, querer, debate, algum, tambem, discutir, importante, outro, relacao\n",
       "6       29.0         5.07%            programa, social, renda, familia, pessoa, pobre, pobreza, populacao, milhoes, fome\n",
       "7        0.0         2.65%                vida, casa, senador, senado, homem, publico, politico, tambem, amigo, trabalho"
      ]
     },
     "execution_count": 19,
     "metadata": {},
     "output_type": "execute_result"
    }
   ],
   "source": [
    "pd.set_option('display.max_columns', None)\n",
    "\n",
    "get_document_topics(lda, corpus, discurso_id, 8)"
   ]
  },
  {
   "cell_type": "markdown",
   "metadata": {},
   "source": [
    "## Discurso 100:"
   ]
  },
  {
   "cell_type": "code",
   "execution_count": 15,
   "metadata": {
    "scrolled": true
   },
   "outputs": [
    {
     "name": "stdout",
     "output_type": "stream",
     "text": [
      "             O SR. ANIBAL DINIZ (Bloco/PT - AC. Pronuncia o seguinte discurso. Sem revisão do orador.) - Sr. Presidente, Senador Valdir Raupp; Senador Suplicy; telespectadores da TV Senado; ouvintes da Rádio Senado, chego aqui após ter participado de uma reunião bastante produtiva com o Governador do Acre, Tião Viana, que, hoje, esteve em audiência no Ministério dos Transportes, especificamente no DNIT. Participou também de uma audiência importante com a Ministra Miriam Belchior, juntamente com outros Governadores, para tratar especificamente do plano de investimentos do PAC e de algumas questões das obras que estão acontecendo no Estado, financiadas pelo PAC.             Também houve uma audiência no Ministério da Integração para tratar especificamente das unidades habitacionais que estão sendo autorizadas, a partir do projeto que o Governo do Estado apresentou, voltado para atender uma parte das famílias vítimas do alagamento em Rio Branco e outra parte integrante do grande programa habitacional desenvolvido pelo Governo do Estado, através do Cidade do Povo, com a intenção de construir 10,2 mil unidades habitacionais no Acre.             Eu gostaria de dizer que, junto ao DNIT, com o General Fraxe, foram dadas duas informações importantes para o Governador Tião Viana. A primeira diz respeito ao andamento da documentação e a todos os passos que estão sendo dados para a garantia da continuidade e conclusão da obra da BR-364.             A segunda é a informação do General Fraxe de que a licitação para a construção da ponte sobre o Rio Madeira já teve algum avanço e que vamos ter essa licitação feita até o mês de março. Agora estamos num período de certa insegurança por conta de o Orçamento não ter sido aprovado ainda no Congresso, mas tenho certeza de que, passado o Carnaval, os Parlamentares vão chegar a um entendimento, as Lideranças todas vão chegar a um entendimento para a aprovação do Orçamento. Assim, a sua não-aprovação não poderá servir de desculpa para a não-realização das licitações para as obras que estão sendo anunciadas. Então, continuamos com aquela esperança de que, no verão de 2013, tenha início a construção da ponte sobre o Rio Madeira -- pelo menos essa é a garantia que o Dnit está nos dando e que nós vamos continuar cobrando.              Amanhã mesmo -- o Senador Raupp está nos informando --, haverá uma audiência com o Ministro dos Transportes e também com o chefe do Dnit e certamente esse assunto também vai estar em pauta, porque a ponte sobre o Rio Madeira é um assunto que diz respeito diretamente aos Estados do Acre e de Rondônia. Nesse sentido, as bancadas estão unidas -- a bancada de Rondônia e a bancada do Acre --, justamente para garantirmos a construção dessa ponte e acabar com a humilhação que vêm sofrendo todos os transportadores que têm de fazer o trecho Porto Velho-Rio Branco, principalmente no forte do verão, quando o nível das águas do Rio Madeira baixa e vemos situações muito vexatórias, de filas quilométricas de caminhões de carga se formaram por conta de a balsa não dar conta do elevado número de caminhões que se enfileiram naquele ponto da BR-364.             Sr. Presidente, eu gostaria também de aproveitar este pronunciamento para fazer uma reflexão sobre as tarifas de energia e sobre a disposição anunciada pelo Governo de continuar reduzindo os custos no Brasil para estimular o crescimento.              Nesta terça-feira, dia 5, o Ministro da Fazenda Guido Mantega afirmou a empresários em São Paulo que o Governo irá ampliar as desonerações em vários setores e reduzir mais ainda os tributos, e temos, na redução da energia elétrica, um esforço visível.             É sabido que o Brasil possui a matriz energética mais renovável do mundo industrializado, com 45,3% de sua produção proveniente de fontes como recursos hídricos, biomassa e etanol, além das energias eólica e solar.             As usinas hidrelétricas são responsáveis por mais de 75% da eletricidade limpa produzida no País. Como comparação, basta dizer que a matriz energética mundial é composta por 13% de fontes renováveis no caso de países industrializados; e nos países que estão em desenvolvimento, esse índice cai para 6% aproximadamente. E essa participação de energia limpa no Brasil é de 45%. Então, é um número bastante expressivo, e vale a pena a gente reforçar, porque é algo que interessa a todo brasileiro. Enquanto os países industrializados possuem no máximo 13% de sua energia limpa, ou seja, energia produzida a partir de fontes renováveis, o Brasil possui mais de 45% de sua energia gerada a partir de fontes renováveis. Isso é algo muito importante que tem de ser reforçado em todas as discussões, porque o Brasil é um país de um grande potencial energético.             Mas, apesar dessa condição privilegiada, nós, consumidores brasileiros, sempre pagamos uma das mais caras tarifas do mundo. Essa contradição, que pesa no bolso do consumidor doméstico e sobre os custos de nossa produção industrial, levou a Presidenta Dilma a tomar a decisão de baixar as tarifas de energia elétrica.             O País sentirá em breve os efeitos positivos que essa necessária providência irá gerar para todos, e, nas contas dos próximos meses, os consumidores já vão sentir os benefícios. A estimativa é que a redução de 18% da tarifa de energia residencial vai permitir uma economia de aproximadamente R$9 bilhões às famílias brasileiras. Isso é muito significativo.             Mesmo com o posicionamento pouco solidário e pouco republicano dos governos de três Estados do País -- de três unidades da Federação --, o Governo da Presidenta Dilma vai fazer valer o seu compromisso de propiciar uma redução média da ordem de 20% nas contas de luz.             Diante da negativa das empresas dos Estados de Minas Gerais, São Paulo e Paraná, cujos governos são comandados pelo PSDB, de aderir integralmente à renovação dos contratos de concessão de energia elétrica, o Tesouro Nacional irá aportar os recursos para que o cidadão comum e a economia como um todo possam ser beneficiados.             A firmeza e convicção da Presidenta Dilma quanto ao acerto da medida não foram abaladas nem quando a estiagem que predominou em quase todo o País parecia ameaçar a viabilidade da proposta de redução das tarifas. Na verdade, armou-se uma tempestade em copo d'água, rapidamente alimentada por aqueles interessados nas consequências políticas que teria uma eventual inviabilidade da redução das tarifas.             Apesar dessa visão curta ou imediatista, a decisão do Governo Federal, mais ampla, acontece também no momento em que cresce a demanda por energia no País. No final de janeiro, por exemplo, estudos divulgados pela empresa de pesquisa energética revelou que, apesar de a economia nacional ter crescido apenas 1% em 2012, o consumo de energia elétrica na rede fechou o ano com uma expansão de 3,5%, totalizando 448.293 GWh.              A pesquisa apontou que o crescimento de 2012 foi liderado pelo comércio e serviços, com alta de 7,9%; e pelo consumo residencial, com um aumento de 5%; ou seja, a quantidade de energia elétrica utilizada pelas famílias brasileiras cresceu 5% em relação a 2011, ultrapassando 117.500 GW.              O número de consumidores cresceu 3%, segundo a pesquisa, que relacionou o fato ao dinamismo do mercado imobiliário e às iniciativas de extensão do serviço de eletricidade.              Em média, afirma o estudo, cada consumidor demandou 159 kWh por mês, 2% a mais do que no ano anterior. Esse resultado é sustentado, entre outros fatores, pelo mercado de trabalho aquecido, pelo aumento real da renda e pela expansão do crédito ao trabalhador brasileiro. Então, temos um cenário de economia com perspectiva e não um cenário sombrio.             Sobre as equivocadas comparações entre a redução da energia elétrica e o aumento do preço do combustível, em entrevista esta semana, a Presidenta Dilma destacou que o aumento da gasolina é menor que a redução da tarifa de energia. Ou seja, o aumento efetivo do preço da gasolina e do diesel na bomba é menor do que os valores da redução da tarifa de energia. A queda da tarifa energética será inclusive um dos fatores que vão contribuir para a redução da inflação em 2013. Além da redução na conta de luz para famílias, a queda de até 32% no preço da energia para o setor industrial vai beneficiar a produção, a contratação de pessoal e permitir uma maior competitividade para o País.             O alto preço da tarifa de energia elétrica brasileira sempre foi apontado como um dos principais elementos da perda de competitividade da economia nacional já que, apesar de menores custos comparativos para sua geração, nossa tarifa sempre foi substancialmente mais elevada do que a de nossos parceiros comerciais.             Para concluir, gostaria de reforçar o acerto do Governo e dizer que a redução das tarifas de energia elétrica não pode ser uma notícia diminuída ou esquecida rapidamente. Ao contrário, esse esforço deve ser mantido em evidência, porque ganham os consumidores, ganha a indústria nacional e ganha o País um caminho eficiente para aumentar a competitividade de seus produtos em mercados globalizados e altamente competitivos, num cenário econômico que ainda é bastante preocupante. A Presidenta Dilma tem conseguido, com seus esforços, com as iniciativas no sentido de manter a economia estabilizada, manter o País sob equilíbrio, com a geração de empregos em alta e conseguindo passar, digamos assim, sem maiores transtornos diante da crise internacional.             A gente sabe que houve redução do Fundo de Participação dos Municípios por conta da decisão difícil, mas necessária, que foi tomada pela Presidenta Dilma de reduzir o IPI para permitir a continuidade do índice de vendas de veículos e automaticamente a garantia dos empregos para os milhares e milhares de operários que são absorvidos pela indústria automobilística nacional.             Essas decisões todas que podem e são criticadas pela Oposição são muito necessárias e muito estudadas pela equipe econômica do Governo no sentido de combater o mal maior, que é a crise internacional. A crise internacional levou praticamente à bancarrota países da Europa e os Estados Unidos. E o Brasil conseguiu, tanto na crise vivida pelo Presidente Lula, em 2008 e 2009, quanto agora, em 2011 e 2012, com a Presidenta Dilma, sobreviver a esse cenário de crises, tomando iniciativas no sentido de proteger a economia nacional, a indústria nacional, e proteger o consumidor, como foi a decisão acertada da Presidenta Dilma de reduzir a tarifa de energia elétrica, num índice entre 18% para o consumidor comum e 32% para as indústrias.              Venho aqui justamente para reforçar meu apoio e solidariedade à equipe econômica do Governo e à própria Presidenta Dilma pela conduta adequada que tem sido adotada pelo nosso Governo no sentido de manter a estabilidade econômica e manter o País devidamente vacinado contra essa crise internacional que está causando grandes transtornos e levando famílias inteiras ao desespero em países da Europa, como Espanha, Portugal, a própria Itália; países que, com seus benefícios sociais, tinham atingido um grau de seguridade que parecia absolutamente estável para os seus trabalhadores, que passaram a viver um transtorno, um inferno astral por conta da crise econômica.              Temos visto na Presidenta Dilma um esforço todo especial no sentido de proteger o trabalhador brasileiro e a família brasileira. Então, essa iniciativa da redução da tarifa de energia se encaixa exatamente no esforço maior desenvolvido pelo nosso Governo. Então, nesse sentido, tem o nosso apoio.             Quero dizer também que, ainda que pareça difícil explicar a situação que está sendo vivida neste momento pela Petrobras, principalmente após a nota pública expedida por sua presidente, temos de conseguir informações necessárias a fim de tranquilizar os brasileiros, que são os proprietários da Petrobras e têm todo o direito de saber o que está verdadeiramente acontecendo.             Já existe uma equipe em meu gabinete preparando um estudo a esse respeito. Espero, se não for possível amanhã, pelo menos na volta do carnaval, ter um posicionamento firme, claro e transparente a respeito de todos os passos que foram dados, nos últimos dez anos, no sentido de fazer a Petrobras ser a empresa superavitária que é e continuará sendo. Certamente haverá uma explicação devida para cada uma das afirmações que estão sendo feitas aqui pela Oposição, no sentido de dar tranquilidade ao acionista da Petrobras e principalmente ao povo brasileiro, que é o proprietário dessa grande empresa que orgulha a todos nós e que certamente vai continuar investindo e gerando divisas e reconhecimento para o Brasil em todo o Planeta. Trata-se de um patrimônio nacional que tem o nosso total respeito, a nossa total consideração. Queremos, sim, reunir todas as informações necessárias para fazer a defesa devida e prestar os esclarecimentos devidos, pois a população tem o direito de saber exatamente o que está acontecendo. Tenho certeza de que a equipe que está à frente da Petrobras terá reunido essas explicações nos próximos dias.             Era o que tinha a dizer, Sr. Presidente.             Muito obrigado. <\n",
      "None\n"
     ]
    }
   ],
   "source": [
    "print(get_discurso(discurso_id))"
   ]
  },
  {
   "cell_type": "markdown",
   "metadata": {},
   "source": [
    "## Quais são os principais documentos do tópico 78?"
   ]
  },
  {
   "cell_type": "code",
   "execution_count": 68,
   "metadata": {},
   "outputs": [],
   "source": [
    "a = pd.DataFrame(get_topic_documents(lda, corpus, 31, 0.01, 20), columns=[\"Discurso\", \"Porcentagem\"])\n",
    "\n",
    "\n",
    "# filtered = pd.DataFrame(lda[corpus])\n"
   ]
  },
  {
   "cell_type": "code",
   "execution_count": 69,
   "metadata": {},
   "outputs": [
    {
     "data": {
      "text/html": [
       "<div>\n",
       "<style scoped>\n",
       "    .dataframe tbody tr th:only-of-type {\n",
       "        vertical-align: middle;\n",
       "    }\n",
       "\n",
       "    .dataframe tbody tr th {\n",
       "        vertical-align: top;\n",
       "    }\n",
       "\n",
       "    .dataframe thead th {\n",
       "        text-align: right;\n",
       "    }\n",
       "</style>\n",
       "<table border=\"1\" class=\"dataframe\">\n",
       "  <thead>\n",
       "    <tr style=\"text-align: right;\">\n",
       "      <th></th>\n",
       "      <th>Discurso</th>\n",
       "      <th>Porcentagem</th>\n",
       "    </tr>\n",
       "  </thead>\n",
       "  <tbody>\n",
       "    <tr>\n",
       "      <th>0</th>\n",
       "      <td>83543</td>\n",
       "      <td>0.442959</td>\n",
       "    </tr>\n",
       "    <tr>\n",
       "      <th>1</th>\n",
       "      <td>28590</td>\n",
       "      <td>0.423104</td>\n",
       "    </tr>\n",
       "    <tr>\n",
       "      <th>2</th>\n",
       "      <td>51405</td>\n",
       "      <td>0.384633</td>\n",
       "    </tr>\n",
       "    <tr>\n",
       "      <th>3</th>\n",
       "      <td>80940</td>\n",
       "      <td>0.374920</td>\n",
       "    </tr>\n",
       "    <tr>\n",
       "      <th>4</th>\n",
       "      <td>83609</td>\n",
       "      <td>0.368371</td>\n",
       "    </tr>\n",
       "    <tr>\n",
       "      <th>5</th>\n",
       "      <td>24132</td>\n",
       "      <td>0.361475</td>\n",
       "    </tr>\n",
       "    <tr>\n",
       "      <th>6</th>\n",
       "      <td>28790</td>\n",
       "      <td>0.360800</td>\n",
       "    </tr>\n",
       "    <tr>\n",
       "      <th>7</th>\n",
       "      <td>28784</td>\n",
       "      <td>0.360564</td>\n",
       "    </tr>\n",
       "    <tr>\n",
       "      <th>8</th>\n",
       "      <td>28293</td>\n",
       "      <td>0.360066</td>\n",
       "    </tr>\n",
       "    <tr>\n",
       "      <th>9</th>\n",
       "      <td>53155</td>\n",
       "      <td>0.352225</td>\n",
       "    </tr>\n",
       "    <tr>\n",
       "      <th>10</th>\n",
       "      <td>22995</td>\n",
       "      <td>0.350532</td>\n",
       "    </tr>\n",
       "    <tr>\n",
       "      <th>11</th>\n",
       "      <td>69347</td>\n",
       "      <td>0.349359</td>\n",
       "    </tr>\n",
       "    <tr>\n",
       "      <th>12</th>\n",
       "      <td>29047</td>\n",
       "      <td>0.346491</td>\n",
       "    </tr>\n",
       "    <tr>\n",
       "      <th>13</th>\n",
       "      <td>28578</td>\n",
       "      <td>0.345969</td>\n",
       "    </tr>\n",
       "    <tr>\n",
       "      <th>14</th>\n",
       "      <td>28812</td>\n",
       "      <td>0.327233</td>\n",
       "    </tr>\n",
       "    <tr>\n",
       "      <th>15</th>\n",
       "      <td>32984</td>\n",
       "      <td>0.326810</td>\n",
       "    </tr>\n",
       "    <tr>\n",
       "      <th>16</th>\n",
       "      <td>23327</td>\n",
       "      <td>0.322281</td>\n",
       "    </tr>\n",
       "    <tr>\n",
       "      <th>17</th>\n",
       "      <td>24206</td>\n",
       "      <td>0.321658</td>\n",
       "    </tr>\n",
       "    <tr>\n",
       "      <th>18</th>\n",
       "      <td>51388</td>\n",
       "      <td>0.321208</td>\n",
       "    </tr>\n",
       "    <tr>\n",
       "      <th>19</th>\n",
       "      <td>23493</td>\n",
       "      <td>0.315380</td>\n",
       "    </tr>\n",
       "  </tbody>\n",
       "</table>\n",
       "</div>"
      ],
      "text/plain": [
       "    Discurso  Porcentagem\n",
       "0      83543     0.442959\n",
       "1      28590     0.423104\n",
       "2      51405     0.384633\n",
       "3      80940     0.374920\n",
       "4      83609     0.368371\n",
       "5      24132     0.361475\n",
       "6      28790     0.360800\n",
       "7      28784     0.360564\n",
       "8      28293     0.360066\n",
       "9      53155     0.352225\n",
       "10     22995     0.350532\n",
       "11     69347     0.349359\n",
       "12     29047     0.346491\n",
       "13     28578     0.345969\n",
       "14     28812     0.327233\n",
       "15     32984     0.326810\n",
       "16     23327     0.322281\n",
       "17     24206     0.321658\n",
       "18     51388     0.321208\n",
       "19     23493     0.315380"
      ]
     },
     "execution_count": 69,
     "metadata": {},
     "output_type": "execute_result"
    }
   ],
   "source": [
    "a"
   ]
  },
  {
   "cell_type": "code",
   "execution_count": 70,
   "metadata": {},
   "outputs": [
    {
     "name": "stdout",
     "output_type": "stream",
     "text": [
      " O SR. VALMIR AMARAL (PMDB - DF. Sem apanhamento taquigráfico.) - Sr. Presidente, Srªs e Srs. Senadores, como todos sabem, foi realizada em Brasília a 36ª edição do Festival de Brasília do Cinema Brasileiro. Foi uma grande oportunidade para atestarmos o vigor do cinema brasileiro, não obstante todos os percalços que tem sofrido ao longo de mais de um século de produção cinematográfica em terras tupiniquins. E o festival de Brasília é um dos mais tradicionais e conceituados do Brasil com reconhecimento de toda mídia especializada da América. A abertura solene ocorreu dia 18 de novembro e refletiu o prestígio desse festival. Mais de duas mil pessoas estiveram lá: público cinéfilo, diretores, fotógrafos, atores e atrizes, autoridades governamentais da área de cultura, deputados e senadores. No Teatro Nacional Cláudio Santoro, a majestosa música de nossa orquestra deu uma mostra do talento e da competência com que está sendo gerida a cultura em nossa cidade e em nosso País. Trata-se de um vigor cultural que vem de longe. Vem da época em que a cidade foi projetada, construída, inaugurada, isto é, desde a “estréia” desta cidade, que, em si, já é uma obra de arte. E a história de sua construção, sem dúvida alguma, é um dos mais belos roteiros já produzidos pela humanidade. Como antecedentes do Festival de Brasília do Cinema Brasileiro houve o movimento capitaneado por professores e cineastas que vieram constituir o curso de cinema da Universidade de Brasília. Entre eles, alguns dos maiores nomes de nossa cinematografia, como Paulo Emílio Sales Gomes e Jean-Claude Bernardet. De um festival quase acadêmico, passou a ser um evento aberto, a partir de 1967, com interrupção apenas em 1972 e 1974, por proibição da ditadura militar. Desde então, a cada ano são realizadas mostras competitivas de 35mm e de 16 mm. Mas paralelamente, há o “festivalzinho”, para o público infantil, mostras de vídeo, encontros, fóruns e seminários. Ao todo, foram inscritos 170 filmes, dos quais 24 eram longas-metragens, o que dá uma pequena mostra do peso desse festival, que é conhecido por ser um dos mais críticos do país. E, além de ser um dos mais críticos, é também um dos que melhor premia. Com um orçamento de 1,6 milhão de reais, destina 400 mil reais para a premiação. Seis foram os longas-metragens selecionados, todos eles de cineastas que vêm construindo a cara do cinema brasileiro, ao longo de muitos anos, com patrocínio ou sem; com recursos ou sem eles; com ou sem possibilidade de vê-los exibidos no circuito comercial. São eles:  - Filme de Amor, de Julio Bressane (RJ); - Garotas do ABC, de Carlos Reichenbach (SP); - Glauber - o Filme, Labirinto do Brasil, de Silvio Tendler (RJ); - Harmada, de Maurice Capovilla (RJ); - Lost Zweig, de Sylvio Back (RJ); e             - Signo do Caos, de Rogério Sganzerla (SP).  E o grande vencedor foi Filme de Amor, do diretor Julio Bressane. A premiação para o filme aconteceu na noite do dia 25 de novembro no Teatro Nacional Cláudio Santoro, e incluiu troféus Candango para a fotografia de Walter Carvalho e a trilha sonora de Guilherme Vaz. À imprensa Julio Bressane confessou estar surpreso e honrado com os prêmios: \"No meio de tanta gente de qualidade, qualquer um deles poderia estar aqui - são diretores acima do bem e do mal\", foram suas palavras. Como melhor atriz do Festival, a austríaca Ruth Rieser por Lost Zweig, de Silvio Back. Melhor ator foi Paulo César Peréio, por seu trabalho em Harmada, de Maurice Capovilla. Peréio aproveitou a ocasião para pedir que os incentivos ao cinema sejam feitos em dólar, e não em Real: \"A gente tem que comprar em dólar, por que os incentivos do ministério da Cultura são em Real? Isso não é um protesto, é uma reivindicação que faço”. O ator já fez mais de 50 filmes e já foi dirigido por Glauber Rocha em Terra em transe (1966), Arnaldo Jabor em Toda nudez será castigada (1973), Neville D'Almeida em Navalha na Carne (1997) e Paulo Cezar Saraceni em O Viajante (1999).  Glauber o Filme - Labirinto do Brasil, um documentário sobre Glauber Rocha, do diretor Silvio Tendler, foi o melhor filme na opinião do público - prêmio do júri popular - e da crítica. \"Acho que o sonho de qualquer diretor é ser reconhecido pelo público e pela crítica juntos e eu consegui, estou muito feliz e pretendo retribuir com filmes e mais filmes”, disse o diretor. O troféu de melhor diretor foi para Rogério Sganzerla, representado na cerimônia por sua filha, a atriz Djin Sganzerla, que repetiu uma frase dele: \"Minha filha, o que pode me curar, me salvar nesse momento é uma câmera. Viva o cinema!”. Brasília participou com nove obras, nove curtas-metragens, o que mostra o vigor de nossa produção local, não obstante a escassez de recursos. Interessante ressaltar que a Câmara Legislativa do Distrito Federal destinou um prêmio especial para estes filmes candangos: 10 mil reais para o melhor curta, e 5 mil reais para o melhor 16mm. Subterrâneos, de José Eduardo Belmonte (longa 35 mm); Toda Brisa, de André Carvalheira (curta 35 mm); e Um Último Dia, de Nara Riella (curta 16 mm) foram os grandes vencedores do Troféu Câmara Legislativa do Distrito Federal, entregue também na grande festa de encerramento. Um detalhe fundamental para o festival deste ano é a de uma feira internacional para divulgação do cinema brasileiro, trata-se do primeiro Mercado do Filme Brasileiro, que teve o apoio de diversas embaixadas e proporcionará negócios certos para os participantes do festival.             Neste pequeno registro, quero parabenizar os realizadores nacionais, os promotores locais, e ao povo de Brasília que, por intermédio da Secretaria de Cultura, continua a promover um dos maiores festivais - se não o maior - do cinema brasileiro. Era o que eu tinha a dizer. Muito obrigado. <\n",
      "None\n"
     ]
    }
   ],
   "source": [
    "print(get_discurso(83543))"
   ]
  },
  {
   "cell_type": "code",
   "execution_count": null,
   "metadata": {},
   "outputs": [],
   "source": []
  }
 ],
 "metadata": {
  "kernelspec": {
   "display_name": "Python 3",
   "language": "python",
   "name": "python3"
  },
  "language_info": {
   "codemirror_mode": {
    "name": "ipython",
    "version": 3
   },
   "file_extension": ".py",
   "mimetype": "text/x-python",
   "name": "python",
   "nbconvert_exporter": "python",
   "pygments_lexer": "ipython3",
   "version": "3.7.6-final"
  }
 },
 "nbformat": 4,
 "nbformat_minor": 4
}