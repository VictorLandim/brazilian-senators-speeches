{
 "metadata": {
  "language_info": {
   "codemirror_mode": {
    "name": "ipython",
    "version": 3
   },
   "file_extension": ".py",
   "mimetype": "text/x-python",
   "name": "python",
   "nbconvert_exporter": "python",
   "pygments_lexer": "ipython3",
   "version": "3.9.5"
  },
  "orig_nbformat": 4,
  "kernelspec": {
   "name": "python3",
   "display_name": "Python 3.9.5 64-bit"
  },
  "interpreter": {
   "hash": "be4c120848c24dd948cf2abad2d350b17141b841b2b4cf05697568ba736deea1"
  }
 },
 "nbformat": 4,
 "nbformat_minor": 2,
 "cells": [
  {
   "cell_type": "code",
   "execution_count": 39,
   "metadata": {},
   "outputs": [],
   "source": [
    "import sys\n",
    "sys.path.append('../../scripts/analysis')\n",
    "sys.path.append('../../scripts/lda')\n",
    "import pickle\n",
    "from gensim.models.wrappers import LdaMallet\n",
    "import numpy as np\n",
    "import pandas as pd\n",
    "import os\n",
    "import shutil\n",
    "import datetime\n",
    "import lda_utils\n",
    "from topics import run as save_topic_list, save_topics_with_samples\n",
    "import matplotlib.ticker as mtick"
   ]
  },
  {
   "cell_type": "code",
   "execution_count": 2,
   "metadata": {},
   "outputs": [],
   "source": [
    "os.chdir(\"/Users/victor/Documents/tcc/new_discursos/src\")\n",
    "\n",
    "model_name = \"65_it_10000\"\n",
    "speeches = pickle.load(open(\"data/speeches_all_preproc_filtered.pickle\", \"rb\"))\n",
    "model_path = \"data/models/{}/model\".format(model_name)\n",
    "lda = LdaMallet.load(model_path)\n",
    "\n",
    "topics_words = lda_utils.get_lda_topics_words(lda)\n",
    "docs_topics = pickle.load(open(\"data/docs_topics_good_{}.pickle\".format(model_name), \"rb\"))\n"
   ]
  },
  {
   "cell_type": "code",
   "execution_count": 45,
   "metadata": {},
   "outputs": [],
   "source": [
    "topics_map = {}\n",
    "\n",
    "for doc in docs_topics:\n",
    "    for topic, weight in doc:\n",
    "        if topic in topics_map:\n",
    "            topics_map[topic] = topics_map[topic] + weight\n",
    "        else:\n",
    "            topics_map[topic] = weight \n",
    "\n",
    "for key, val in topics_map.items():\n",
    "    topics_map[key] = val * 100 / len(docs_topics)"
   ]
  },
  {
   "cell_type": "code",
   "execution_count": 46,
   "metadata": {},
   "outputs": [],
   "source": [
    "sorted_topics = sorted(topics_map.items(), key=lambda x: x[1], reverse=True)\n",
    "topics_df = pd.DataFrame(sorted_topics, columns=[\"topic\", \"weight\"])"
   ]
  },
  {
   "cell_type": "code",
   "execution_count": 62,
   "metadata": {},
   "outputs": [
    {
     "output_type": "display_data",
     "data": {
      "text/plain": "<Figure size 936x504 with 0 Axes>"
     },
     "metadata": {}
    }
   ],
   "source": [
    "plot = topics_df.plot(x='topic', kind=\"bar\", grid=False, figsize=(13,7), legend=False)\n",
    "\n",
    "plot.set(title=\"Contribuição média de cada tópico\", xlabel=\"Tópico\", ylabel=\"Contribuição\")\n",
    "\n",
    "plot.yaxis.set_major_formatter(mtick.FuncFormatter('{}%'.format))\n",
    "\n",
    "plot.xaxis.set_tick_params(rotation=0)\n",
    "plot.yaxis.grid(True, which='major', linestyle='--', linewidth=0.5)\n",
    "\n",
    "plot.patch.set_facecolor('white')\n",
    "\n",
    "fig = plot.get_figure()\n",
    "\n",
    "fig.savefig(f\"results/{model_name}_topic_contrib.png\", format='png', dpi=200)\n",
    "fig.clf()"
   ]
  },
  {
   "cell_type": "code",
   "execution_count": 72,
   "metadata": {},
   "outputs": [
    {
     "output_type": "stream",
     "name": "stdout",
     "text": [
      "9345.491682838925\n1508.7325276608615\n"
     ]
    }
   ],
   "source": [
    "raw_average_chars = sum([len(speech[\"text\"]) for speech in speeches]) / len(speeches)\n",
    "raw_average_words = sum([len(speech[\"text\"].split()) for speech in speeches]) / len(speeches)\n",
    "\n",
    "print(raw_average_chars)\n",
    "print(raw_average_words)"
   ]
  },
  {
   "cell_type": "code",
   "execution_count": 82,
   "metadata": {},
   "outputs": [
    {
     "output_type": "stream",
     "name": "stdout",
     "text": [
      "4542.28220379565\n515.366862413993\n"
     ]
    }
   ],
   "source": [
    "preproc_average_chars = sum([len(\" \".join(speech[\"text_preproc\"])) for speech in speeches]) / len(speeches)\n",
    "preproc_average_words = sum([len(speech[\"text_preproc\"]) for speech in speeches]) / len(speeches)\n",
    "\n",
    "print(preproc_average_chars)\n",
    "print(preproc_average_words)"
   ]
  },
  {
   "cell_type": "code",
   "execution_count": 79,
   "metadata": {},
   "outputs": [
    {
     "output_type": "execute_result",
     "data": {
      "text/plain": [
       "'pflba comunicacao inadiavel estados bahia ultimos semana recebeu insistir apelo pessoal telefone titulo poupanca banco economia verdade desespero noticia aproxima realizacao negociacao operar transferencia controle acionario banco instalada intervencao notoria banco central estabelecer direito levantamento caderneta poupanca anunciou elevado falouse falouse noticiado autoria suspensao certo intervencao desdobramentos anuncia prestar realizarse operacao grupos privada banco central cuidado elevacao claro suporte risco telefone pessoal procurar excecao viuva funcionarios aposentados normas condicoes recompor modesto poupanca constitui levar banco confio governo bancario cumprimento lembrar governo reiteradamente estimulo poupanca apelo recursos fizeram poupanca seguranca futuro confio ocorreu ocorreu intervencao banco surpresa recebeu poupanca constitui importantes invocar dispositivo legal multiplas setor atividades problema estritamente natureza legal problema etica confio governo confio bancario diferente classe social economicamente fraco depositos modesto renda havera amealhar banco banco economia risco perda crescimento surpresa imprensa noticiado ultimos depositos fundo transformar depositos acoes possibilidade salvacao recursos modesto poupar esperanca invocar dispositivo legal representantes jogo confianca sociedade depositos governo tomada conhecimento destes palavras levar banco central apelo titulo fortunas confio governo banco central fizeram poupanca poupanca admitir encerrarse intervencao realizarse operacao transfere controle acionario banco economia'"
      ]
     },
     "metadata": {},
     "execution_count": 79
    }
   ],
   "source": [
    "\" \".join(speeches[0][\"text_preproc\"])"
   ]
  },
  {
   "cell_type": "code",
   "execution_count": null,
   "metadata": {},
   "outputs": [],
   "source": [
    "ID = \"370609\"\n",
    "INDEX = [i for i, speech in enumerate(speeches) if speech[\"id\"] == ID][0]\n"
   ]
  },
  {
   "cell_type": "code",
   "execution_count": 83,
   "metadata": {},
   "outputs": [
    {
     "output_type": "execute_result",
     "data": {
      "text/plain": [
       "'O SR. GARIBALDI ALVES FILHO  (PMDB - RN. Pronuncia o seguinte discurso. Sem revisão do orador.) - Sr. Presidente, Srªs e Srs. Senadores, esta Casa homenageou hoje o Dia do Professor. Não houve uma sessão especial, mas vários oradores na tribuna exaltaram o papel do professor, seja ele do ensino fundamental, do ensino médio ou do ensino superior. Todos merecem a nossa homenagem no dia de hoje. Creio, Sr. Presidente, que alguns avanços estão sendo registrados no que toca à Educação. Não podemos deixar de dizer, desta tribuna, que o ensino fundamental, com a criação do Fundef, terminou por colocar quase todos os estudantes na sala de aula. O que falta agora, Sr. Presidente Mão Santa, é evitar que esses alunos, numa grande parcela, promovam a evasão da sala de aula. Sabemos muito bem que 95% dos alunos estão matriculados, hoje, no ensino fundamental, mas os índices de evasão e de repetência, que terminam por levar à evasão, comprometem esse esforço que o Governo ou os últimos governos vêm fazendo para universalizar o ensino fundamental. Se nos voltamos para o ensino médio, sabemos que hoje esse é o grande desafio para o Ministério da Educação, para o Ministro Haddad e para o Governo Federal.\\xa0O ensino médio é o grande gargalo que está aí, impedindo que os alunos das escolas públicas possam concorrer com aqueles alunos das escolas particulares. Esses alunos estão sempre levando vantagem sobre os alunos do ensino público. O ensino superior vem se expandindo, mas agora o que estamos vendo é uma expansão do ensino privado em detrimento do ensino superior público. Há uma reação da parte do ensino público. Hoje conversei com o Reitor da Universidade Federal do Rio Grande do Norte, Professor Ivonildo Rêgo, em seu gabinete. Ele\\xa0me disse que o ensino superior passa a ter recursos por meio de um projeto chamado “Reuni”, se não me engano, para expandir o número de alunos do ensino superior. No nosso Rio Grande do Norte, espera-se, Sr. Presidente, uma expansão de 11 mil alunos.  São fatos positivos como esses que me levam a vir a esta tribuna para dizer que é chegada, Senador Mão Santa, a hora de valorizar o professor, porque de nada adiantará uma expansão que não venha ao encontro da melhoria da qualidade do ensino. E só quem pode proporcionar essa melhoria, seja ela no ensino médio, seja ela no ensino superior, seja ela no ensino fundamental é o professor. Mas um professor do ensino superior, ganhando o que ganha, não vai poder, por mais que seja um apaixonado, um dedicado ao ensino e ao ministério de suas aulas, como me dizia recentemente um professor da Universidade do Rio Grande do Norte, depois de 25 anos de serviço, com os mestrados e doutorados que ele já fez, está ganhando R$3.000,00. Isso depois de uma trajetória, Sr. Presidente, de 25 anos em favor do ensino.  Sei que o piso salarial está sendo votado ou foi votado recentemente na Câmara e está vindo para o Senado o projeto que estabelece o piso salarial para o ensino fundamental. Sei que, no ensino médio, as antigas escolas técnicas... Não sei se o Piauí está recebendo um fluxo de novas escolas técnicas. O Rio Grande do Norte está recebendo. Tudo isso faz crer que há avanços na educação.  Falo desta tribuna, hoje, com a responsabilidade de ter sido Governador e ter enfrentado percalços para melhorar a educação e realmente ter me defrontado com a classe dos professores, que chegou, no meu Governo, a fazer uma greve por melhores salários, porque, naquele tempo, eu não tinha condições de atribuir melhores salários aos professores.  Sr. Presidente, não se trata de dizer, agora, que estou atirando com a pólvora alheia, que eu agora, como Senador, estou numa situação muito cômoda e venho falar em nome do professor e solicitar melhores salários para a categoria. Na verdade, o que eu estou dizendo é que já não há mais condições de se adiar uma ampla reforma na educação, passando pelo salário, pelas condições em sala de aula - tudo isso passa pelo salário do professor. Há um desestimulo muito grande, Sr. Presidente! Há um desestimulo muito grande por parte daqueles que continuam nessa belíssima carreira, nessa carreira que, tenho certeza, já povoou de sonhos as cabeças de todos nós, jovens. Quem não foi professor? Quem não sonhou em ser professor?  A própria Senadora Serys Selhessarenko está aqui me dizendo que foi professora durante 26 anos. Ela não pediu aparte, mas disse. Então, o que nós queremos é que se olhe com um olhar todo especial para a situação do professor brasileiro e que esses avanços no ensino superior, no ensino médio, pelo ensino técnico - porque não há outro espaço ainda para a valorização do ensino médio, senão pelo ensino técnico - não deixem de se reproduzirem, mas que tragam no seu bojo, no seu conteúdo, um avanço também na carreira do professor. Muito obrigado, Sr. Presidente.'"
      ]
     },
     "metadata": {},
     "execution_count": 83
    }
   ],
   "source": [
    "speeches[INDEX][\"text\"]"
   ]
  }
 ]
}