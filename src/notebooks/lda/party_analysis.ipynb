{
 "cells": [
  {
   "cell_type": "code",
   "execution_count": 1,
   "metadata": {},
   "outputs": [],
   "source": [
    "import sys\n",
    "import os\n",
    "sys.path.append('../scripts')\n",
    "import pickle\n",
    "import pandas as pd\n",
    "import numpy as np\n",
    "from gensim.models.wrappers import LdaMallet, ldamallet\n",
    "from gensim.corpora.dictionary import Dictionary\n",
    "\n",
    "pd.set_option('display.max_rows', 500)\n",
    "pd.set_option('display.max_columns', 1000)\n",
    "pd.set_option('display.width', 1000)\n",
    "pd.set_option('display.max_colwidth', 1000)"
   ]
  },
  {
   "cell_type": "code",
   "execution_count": 7,
   "metadata": {},
   "outputs": [],
   "source": [
    "def clean_party(party):\n",
    "    # ajustments\n",
    "    if (party == 'DEM' or \n",
    "        party == 'DEMOCRATAS'):\n",
    "        party = 'PFL'\n",
    "\n",
    "    if (party == 'PL' or \n",
    "        party == 'PRONA'):\n",
    "        party = 'PR'\n",
    "        \n",
    "    if (party == 'PDC' or \n",
    "        party == 'PST' or \n",
    "        party == 'PTR' or \n",
    "        party == 'PRB' or \n",
    "        party == 'PPR' or \n",
    "        party == 'PPB' or \n",
    "        party == 'PROGRESSISTAS'):\n",
    "        party = 'PP'\n",
    "\n",
    "    if (party == 'PC DO B'):\n",
    "        party = 'PCdoB'\n",
    "    \n",
    "    if (party == 'PODEMOS'):\n",
    "        party = 'PODE'\n",
    "\n",
    "    if (party == 'S/PARTIDO' or \n",
    "        party == 'S/Partido'):\n",
    "        party = 'S-PARTIDO'\n",
    "\n",
    "    return party"
   ]
  },
  {
   "cell_type": "code",
   "execution_count": 8,
   "metadata": {},
   "outputs": [],
   "source": [
    "ids = []\n",
    "empty_ids = []\n",
    "unique_pts = {}\n",
    "disc_by_pt = {}\n",
    "\n",
    "all_discs = pickle.load(open(\"../../data/discursos_raw_all.pickle\", \"rb\"))\n",
    "\n",
    "for i, disc in enumerate(all_discs):\n",
    "\n",
    "    d = disc[\"IdentificacaoPronunciamento\"]\n",
    "\n",
    "    if 'SiglaPartidoParlamentarNaData' not in d:\n",
    "        empty_ids.append(i)\n",
    "\n",
    "    else:\n",
    "        party = d[\"SiglaPartidoParlamentarNaData\"].strip()\n",
    "            \n",
    "        party = clean_party(party)\n",
    "            \n",
    "        if party not in unique_pts:\n",
    "            unique_pts[party] = 1\n",
    "        else:\n",
    "            unique_pts[party] += 1\n",
    "            \n",
    "        if party not in disc_by_pt:\n",
    "            disc_by_pt[party] = [i]\n",
    "        else:\n",
    "            disc_by_pt[party].append(i) \n",
    "            "
   ]
  },
  {
   "cell_type": "code",
   "execution_count": 9,
   "metadata": {},
   "outputs": [
    {
     "output_type": "execute_result",
     "data": {
      "text/plain": "14556"
     },
     "metadata": {},
     "execution_count": 9
    }
   ],
   "source": [
    "len(disc_by_pt[\"PT\"])"
   ]
  },
  {
   "cell_type": "code",
   "execution_count": 10,
   "metadata": {},
   "outputs": [
    {
     "output_type": "execute_result",
     "data": {
      "text/plain": "         Partido  nº discursos\n0           PSDB         15227\n1           PMDB         15094\n2             PT         14556\n3            PFL         10424\n4            PDT          3690\n5             PP          3229\n6            PSB          3026\n7            PTB          2653\n8             PR          1587\n9          PCdoB          1106\n10           PPS           855\n11          PSOL           755\n12           PSD           510\n13     S-PARTIDO           476\n14          PODE           389\n15           PSC           348\n16           MDB           241\n17            PV           211\n18          PROS           151\n19          REDE           151\n20           PSL           122\n21     CIDADANIA            38\n22           PRN            35\n23           PMN            24\n24      PATRIOTA            21\n25           PMR            13\n26            DC            12\n27           PTC            10\n28           PMB             9\n29           PPL             8\n30          PRTB             4\n31  REPUBLICANOS             3\n32           PDS             1\n33          PTRB             1",
      "text/html": "<div>\n<style scoped>\n    .dataframe tbody tr th:only-of-type {\n        vertical-align: middle;\n    }\n\n    .dataframe tbody tr th {\n        vertical-align: top;\n    }\n\n    .dataframe thead th {\n        text-align: right;\n    }\n</style>\n<table border=\"1\" class=\"dataframe\">\n  <thead>\n    <tr style=\"text-align: right;\">\n      <th></th>\n      <th>Partido</th>\n      <th>nº discursos</th>\n    </tr>\n  </thead>\n  <tbody>\n    <tr>\n      <th>0</th>\n      <td>PSDB</td>\n      <td>15227</td>\n    </tr>\n    <tr>\n      <th>1</th>\n      <td>PMDB</td>\n      <td>15094</td>\n    </tr>\n    <tr>\n      <th>2</th>\n      <td>PT</td>\n      <td>14556</td>\n    </tr>\n    <tr>\n      <th>3</th>\n      <td>PFL</td>\n      <td>10424</td>\n    </tr>\n    <tr>\n      <th>4</th>\n      <td>PDT</td>\n      <td>3690</td>\n    </tr>\n    <tr>\n      <th>5</th>\n      <td>PP</td>\n      <td>3229</td>\n    </tr>\n    <tr>\n      <th>6</th>\n      <td>PSB</td>\n      <td>3026</td>\n    </tr>\n    <tr>\n      <th>7</th>\n      <td>PTB</td>\n      <td>2653</td>\n    </tr>\n    <tr>\n      <th>8</th>\n      <td>PR</td>\n      <td>1587</td>\n    </tr>\n    <tr>\n      <th>9</th>\n      <td>PCdoB</td>\n      <td>1106</td>\n    </tr>\n    <tr>\n      <th>10</th>\n      <td>PPS</td>\n      <td>855</td>\n    </tr>\n    <tr>\n      <th>11</th>\n      <td>PSOL</td>\n      <td>755</td>\n    </tr>\n    <tr>\n      <th>12</th>\n      <td>PSD</td>\n      <td>510</td>\n    </tr>\n    <tr>\n      <th>13</th>\n      <td>S-PARTIDO</td>\n      <td>476</td>\n    </tr>\n    <tr>\n      <th>14</th>\n      <td>PODE</td>\n      <td>389</td>\n    </tr>\n    <tr>\n      <th>15</th>\n      <td>PSC</td>\n      <td>348</td>\n    </tr>\n    <tr>\n      <th>16</th>\n      <td>MDB</td>\n      <td>241</td>\n    </tr>\n    <tr>\n      <th>17</th>\n      <td>PV</td>\n      <td>211</td>\n    </tr>\n    <tr>\n      <th>18</th>\n      <td>PROS</td>\n      <td>151</td>\n    </tr>\n    <tr>\n      <th>19</th>\n      <td>REDE</td>\n      <td>151</td>\n    </tr>\n    <tr>\n      <th>20</th>\n      <td>PSL</td>\n      <td>122</td>\n    </tr>\n    <tr>\n      <th>21</th>\n      <td>CIDADANIA</td>\n      <td>38</td>\n    </tr>\n    <tr>\n      <th>22</th>\n      <td>PRN</td>\n      <td>35</td>\n    </tr>\n    <tr>\n      <th>23</th>\n      <td>PMN</td>\n      <td>24</td>\n    </tr>\n    <tr>\n      <th>24</th>\n      <td>PATRIOTA</td>\n      <td>21</td>\n    </tr>\n    <tr>\n      <th>25</th>\n      <td>PMR</td>\n      <td>13</td>\n    </tr>\n    <tr>\n      <th>26</th>\n      <td>DC</td>\n      <td>12</td>\n    </tr>\n    <tr>\n      <th>27</th>\n      <td>PTC</td>\n      <td>10</td>\n    </tr>\n    <tr>\n      <th>28</th>\n      <td>PMB</td>\n      <td>9</td>\n    </tr>\n    <tr>\n      <th>29</th>\n      <td>PPL</td>\n      <td>8</td>\n    </tr>\n    <tr>\n      <th>30</th>\n      <td>PRTB</td>\n      <td>4</td>\n    </tr>\n    <tr>\n      <th>31</th>\n      <td>REPUBLICANOS</td>\n      <td>3</td>\n    </tr>\n    <tr>\n      <th>32</th>\n      <td>PDS</td>\n      <td>1</td>\n    </tr>\n    <tr>\n      <th>33</th>\n      <td>PTRB</td>\n      <td>1</td>\n    </tr>\n  </tbody>\n</table>\n</div>"
     },
     "metadata": {},
     "execution_count": 10
    }
   ],
   "source": [
    "parties = sorted(unique_pts.items(), key=lambda x: x[1], reverse=True)\n",
    "pd.DataFrame(parties, columns=[\"Partido\", \"nº discursos\"])"
   ]
  },
  {
   "cell_type": "code",
   "execution_count": 13,
   "metadata": {},
   "outputs": [
    {
     "output_type": "execute_result",
     "data": {
      "text/plain": "[('PSDB', 15227),\n ('PMDB', 15094),\n ('PT', 14556),\n ('PFL', 10424),\n ('PDT', 3690),\n ('PP', 3229),\n ('PSB', 3026),\n ('PTB', 2653),\n ('PR', 1587),\n ('PCdoB', 1106),\n ('PPS', 855),\n ('PSOL', 755)]"
     },
     "metadata": {},
     "execution_count": 13
    }
   ],
   "source": [
    "parties[0:12]"
   ]
  },
  {
   "cell_type": "markdown",
   "metadata": {},
   "source": [
    "# Filtrando discursos do PT"
   ]
  },
  {
   "cell_type": "code",
   "execution_count": 14,
   "metadata": {},
   "outputs": [],
   "source": [
    "def get_corpus_dict():\n",
    "    corpus = pickle.load(open('../../data/corpus.pickle', 'rb'))\n",
    "    dictionary = pickle.load((open('../../data/dictionary.pickle', 'rb')))\n",
    "    \n",
    "    return corpus, dictionary\n",
    "\n",
    "def get_topics(lda, num_topics):\n",
    "    res = []\n",
    "    for index, topic in lda.show_topics(formatted=False, num_words= 10, num_topics=num_topics):\n",
    "        res.append([a[0] for a in topic])\n",
    "    \n",
    "    return res"
   ]
  },
  {
   "cell_type": "code",
   "execution_count": 15,
   "metadata": {},
   "outputs": [],
   "source": [
    "corpus, dictionary = get_corpus_dict()"
   ]
  },
  {
   "cell_type": "code",
   "execution_count": 16,
   "metadata": {},
   "outputs": [],
   "source": [
    "num_topics = 400"
   ]
  },
  {
   "cell_type": "code",
   "execution_count": 28,
   "metadata": {
    "scrolled": true
   },
   "outputs": [],
   "source": [
    "for selected_party, _ in parties[0:12]:\n",
    "\n",
    "    model_path = \"../../models/lda_model_400_stem_it_1000.mdl\"\n",
    "\n",
    "    lda_mallet = LdaMallet.load(model_path)\n",
    "    lda = ldamallet.malletmodel2ldamodel(lda_mallet)\n",
    "\n",
    "    topics_map = {}\n",
    "\n",
    "    for i, doc in enumerate(lda[corpus]):\n",
    "        if i not in disc_by_pt[selected_party]:\n",
    "            continue\n",
    "        sorted_doc = sorted(lda[corpus][i], key=lambda x: (x[1]), reverse=True)[0:10]\n",
    "        for topic, weight in sorted_doc:\n",
    "            if topic not in topics_map:\n",
    "                topics_map[topic] = weight\n",
    "            else:\n",
    "                topics_map[topic] += weight\n",
    "\n",
    "    sorted_topics_map = sorted(topics_map.items(), key=lambda x: x[1], reverse=True)\n",
    "\n",
    "    topics = get_topics(lda, num_topics)\n",
    "\n",
    "    for i, row in enumerate(sorted_topics_map):\n",
    "        sorted_topics_map[i] = [row[0], row[1], \", \".join(topics[row[0]])]\n",
    "\n",
    "\n",
    "    with open('party_topics_{}.txt'.format(selected_party), 'a') as f:\n",
    "        f.write('\\t'.join(['i', 'topic', 'value', 'words']) + '\\n')\n",
    "        for i, row in enumerate(sorted_topics_map):\n",
    "            f.write('{}\\t{}\\t{}\\t{}\\n'.format(\n",
    "                i, \n",
    "                row[0], \n",
    "                round(row[1], 2), \n",
    "                row[2]\n",
    "            ))"
   ]
  },
  {
   "cell_type": "code",
   "execution_count": 29,
   "metadata": {},
   "outputs": [
    {
     "data": {
      "text/html": [
       "<div>\n",
       "<style scoped>\n",
       "    .dataframe tbody tr th:only-of-type {\n",
       "        vertical-align: middle;\n",
       "    }\n",
       "\n",
       "    .dataframe tbody tr th {\n",
       "        vertical-align: top;\n",
       "    }\n",
       "\n",
       "    .dataframe thead th {\n",
       "        text-align: right;\n",
       "    }\n",
       "</style>\n",
       "<table border=\"1\" class=\"dataframe\">\n",
       "  <thead>\n",
       "    <tr style=\"text-align: right;\">\n",
       "      <th></th>\n",
       "      <th>Tópico</th>\n",
       "      <th>Peso total</th>\n",
       "      <th>Palavras</th>\n",
       "    </tr>\n",
       "  </thead>\n",
       "  <tbody>\n",
       "    <tr>\n",
       "      <th>0</th>\n",
       "      <td>333</td>\n",
       "      <td>0.106001</td>\n",
       "      <td>maranhao, lobao, edison, senador, presidente, tambem, luis, outro, discurso, haver</td>\n",
       "    </tr>\n",
       "    <tr>\n",
       "      <th>1</th>\n",
       "      <td>350</td>\n",
       "      <td>0.087214</td>\n",
       "      <td>igreja, deus, catolico, papa, padre, religioso, cristao, bispo, jesus, pastor</td>\n",
       "    </tr>\n",
       "    <tr>\n",
       "      <th>2</th>\n",
       "      <td>151</td>\n",
       "      <td>0.068951</td>\n",
       "      <td>senador, casa, senado, amigo, trabalho, agradecer, mandato, obrigar, companheiro, querer</td>\n",
       "    </tr>\n",
       "    <tr>\n",
       "      <th>3</th>\n",
       "      <td>93</td>\n",
       "      <td>0.064518</td>\n",
       "      <td>querer, tambem, agradecer, presidente, registro, cumprimentar, importante, registrar, trabalho, hoje</td>\n",
       "    </tr>\n",
       "    <tr>\n",
       "      <th>4</th>\n",
       "      <td>270</td>\n",
       "      <td>0.056704</td>\n",
       "      <td>senador, helio, nobre, jose, presidente, querer, importante, entao, questao, casa</td>\n",
       "    </tr>\n",
       "    <tr>\n",
       "      <th>5</th>\n",
       "      <td>132</td>\n",
       "      <td>0.048521</td>\n",
       "      <td>voce, gente, falar, querer, entao, olhar, pessoa, achar, ficar, mundo</td>\n",
       "    </tr>\n",
       "    <tr>\n",
       "      <th>6</th>\n",
       "      <td>153</td>\n",
       "      <td>0.044389</td>\n",
       "      <td>senhor, senador, presidente, aspa, senado, abrir, figueiro, palavra, discurso, falar</td>\n",
       "    </tr>\n",
       "    <tr>\n",
       "      <th>7</th>\n",
       "      <td>102</td>\n",
       "      <td>0.036593</td>\n",
       "      <td>joao, senador, presidente, alberto, batista, motta, souza, obrigar, pronunciar, tenorio</td>\n",
       "    </tr>\n",
       "    <tr>\n",
       "      <th>8</th>\n",
       "      <td>286</td>\n",
       "      <td>0.024801</td>\n",
       "      <td>filho, familia, vida, casa, irmao, amigo, neto, esposa, trabalhar, marisa</td>\n",
       "    </tr>\n",
       "    <tr>\n",
       "      <th>9</th>\n",
       "      <td>51</td>\n",
       "      <td>0.023119</td>\n",
       "      <td>senado, casa, federal, senador, mesa, plenario, diretora, gabinete, trabalho, presidencia</td>\n",
       "    </tr>\n",
       "  </tbody>\n",
       "</table>\n",
       "</div>"
      ],
      "text/plain": [
       "   Tópico  Peso total                                                                                              Palavras\n",
       "0     333    0.106001                    maranhao, lobao, edison, senador, presidente, tambem, luis, outro, discurso, haver\n",
       "1     350    0.087214                         igreja, deus, catolico, papa, padre, religioso, cristao, bispo, jesus, pastor\n",
       "2     151    0.068951              senador, casa, senado, amigo, trabalho, agradecer, mandato, obrigar, companheiro, querer\n",
       "3      93    0.064518  querer, tambem, agradecer, presidente, registro, cumprimentar, importante, registrar, trabalho, hoje\n",
       "4     270    0.056704                     senador, helio, nobre, jose, presidente, querer, importante, entao, questao, casa\n",
       "5     132    0.048521                                 voce, gente, falar, querer, entao, olhar, pessoa, achar, ficar, mundo\n",
       "6     153    0.044389                  senhor, senador, presidente, aspa, senado, abrir, figueiro, palavra, discurso, falar\n",
       "7     102    0.036593               joao, senador, presidente, alberto, batista, motta, souza, obrigar, pronunciar, tenorio\n",
       "8     286    0.024801                             filho, familia, vida, casa, irmao, amigo, neto, esposa, trabalhar, marisa\n",
       "9      51    0.023119             senado, casa, federal, senador, mesa, plenario, diretora, gabinete, trabalho, presidencia"
      ]
     },
     "execution_count": 29,
     "metadata": {},
     "output_type": "execute_result"
    }
   ],
   "source": [
    "pd.DataFrame(sorted_topics_map, columns=[\"Tópico\", \"Peso total\", \"Palavras\"])"
   ]
  },
  {
   "cell_type": "code",
   "execution_count": 70,
   "metadata": {},
   "outputs": [
    {
     "data": {
      "text/plain": [
       "'i\\ntopic\\nvalue\\nwords'"
      ]
     },
     "execution_count": 70,
     "metadata": {},
     "output_type": "execute_result"
    }
   ],
   "source": [
    "'\\n'.join(['i', 'topic', 'value', 'words'])"
   ]
  }
 ],
 "metadata": {
  "kernelspec": {
   "display_name": "Python 3",
   "language": "python",
   "name": "python3"
  },
  "language_info": {
   "codemirror_mode": {
    "name": "ipython",
    "version": 3
   },
   "file_extension": ".py",
   "mimetype": "text/x-python",
   "name": "python",
   "nbconvert_exporter": "python",
   "pygments_lexer": "ipython3",
   "version": "3.7.6-final"
  }
 },
 "nbformat": 4,
 "nbformat_minor": 2
}